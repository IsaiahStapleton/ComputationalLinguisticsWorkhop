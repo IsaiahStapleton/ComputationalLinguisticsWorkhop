{
 "cells": [
  {
   "attachments": {},
   "cell_type": "markdown",
   "metadata": {},
   "source": [
    "# Data Science Club Spring 2023 - Computational Linguistics Workshop \n",
    "## Speaker: Isaiah Stapleton"
   ]
  },
  {
   "cell_type": "code",
   "execution_count": 1,
   "metadata": {},
   "outputs": [],
   "source": [
    "import nltk\n",
    "from nltk.tokenize import word_tokenize\n",
    "from nltk.stem import WordNetLemmatizer\n",
    "import re\n",
    "import pandas as pd\n",
    "import random\n",
    "import ast\n",
    "from nltk.sentiment import SentimentIntensityAnalyzer\n",
    "import gensim\n",
    "from gensim.utils import simple_preprocess\n",
    "from gensim.parsing.preprocessing import STOPWORDS\n",
    "from gensim import corpora, models\n",
    "import pyLDAvis\n",
    "import pyLDAvis.gensim\n",
    "from gensim.models.ldamodel import LdaModel\n",
    "import pyLDAvis.gensim_models as gensimvis\n",
    "from sumy.parsers.plaintext import PlaintextParser\n",
    "from sumy.nlp.tokenizers import Tokenizer\n",
    "from sumy.summarizers.lsa import LsaSummarizer\n",
    "from sumy.utils import get_stop_words\n"
   ]
  },
  {
   "cell_type": "markdown",
   "metadata": {},
   "source": [
    "# Corpus"
   ]
  },
  {
   "cell_type": "code",
   "execution_count": 2,
   "metadata": {},
   "outputs": [
    {
     "data": {
      "text/plain": [
       "['austen-emma.txt',\n",
       " 'austen-persuasion.txt',\n",
       " 'austen-sense.txt',\n",
       " 'bible-kjv.txt',\n",
       " 'blake-poems.txt',\n",
       " 'bryant-stories.txt',\n",
       " 'burgess-busterbrown.txt',\n",
       " 'carroll-alice.txt',\n",
       " 'chesterton-ball.txt',\n",
       " 'chesterton-brown.txt',\n",
       " 'chesterton-thursday.txt',\n",
       " 'edgeworth-parents.txt',\n",
       " 'melville-moby_dick.txt',\n",
       " 'milton-paradise.txt',\n",
       " 'shakespeare-caesar.txt',\n",
       " 'shakespeare-hamlet.txt',\n",
       " 'shakespeare-macbeth.txt',\n",
       " 'whitman-leaves.txt']"
      ]
     },
     "execution_count": 2,
     "metadata": {},
     "output_type": "execute_result"
    }
   ],
   "source": [
    "nltk.corpus.gutenberg.fileids()"
   ]
  },
  {
   "cell_type": "code",
   "execution_count": 3,
   "metadata": {},
   "outputs": [],
   "source": [
    "corpus = nltk.corpus.gutenberg.words('shakespeare-caesar.txt')"
   ]
  },
  {
   "cell_type": "code",
   "execution_count": 4,
   "metadata": {},
   "outputs": [],
   "source": [
    "corpus = \" \".join(corpus)"
   ]
  },
  {
   "cell_type": "code",
   "execution_count": 5,
   "metadata": {
    "scrolled": true,
    "tags": []
   },
   "outputs": [
    {
     "data": {
      "text/plain": [
       "\"[ The Tragedie of Julius Caesar by William Shakespeare 1599 ] Actus Primus . Scoena Prima . Enter Flauius , Murellus , and certaine Commoners ouer the Stage . Flauius . Hence : home you idle Creatures , get you home : Is this a Holiday ? What , know you not ( Being Mechanicall ) you ought not walke Vpon a labouring day , without the signe Of your Profession ? Speake , what Trade art thou ? Car . Why Sir , a Carpenter Mur . Where is thy Leather Apron , and thy Rule ? What dost thou with thy best Apparrell on ? You sir , what Trade are you ? Cobl . Truely Sir , in respect of a fine Workman , I am but as you would say , a Cobler Mur . But what Trade art thou ? Answer me directly Cob . A Trade Sir , that I hope I may vse , with a safe Conscience , which is indeed Sir , a Mender of bad soules Fla . What Trade thou knaue ? Thou naughty knaue , what Trade ? Cobl . Nay I beseech you Sir , be not out with me : yet if you be out Sir , I can mend you Mur . What mean ' st thou by that ? Mend mee , thou sawcy Fellow ? Cob . Why sir , Cobble you Fla . Thou art a Cobler , art thou ? Cob . Truly sir , all that I liue by , is with the Aule : I meddle with no Tradesmans matters , nor womens matters ; but withal I am indeed Sir , a Surgeon to old shooes : when they are in great danger , I recouer them . As proper men as euer trod vpon Neats Leather , haue gone vpon my handy - worke Fla . But wherefore art not in thy Shop to day ? Why do ' st thou leade these men about the streets ? Cob . Truly sir , to weare out their shooes , to get my selfe into more worke . But indeede sir , we make Holyday to see Caesar , and to reioyce in his Triumph Mur . Wherefore reioyce ? What Conquest brings he home ? What Tributaries follow him to Rome , To grace in Captiue bonds his Chariot Wheeles ? You Blockes , you stones , you worse then senslesse things : O you hard hearts , you cruell men of Rome , Knew you not Pompey many a time and oft ? Haue you climb ' d vp to Walles and Battlements , To Towres and Windowes ? Yea , to Chimney tops , Your Infants in your Armes , and there haue sate The liue - long day , with patient expectation , To see great Pompey passe the streets of Rome : And when you saw his Chariot but appeare , Haue you not made an Vniuersall shout , That Tyber trembled vnderneath her bankes To heare the replication of your sounds , Made in her Concaue Shores ? And do you now put on your best attyre ? And do you now cull out a Holyday ? And do you now strew Flowers in his way , That comes in Triumph ouer Pompeyes blood ? Be gone , Runne to your houses , fall vpon your knees , Pray to the Gods to intermit the plague That needs must light on this Ingratitude Fla . Go , go , good Countrymen , and for this fault Assemble all the poore men of your sort ; Draw them to Tyber bankes , and weepe your teares Into the Channell , till the lowest streame Do kisse the most exalted Shores of all . Exeunt . all the Commoners . See where their basest mettle be not mou ' d , They vanish tongue - tyed in their guiltinesse : Go you downe that way towards the Capitoll , This way will I : Disrobe the Images , If you do finde them deckt with Ceremonies Mur . May we do so ? You know it is the Feast of Lupercall Fla . It is no matter , let no Images Be hung with Caesars Trophees : Ile about , And driue away the Vulgar from the streets ; So do you too , where you perceiue them thicke . These growing Feathers , pluckt from Caesars wing , Will make him flye an ordinary pitch , Who else would soare aboue the view of men , And keepe vs all in seruile fearefulnesse . Exeunt . Enter Caesar , Antony for the Course , Calphurnia , Portia , Decius , Cicero , Brutus , Cassius , Caska , a Soothsayer : after them Murellus and Flauius . Caes . Calphurnia Cask . Peace ho , Caesar speakes Caes . Calphurnia Calp . Heere my Lord Caes . Stand you directly in Antonio ' s way , When he doth run his course . Antonio Ant . Cæsar , my Lord Caes . Forget not in your speed Antonio , To touch Calphurnia : for our Elders say , The Barren touched in this holy chace , Shake off their sterrile curse Ant . I shall remember , When Caesar sayes , Do this ; it is perform ' d Caes . Set on , and leaue no Ceremony out Sooth . Caesar Caes . Ha ? Who calles ? Cask . Bid euery noyse be still : peace yet againe Caes . Who is it in the presse , that calles on me ? I heare a Tongue shriller then all the Musicke Cry , Caesar : Speake , Caesar is turn ' d to heare Sooth . Beware the Ides of March Caes . What man is that ? Br . A Sooth - sayer bids you beware the Ides of March Caes . Set him before me , let me see his face Cassi . Fellow , come from the throng , look vpon Caesar Caes . What sayst thou to me now ? Speak once againe , Sooth . Beware the Ides of March Caes . He is a Dreamer , let vs leaue him : Passe . Sennet Exeunt . Manet Brut . & Cass . Cassi . Will you go see the order of the course ? Brut . Not I Cassi . I pray you do Brut . I am not Gamesom : I do lacke some part Of that quicke Spirit that is in Antony : Let me not hinder Cassius your desires ; Ile leaue you Cassi . Brutus , I do obserue you now of late : I haue not from your eyes , that gentlenesse And shew of Loue , as I was wont to haue : You beare too stubborne , and too strange a hand Ouer your Friend , that loues you Bru . Cassius , Be not deceiu ' d : If I haue veyl ' d my looke , I turne the trouble of my Countenance Meerely vpon my selfe . Vexed I am Of late , with passions of some difference , Conceptions onely proper to my selfe , Which giue some soyle ( perhaps ) to my Behauiours : But let not therefore my good Friends be greeu ' d ( Among which number Cassius be you one ) Nor construe any further my neglect , Then that poore Brutus with himselfe at warre , Forgets the shewes of Loue to other men Cassi . Then Brutus , I haue much mistook your passion , By meanes whereof , this Brest of mine hath buried Thoughts of great value , worthy Cogitations . Tell me good Brutus , Can you see your face ? Brutus . No Cassius : For the eye sees not it selfe but by reflection , By some other things Cassius . ' Tis iust , And it is very much lamented Brutus , That you haue no such Mirrors , as will turne Your hidden worthinesse into your eye , That you might see your shadow : I haue heard , Where many of the best respect in Rome , ( Except immortall Caesar ) speaking of Brutus , And groaning vnderneath this Ages yoake , Haue wish ' d , that Noble Brutus had his eyes Bru . Into what dangers , would you Leade me Cassius ? That you would haue me seeke into my selfe , For that which is not in me ? Cas . Therefore good Brutus , be prepar ' d to heare : And since you know , you cannot see your selfe So well as by Reflection ; I your Glasse , Will modestly discouer to your selfe That of your selfe , which you yet know not of . And be not iealous on me , gentle Brutus : Were I a common Laughter , or did vse To stale with ordinary Oathes my loue To euery new Protester : if you know , That I do fawne on men , and hugge them hard , And after scandall them : Or if you know , That I professe my selfe in Banquetting To all the Rout , then hold me dangerous . Flourish , and Shout . Bru . What meanes this Showting ? I do feare , the People choose Caesar For their King Cassi . I , do you feare it ? Then must I thinke you would not haue it so Bru . I would not Cassius , yet I loue him well : But wherefore do you hold me heere so long ? What is it , that you would impart to me ? If it be ought toward the generall good , Set Honor in one eye , and Death i ' th other , And I will looke on both indifferently : For let the Gods so speed mee , as I loue The name of Honor , more then I feare death Cassi . I know that vertue to be in you Brutus , As well as I do know your outward fauour . Well , Honor is the subiect of my Story : I cannot tell , what you and other men Thinke of this life : But for my single selfe , I had as liefe not be , as liue to be In awe of such a Thing , as I my selfe . I was borne free as Caesar , so were you , We both haue fed as well , and we can both Endure the Winters cold , as well as hee . For once , vpon a Rawe and Gustie day , The troubled Tyber , chafing with her Shores , Caesar saide to me , Dar ' st thou Cassius now Leape in with me into this angry Flood , And swim to yonder Point ? Vpon the word , Accoutred as I was , I plunged in , And bad him follow : so indeed he did . The Torrent roar ' d , and we did buffet it With lusty Sinewes , throwing it aside , And stemming it with hearts of Controuersie . But ere we could arriue the Point propos ' d , Caesar cride , Helpe me Cassius , or I sinke . I ( as Aeneas , our great Ancestor , Did from the Flames of Troy , vpon his shoulder The old Anchyses beare ) so , from the waues of Tyber Did I the tyred Caesar : And this Man , Is now become a God , and Cassius is A wretched Creature , and must bend his body , If Caesar carelesly but nod on him . He had a Feauer when he was in Spaine , And when the Fit was on him , I did marke How he did shake : Tis true , this God did shake , His Coward lippes did from their colour flye , And that same Eye , whose bend doth awe the World , Did loose his Lustre : I did heare him grone : I , and that Tongue of his , that bad the Romans Marke him , and write his Speeches in their Bookes , Alas , it cried , Giue me some drinke Titinius , As a sicke Girle : Ye Gods , it doth amaze me , A man of such a feeble temper should So get the start of the Maiesticke world , And beare the Palme alone . Shout . Flourish . Bru . Another generall shout ? I do beleeue , that these applauses are For some new Honors , that are heap ' d on Caesar Cassi . Why man , he doth bestride the narrow world Like a Colossus , and we petty men Walke vnder his huge legges , and peepe about To finde our selues dishonourable Graues . Men at sometime , are Masters of their Fates . The fault ( deere Brutus ) is not in our Starres , But in our Selues , that we are vnderlings . Brutus and Caesar : What should be in that Caesar ? Why should that name be sounded more then yours Write them together : Yours , is as faire a Name : Sound them , it doth become the mouth aswell : Weigh them , it is as heauy : Coniure with ' em , Brutus will start a Spirit as soone as Caesar . Now in the names of all the Gods at once , Vpon what meate doth this our Caesar feede , That he is growne so great ? Age , thou art sham ' d . Rome , thou hast lost the breed of Noble Bloods . When went there by an Age , since the great Flood , But it was fam ' d with more then with one man ? When could they say ( till now ) that talk ' d of Rome , That her wide Walkes incompast but one man ? Now is it Rome indeed , and Roome enough When there is in it but one onely man . O ! you and I , haue heard our Fathers say , There was a Brutus once , that would haue brook ' d Th ' eternall Diuell to keepe his State in Rome , As easily as a King Bru . That you do loue me , I am nothing iealous : What you would worke me too , I haue some ayme : How I haue thought of this , and of these times I shall recount heereafter . For this present , I would not so ( with loue I might intreat you ) Be any further moou ' d : What you haue said , I will consider : what you haue to say I will with patience heare , and finde a time Both meete to heare , and answer such high things . Till then , my Noble Friend , chew vpon this : Brutus had rather be a Villager , Then to repute himselfe a Sonne of Rome Vnder these hard Conditions , as this time Is like to lay vpon vs Cassi . I am glad that my weake words Haue strucke but thus much shew of fire from Brutus , Enter Caesar and his Traine . Bru . The Games are done , And Caesar is returning Cassi . As they passe by , Plucke Caska by the Sleeue , And he will ( after his sowre fashion ) tell you What hath proceeded worthy note to day Bru . I will do so : but looke you Cassius , The angry spot doth glow on Caesars brow , And all the rest , looke like a chidden Traine ; Calphurnia ' s Cheeke is pale , and Cicero Lookes with such Ferret , and such fiery eyes As we haue seene him in the Capitoll Being crost in Conference , by some Senators Cassi . Caska will tell vs what the matter is Caes Antonio Ant . Caesar Caes Let me haue men about me , that are fat , Sleeke - headed men , and such as sleepe a - nights : Yond Cassius has a leane and hungry looke , He thinkes too much : such men are dangerous Ant . Feare him not Caesar , he ' s not dangerous , He is a Noble Roman , and well giuen Caes Would he were fatter ; But I feare him not : Yet if my name were lyable to feare , I do not know the man I should auoyd So soone as that spare Cassius . He reades much , He is a great Obseruer , and he lookes Quite through the Deeds of men . He loues no Playes , As thou dost Antony : he heares no Musicke ; Seldome he smiles , and smiles in such a sort As if he mock ' d himselfe , and scorn ' d his spirit That could be mou ' d to smile at any thing . Such men as he , be neuer at hearts ease , Whiles they behold a greater then themselues , And therefore are they very dangerous . I rather tell thee what is to be fear ' d , Then what I feare : for alwayes I am Caesar . Come on my right hand , for this eare is deafe , And tell me truely , what thou think ' st of him . Sennit . Exeunt . Caesar and his Traine . Cask . You pul ' d me by the cloake , would you speake with me ? Bru . I Caska , tell vs what hath chanc ' d to day That Caesar lookes so sad Cask . Why you were with him , were you not ? Bru . I should not then aske Caska what had chanc ' d Cask . Why there was a Crowne offer ' d him ; & being offer ' d him , he put it by with the backe of his hand thus , and then the people fell a shouting Bru . What was the second noyse for ? Cask . Why for that too Cassi . They shouted thrice : what was the last cry for ? Cask . Why for that too Bru . Was the Crowne offer ' d him thrice ? Cask . I marry was ' t , and hee put it by thrice , euerie time gentler then other ; and at euery putting by , mine honest Neighbors showted Cassi . Who offer ' d him the Crowne ? Cask . Why Antony Bru . Tell vs the manner of it , gentle Caska Caska . I can as well bee hang ' d as tell the manner of it : It was meere Foolerie , I did not marke it . I sawe Marke Antony offer him a Crowne , yet ' twas not a Crowne neyther , ' twas one of these Coronets : and as I told you , hee put it by once : but for all that , to my thinking , he would faine haue had it . Then hee offered it to him againe : then hee put it by againe : but to my thinking , he was very loath to lay his fingers off it . And then he offered it the third time ; hee put it the third time by , and still as hee refus ' d it , the rabblement howted , and clapp ' d their chopt hands , and threw vppe their sweatie Night - cappes , and vttered such a deale of stinking breath , because Caesar refus ' d the Crowne , that it had ( almost ) choaked Caesar : for hee swoonded , and fell downe at it : And for mine owne part , I durst not laugh , for feare of opening my Lippes , and receyuing the bad Ayre Cassi . But soft I pray you : what , did Caesar swound ? Cask . He fell downe in the Market - place , and foam ' d at mouth , and was speechlesse Brut . ' Tis very like he hath the Falling sicknesse Cassi . No , Caesar hath it not : but you , and I , And honest Caska , we haue the Falling sicknesse Cask . I know not what you meane by that , but I am sure Caesar fell downe . If the tag - ragge people did not clap him , and hisse him , according as he pleas ' d , and displeas ' d them , as they vse to doe the Players in the Theatre , I am no true man Brut . What said he , when he came vnto himselfe ? Cask . Marry , before he fell downe , when he perceiu ' d the common Heard was glad he refus ' d the Crowne , he pluckt me ope his Doublet , and offer ' d them his Throat to cut : and I had beene a man of any Occupation , if I would not haue taken him at a word , I would I might goe to Hell among the Rogues , and so hee fell . When he came to himselfe againe , hee said , If hee had done , or said any thing amisse , he desir ' d their Worships to thinke it was his infirmitie . Three or foure Wenches where I stood , cryed , Alasse good Soule , and forgaue him with all their hearts : But there ' s no heed to be taken of them ; if Caesar had stab ' d their Mothers , they would haue done no lesse Brut . And after that , he came thus sad away Cask . I Cassi . Did Cicero say any thing ? Cask . I , he spoke Greeke Cassi . To what effect ? Cask . Nay , and I tell you that , Ile ne ' re looke you i ' th ' face againe . But those that vnderstood him , smil ' d at one another , and shooke their heads : but for mine owne part , it was Greeke to me . I could tell you more newes too : Murrellus and Flauius , for pulling Scarffes off Caesars Images , are put to silence . Fare you well . There was more Foolerie yet , if I could remember it Cassi . Will you suppe with me to Night , Caska ? Cask . No , I am promis ' d forth Cassi . Will you Dine with me to morrow ? Cask . I , if I be aliue , and your minde hold , and your Dinner worth the eating Cassi . Good , I will expect you Cask . Doe so : farewell both . Enter . Brut . What a blunt fellow is this growne to be ? He was quick Mettle , when he went to Schoole Cassi . So is he now , in execution Of any bold , or Noble Enterprize , How - euer he puts on this tardie forme : This Rudenesse is a Sawce to his good Wit , Which giues men stomacke to disgest his words With better Appetite Brut . And so it is : For this time I will leaue you : To morrow , if you please to speake with me , I will come home to you : or if you will , Come home to me , and I will wait for you Cassi . I will doe so : till then , thinke of the World . Exit Brutus . Well Brutus , thou art Noble : yet I see , Thy Honorable Mettle may be wrought From that it is dispos ' d : therefore it is meet , That Noble mindes keepe euer with their likes : For who so firme , that cannot be seduc ' d ? Caesar doth beare me hard , but he loues Brutus . If I were Brutus now , and he were Cassius , He should not humor me . I will this Night , In seuerall Hands , in at his Windowes throw , As if they came from seuerall Citizens , Writings , all tending to the great opinion That Rome holds of his Name : wherein obscurely Caesars Ambition shall be glanced at . And after this , let Caesar seat him sure , For wee will shake him , or worse dayes endure . Enter . Thunder , and Lightning . Enter Caska , and Cicero . Cic . Good euen , Caska : brought you Caesar home ? Why are you breathlesse , and why stare you so ? Cask . Are not you mou ' d , when all the sway of Earth Shakes , like a thing vnfirme ? O Cicero , I haue seene Tempests , when the scolding Winds Haue riu ' d the knottie Oakes , and I haue seene Th ' ambitious Ocean swell , and rage , and foame , To be exalted with the threatning Clouds : But neuer till to Night , neuer till now , Did I goe through a Tempest - dropping - fire . Eyther there is a Ciuill strife in Heauen , Or else the World , too sawcie with the Gods , Incenses them to send destruction Cic . Why , saw you any thing more wonderfull ? Cask . A common slaue , you know him well by sight , Held vp his left Hand , which did flame and burne Like twentie Torches ioyn ' d ; and yet his Hand , Not sensible of fire , remain ' d vnscorch ' d . Besides , I ha ' not since put vp my Sword , Against the Capitoll I met a Lyon , Who glaz ' d vpon me , and went surly by , Without annoying me . And there were drawne Vpon a heape , a hundred gastly Women , Transformed with their feare , who swore , they saw Men , all in fire , walke vp and downe the streetes . And yesterday , the Bird of Night did sit , Euen at Noone - day , vpon the Market place , Howting , and shreeking . When these Prodigies Doe so conioyntly meet , let not men say , These are their Reasons , they are Naturall : For I beleeue , they are portentous things Vnto the Clymate , that they point vpon Cic . Indeed , it is a strange disposed time : But men may construe things after their fashion , Cleane from the purpose of the things themselues . Comes Caesar to the Capitoll to morrow ? Cask . He doth : for he did bid Antonio Send word to you , he would be there to morrow Cic . Good - night then , Caska : This disturbed Skie is not to walke in Cask . Farewell Cicero . Exit Cicero . Enter Cassius . Cassi . Who ' s there ? Cask . A Romane Cassi . Caska , by your Voyce Cask . Your Eare is good . Cassius , what Night is this ? Cassi . A very pleasing Night to honest men Cask . Who euer knew the Heauens menace so ? Cassi . Those that haue knowne the Earth so full of faults . For my part , I haue walk ' d about the streets , Submitting me vnto the perillous Night ; And thus vnbraced , Caska , as you see , Haue bar ' d my Bosome to the Thunder - stone : And when the crosse blew Lightning seem ' d to open The Brest of Heauen , I did present my selfe Euen in the ayme , and very flash of it Cask . But wherefore did you so much tempt the Heauens ? It is the part of men , to feare and tremble , When the most mightie Gods , by tokens send Such dreadfull Heraulds , to astonish vs Cassi . You are dull , Caska : And those sparkes of Life , that should be in a Roman , You doe want , or else you vse not . You looke pale , and gaze , and put on feare , And cast your selfe in wonder , To see the strange impatience of the Heauens : But if you would consider the true cause , Why all these Fires , why all these gliding Ghosts , Why Birds and Beasts , from qualitie and kinde , Why Old men , Fooles , and Children calculate , Why all these things change from their Ordinance , Their Natures , and pre - formed Faculties , To monstrous qualitie ; why you shall finde , That Heauen hath infus ' d them with these Spirits , To make them Instruments of feare , and warning , Vnto some monstrous State . Now could I ( Caska ) name to thee a man , Most like this dreadfull Night , That Thunders , Lightens , opens Graues , and roares , As doth the Lyon in the Capitoll : A man no mightier then thy selfe , or me , In personall action ; yet prodigious growne , And fearefull , as these strange eruptions are Cask . ' Tis Caesar that you meane : Is it not , Cassius ? Cassi . Let it be who it is : for Romans now Haue Thewes , and Limbes , like to their Ancestors ; But woe the while , our Fathers mindes are dead , And we are gouern ' d with our Mothers spirits , Our yoake , and sufferance , shew vs Womanish Cask . Indeed , they say , the Senators to morrow Meane to establish Caesar as a King : And he shall weare his Crowne by Sea , and Land , In euery place , saue here in Italy Cassi . I know where I will weare this Dagger then ; Cassius from Bondage will deliuer Cassius : Therein , yee Gods , you make the weake most strong ; Therein , yee Gods , you Tyrants doe defeat . Nor Stonie Tower , nor Walls of beaten Brasse , Nor ayre - lesse Dungeon , nor strong Linkes of Iron , Can be retentiue to the strength of spirit : But Life being wearie of these worldly Barres , Neuer lacks power to dismisse it selfe . If I know this , know all the World besides , That part of Tyrannie that I doe beare , I can shake off at pleasure . Thunder still . Cask . So can I : So euery Bond - man in his owne hand beares The power to cancell his Captiuitie Cassi . And why should Cæsar be a Tyrant then ? Poore man , I know he would not be a Wolfe , But that he sees the Romans are but Sheepe : He were no Lyon , were not Romans Hindes . Those that with haste will make a mightie fire , Begin it with weake Strawes . What trash is Rome ? What Rubbish , and what Offall ? when it serues For the base matter , to illuminate So vile a thing as Caesar . But oh Griefe , Where hast thou led me ? I ( perhaps ) speake this Before a willing Bond - man : then I know My answere must be made . But I am arm ' d , And dangers are to me indifferent Cask . You speake to Caska , and to such a man , That is no flearing Tell - tale . Hold , my Hand : Be factious for redresse of all these Griefes , And I will set this foot of mine as farre , As who goes farthest Cassi . There ' s a Bargaine made . Now know you , Caska , I haue mou ' d already Some certaine of the Noblest minded Romans To vnder - goe , with me , an Enterprize , Of Honorable dangerous consequence ; And I doe know by this , they stay for me In Pompeyes Porch : for now this fearefull Night , There is no stirre , or walking in the streetes ; And the Complexion of the Element Is Fauors , like the Worke we haue in hand , Most bloodie , fierie , and most terrible . Enter Cinna . Caska . Stand close a while , for heere comes one in haste Cassi . ' Tis Cinna , I doe know him by his Gate , He is a friend . Cinna , where haste you so ? Cinna . To finde out you : Who ' s that , Metellus Cymber ? Cassi . No , it is Caska , one incorporate To our Attempts . Am I not stay ' d for , Cinna ? Cinna . I am glad on ' t . What a fearefull Night is this ? There ' s two or three of vs haue seene strange sights Cassi . Am I not stay ' d for ? tell me Cinna . Yes , you are . O Cassius , If you could but winne the Noble Brutus To our party - Cassi . Be you content . Good Cinna , take this Paper , And looke you lay it in the Pretors Chayre , Where Brutus may but finde it : and throw this In at his Window ; set this vp with Waxe Vpon old Brutus Statue : all this done , Repaire to Pompeyes Porch , where you shall finde vs . Is Decius Brutus and Trebonius there ? Cinna . All , but Metellus Cymber , and hee ' s gone To seeke you at your house . Well , I will hie , And so bestow these Papers as you bad me Cassi . That done , repayre to Pompeyes Theater . Exit Cinna . Come Caska , you and I will yet , ere day , See Brutus at his house : three parts of him Is ours alreadie , and the man entire Vpon the next encounter , yeelds him ours Cask . O , he sits high in all the Peoples hearts : And that which would appeare Offence in vs , His Countenance , like richest Alchymie , Will change to Vertue , and to Worthinesse Cassi . Him , and his worth , and our great need of him , You haue right well conceited : let vs goe , For it is after Mid - night , and ere day , We will awake him , and be sure of him . Exeunt . Actus Secundus . Enter Brutus in his Orchard . Brut . What Lucius , hoe ? I cannot , by the progresse of the Starres , Giue guesse how neere to day - Lucius , I say ? I would it were my fault to sleepe so soundly . When Lucius , when ? awake , I say : what Lucius ? Enter Lucius . Luc . Call ' d you , my Lord ? Brut . Get me a Tapor in my Study , Lucius : When it is lighted , come and call me here Luc . I will , my Lord . Enter . Brut . It must be by his death : and for my part , I know no personall cause , to spurne at him , But for the generall . He would be crown ' d : How that might change his nature , there ' s the question ? It is the bright day , that brings forth the Adder , And that craues warie walking : Crowne him that , And then I graunt we put a Sting in him , That at his will he may doe danger with . Th ' abuse of Greatnesse , is , when it dis - ioynes Remorse from Power : And to speake truth of Caesar , I haue not knowne , when his Affections sway ' d More then his Reason . But ' tis a common proofe , That Lowlynesse is young Ambitions Ladder , Whereto the Climber vpward turnes his Face : But when he once attaines the vpmost Round , He then vnto the Ladder turnes his Backe , Lookes in the Clouds , scorning the base degrees By which he did ascend : so Caesar may ; Then least he may , preuent . And since the Quarrell Will beare no colour , for the thing he is , Fashion it thus ; that what he is , augmented , Would runne to these , and these extremities : And therefore thinke him as a Serpents egge , Which hatch ' d , would as his kinde grow mischieuous ; And kill him in the shell . Enter Lucius . Luc . The Taper burneth in your Closet , Sir : Searching the Window for a Flint , I found This Paper , thus seal ' d vp , and I am sure It did not lye there when I went to Bed . Giues him the Letter . Brut . Get you to Bed againe , it is not day : Is not to morrow ( Boy ) the first of March ? Luc . I know not , Sir Brut . Looke in the Calender , and bring me word Luc . I will , Sir . Enter . Brut . The exhalations , whizzing in the ayre , Giue so much light , that I may reade by them . Opens the Letter , and reades . Brutus thou sleep ' st ; awake , and see thy selfe : Shall Rome , & c . speake , strike , redresse . Brutus , thou sleep ' st : awake . Such instigations haue beene often dropt , Where I haue tooke them vp : Shall Rome , & c . Thus must I piece it out : Shall Rome stand vnder one mans awe ? What Rome ? My Ancestors did from the streetes of Rome The Tarquin driue , when he was call ' d a King . Speake , strike , redresse . Am I entreated To speake , and strike ? O Rome , I make thee promise , If the redresse will follow , thou receiuest Thy full Petition at the hand of Brutus . Enter Lucius . Luc . Sir , March is wasted fifteene dayes . Knocke within . Brut . ' Tis good . Go to the Gate , some body knocks : Since Cassius first did whet me against Caesar , I haue not slept . Betweene the acting of a dreadfull thing , And the first motion , all the Interim is Like a Phantasma , or a hideous Dreame : The Genius , and the mortall Instruments Are then in councell ; and the state of a man , Like to a little Kingdome , suffers then The nature of an Insurrection . Enter Lucius . Luc . Sir , ' tis your Brother Cassius at the Doore , Who doth desire to see you Brut . Is he alone ? Luc . No , Sir , there are moe with him Brut . Doe you know them ? Luc . No , Sir , their Hats are pluckt about their Eares , And halfe their Faces buried in their Cloakes , That by no meanes I may discouer them , By any marke of fauour Brut . Let ' em enter : They are the Faction . O Conspiracie , Sham ' st thou to shew thy dang ' rous Brow by Night , When euills are most free ? O then , by day Where wilt thou finde a Cauerne darke enough , To maske thy monstrous Visage ? Seek none Conspiracie , Hide it in Smiles , and Affabilitie : For if thou path thy natiue semblance on , Not Erebus it selfe were dimme enough , To hide thee from preuention . Enter the Conspirators , Cassius , Caska , Decius , Cinna , Metellus , and Trebonius . Cass . I thinke we are too bold vpon your Rest : Good morrow Brutus , doe we trouble you ? Brut . I haue beene vp this howre , awake all Night : Know I these men , that come along with you ? Cass . Yes , euery man of them ; and no man here But honors you : and euery one doth wish , You had but that opinion of your selfe , Which euery Noble Roman beares of you . This is Trebonius Brut . He is welcome hither Cass . This , Decius Brutus Brut . He is welcome too Cass . This , Caska ; this , Cinna ; and this , Metellus Cymber Brut . They are all welcome . What watchfull Cares doe interpose themselues Betwixt your Eyes , and Night ? Cass . Shall I entreat a word ? They whisper . Decius . Here lyes the East : doth not the Day breake heere ? Cask . No Cin . O pardon , Sir , it doth ; and yon grey Lines , That fret the Clouds , are Messengers of Day Cask . You shall confesse , that you are both deceiu ' d : Heere , as I point my Sword , the Sunne arises , Which is a great way growing on the South , Weighing the youthfull Season of the yeare . Some two moneths hence , vp higher toward the North He first presents his fire , and the high East Stands as the Capitoll , directly heere Bru . Giue me your hands all ouer , one by one Cas . And let vs sweare our Resolution Brut . No , not an Oath : if not the Face of men , The sufferance of our Soules , the times Abuse ; If these be Motiues weake , breake off betimes , And euery man hence , to his idle bed : So let high - sighted - Tyranny range on , Till each man drop by Lottery . But if these ( As I am sure they do ) beare fire enough To kindle Cowards , and to steele with valour The melting Spirits of women . Then Countrymen , What neede we any spurre , but our owne cause To pricke vs to redresse ? What other Bond , Then secret Romans , that haue spoke the word , And will not palter ? And what other Oath , Then Honesty to Honesty ingag ' d , That this shall be , or we will fall for it . Sweare Priests and Cowards , and men Cautelous Old feeble Carrions , and such suffering Soules That welcome wrongs : Vnto bad causes , sweare Such Creatures as men doubt ; but do not staine The euen vertue of our Enterprize , Nor th ' insuppressiue Mettle of our Spirits , To thinke , that or our Cause , or our Performance Did neede an Oath . When euery drop of blood That euery Roman beares , and Nobly beares Is guilty of a seuerall Bastardie , If he do breake the smallest Particle Of any promise that hath past from him Cas . But what of Cicero ? Shall we sound him ? I thinke he will stand very strong with vs Cask . Let vs not leaue him out Cyn . No , by no meanes Metel . O let vs haue him , for his Siluer haires Will purchase vs a good opinion : And buy mens voyces , to commend our deeds : It shall be sayd , his iudgement rul ' d our hands , Our youths , and wildenesse , shall no whit appeare , But all be buried in his Grauity Bru . O name him not ; let vs not breake with him , For he will neuer follow any thing That other men begin Cas . Then leaue him out Cask . Indeed , he is not fit Decius . Shall no man else be toucht , but onely Caesar ? Cas . Decius well vrg ' d : I thinke it is not meet , Marke Antony , so well belou ' d of Caesar , Should out - liue Caesar , we shall finde of him A shrew ' d Contriuer . And you know , his meanes If he improue them , may well stretch so farre As to annoy vs all : which to preuent , Let Antony and Caesar fall together Bru . Our course will seeme too bloody , Caius Cassius , To cut the Head off , and then hacke the Limbes : Like Wrath in death , and Enuy afterwards : For Antony , is but a Limbe of Caesar . Let ' s be Sacrificers , but not Butchers Caius : We all stand vp against the spirit of Caesar , And in the Spirit of men , there is no blood : O that we then could come by Caesars Spirit , And not dismember Caesar ! But ( alas ) Caesar must bleed for it . And gentle Friends , Let ' s kill him Boldly , but not Wrathfully : Let ' s carue him , as a Dish fit for the Gods , Not hew him as a Carkasse fit for Hounds : And let our Hearts , as subtle Masters do , Stirre vp their Seruants to an acte of Rage , And after seeme to chide ' em . This shall make Our purpose Necessary , and not Enuious . Which so appearing to the common eyes , We shall be call ' d Purgers , not Murderers . And for Marke Antony , thinke not of him : For he can do no more then Caesars Arme , When Caesars head is off Cas . Yet I feare him , For in the ingrafted loue he beares to Caesar Bru . Alas , good Cassius , do not thinke of him : If he loue Caesar , all that he can do Is to himselfe ; take thought , and dye for Caesar , And that were much he should : for he is giuen To sports , to wildenesse , and much company Treb . There is no feare in him ; let him not dye , For he will liue , and laugh at this heereafter . Clocke strikes . Bru . Peace , count the Clocke Cas . The Clocke hath stricken three Treb . ' Tis time to part Cass . But it is doubtfull yet , Whether Caesar will come forth to day , or no : For he is Superstitious growne of late , Quite from the maine Opinion he held once , Of Fantasie , of Dreames , and Ceremonies : It may be , these apparant Prodigies , The vnaccustom ' d Terror of this night , And the perswasion of his Augurers , May hold him from the Capitoll to day Decius . Neuer feare that : If he be so resolu ' d , I can ore - sway him : For he loues to heare , That Vnicornes may be betray ' d with Trees , And Beares with Glasses , Elephants with Holes , Lyons with Toyles , and men with Flatterers . But , when I tell him , he hates Flatterers , He sayes , he does ; being then most flattered . Let me worke : For I can giue his humour the true bent ; And I will bring him to the Capitoll Cas . Nay , we will all of vs , be there to fetch him Bru . By the eight houre , is that the vttermost ? Cin . Be that the vttermost , and faile not then Met . Caius Ligarius doth beare Caesar hard , Who rated him for speaking well of Pompey ; I wonder none of you haue thought of him Bru . Now good Metellus go along by him : He loues me well , and I haue giuen him Reasons , Send him but hither , and Ile fashion him Cas . The morning comes vpon ' s : Wee ' l leaue you Brutus , And Friends disperse your selues ; but all remember What you haue said , and shew your selues true Romans Bru . Good Gentlemen , looke fresh and merrily , Let not our lookes put on our purposes , But beare it as our Roman Actors do , With vntyr ' d Spirits , and formall Constancie , And so good morrow to you euery one . Exeunt . Manet Brutus . Boy : Lucius : Fast asleepe ? It is no matter , Enioy the hony - heauy - Dew of Slumber : Thou hast no Figures , nor no Fantasies , Which busie care drawes , in the braines of men ; Therefore thou sleep ' st so sound . Enter Portia . Por . Brutus , my Lord Bru . Portia : What meane you ? wherfore rise you now ? It is not for your health , thus to commit Your weake condition , to the raw cold morning Por . Nor for yours neither . Y ' haue vngently Brutus Stole from my bed : and yesternight at Supper You sodainly arose , and walk ' d about , Musing , and sighing , with your armes acrosse And when I ask ' d you what the matter was , You star ' d vpon me , with vngentle lookes . I vrg ' d you further , then you scratch ' d your head , And too impatiently stampt with your foote : Yet I insisted , yet you answer ' d not , But with an angry wafter of your hand Gaue signe for me to leaue you : So I did , Fearing to strengthen that impatience Which seem ' d too much inkindled ; and withall , Hoping it was but an effect of Humor , Which sometime hath his houre with euery man . It will not let you eate , nor talke , nor sleepe ; And could it worke so much vpon your shape , As it hath much preuayl ' d on your Condition , I should not know you Brutus . Deare my Lord , Make me acquainted with your cause of greefe Bru . I am not well in health , and that is all Por . Brutus is wise , and were he not in health , He would embrace the meanes to come by it Bru . Why so I do : good Portia go to bed Por . Is Brutus sicke ? And is it Physicall To walke vnbraced , and sucke vp the humours Of the danke Morning ? What , is Brutus sicke ? And will he steale out of his wholsome bed To dare the vile contagion of the Night ? And tempt the Rhewmy , and vnpurged Ayre , To adde vnto his sicknesse ? No my Brutus , You haue some sicke Offence within your minde , Which by the Right and Vertue of my place I ought to know of : And vpon my knees , I charme you , by my once commended Beauty , By all your vowes of Loue , and that great Vow Which did incorporate and make vs one , That you vnfold to me , your selfe ; your halfe Why you are heauy : and what men to night Haue had resort to you : for heere haue beene Some sixe or seuen , who did hide their faces Euen from darknesse Bru . Kneele not gentle Portia Por . I should not neede , if you were gentle Brutus . Within the Bond of Marriage , tell me Brutus , Is it excepted , I should know no Secrets That appertaine to you ? Am I your Selfe , But as it were in sort , or limitation ? To keepe with you at Meales , comfort your Bed , And talke to you sometimes ? Dwell I but in the Suburbs Of your good pleasure ? If it be no more , Portia is Brutus Harlot , not his Wife Bru . You are my true and honourable Wife , As deere to me , as are the ruddy droppes That visit my sad heart Por . If this were true , then should I know this secret . I graunt I am a Woman ; but withall , A Woman that Lord Brutus tooke to Wife : I graunt I am a Woman ; but withall , A Woman well reputed : Cato ' s Daughter . Thinke you , I am no stronger then my Sex Being so Father ' d , and so Husbanded ? Tell me your Counsels , I will not disclose ' em : I haue made strong proofe of my Constancie , Giuing my selfe a voluntary wound Heere , in the Thigh : Can I beare that with patience , And not my Husbands Secrets ? Bru . O ye Gods ! Render me worthy of this Noble Wife . Knocke . Harke , harke , one knockes : Portia go in a while , And by and by thy bosome shall partake The secrets of my Heart . All my engagements , I will construe to thee , All the Charractery of my sad browes : Leaue me with hast . Exit Portia . Enter Lucius and Ligarius . Lucius , who ' s that knockes Luc . Heere is a sicke man that would speak with you Bru . Caius Ligarius , that Metellus spake of . Boy , stand aside . Caius Ligarius , how ? Cai . Vouchsafe good morrow from a feeble tongue Bru . O what a time haue you chose out braue Caius To weare a Kerchiefe ? Would you were not sicke Cai . I am not sicke , if Brutus haue in hand Any exploit worthy the name of Honor Bru . Such an exploit haue I in hand Ligarius , Had you a healthfull eare to heare of it Cai . By all the Gods that Romans bow before , I heere discard my sicknesse . Soule of Rome , Braue Sonne , deriu ' d from Honourable Loines , Thou like an Exorcist , hast coniur ' d vp My mortified Spirit . Now bid me runne , And I will striue with things impossible , Yea get the better of them . What ' s to do ? Bru . A peece of worke , That will make sicke men whole Cai . But are not some whole , that we must make sicke ? Bru . That must we also . What it is my Caius , I shall vnfold to thee , as we are going , To whom it must be done Cai . Set on your foote , And with a heart new - fir ' d , I follow you , To do I know not what : but it sufficeth That Brutus leads me on . Thunder Bru . Follow me then . Exeunt . Thunder & Lightning Enter Iulius Caesar in his Night - gowne . Caesar . Nor Heauen , nor Earth , Haue beene at peace to night : Thrice hath Calphurnia , in her sleepe cryed out , Helpe , ho : They murther Caesar . Who ' s within ? Enter a Seruant . Ser . My Lord Caes Go bid the Priests do present Sacrifice , And bring me their opinions of Successe Ser . I will my Lord . Exit Enter Calphurnia . Cal . What mean you Caesar ? Think you to walk forth ? You shall not stirre out of your house to day Caes Caesar shall forth ; the things that threaten ' d me , Ne ' re look ' d but on my backe : When they shall see The face of Caesar , they are vanished Calp . Caesar , I neuer stood on Ceremonies , Yet now they fright me : There is one within , Besides the things that we haue heard and seene , Recounts most horrid sights seene by the Watch . A Lionnesse hath whelped in the streets , And Graues haue yawn ' d , and yeelded vp their dead ; Fierce fiery Warriours fight vpon the Clouds In Rankes and Squadrons , and right forme of Warre Which drizel ' d blood vpon the Capitoll : The noise of Battell hurtled in the Ayre : Horsses do neigh , and dying men did grone , And Ghosts did shrieke and squeale about the streets . O Caesar , these things are beyond all vse , And I do feare them Caes What can be auoyded Whose end is purpos ' d by the mighty Gods ? Yet Caesar shall go forth : for these Predictions Are to the world in generall , as to Caesar Calp . When Beggers dye , there are no Comets seen , The Heauens themselues blaze forth the death of Princes Caes Cowards dye many times before their deaths , The valiant neuer taste of death but once : Of all the Wonders that I yet haue heard , It seemes to me most strange that men should feare , Seeing that death , a necessary end Will come , when it will come . Enter a Seruant . What say the Augurers ? Ser . They would not haue you to stirre forth to day . Plucking the intrailes of an Offering forth , They could not finde a heart within the beast Caes The Gods do this in shame of Cowardice : Caesar should be a Beast without a heart If he should stay at home to day for feare : No Caesar shall not ; Danger knowes full well That Caesar is more dangerous then he . We heare two Lyons litter ' d in one day , And I the elder and more terrible , And Caesar shall go foorth Calp . Alas my Lord , Your wisedome is consum ' d in confidence : Do not go forth to day : Call it my feare , That keepes you in the house , and not your owne . Wee ' l send Mark Antony to the Senate house , And he shall say , you are not well to day : Let me vpon my knee , preuaile in this Caes Mark Antony shall say I am not well , And for thy humor , I will stay at home . Enter Decius . Heere ' s Decius Brutus , he shall tell them so Deci . Caesar , all haile : Good morrow worthy Caesar , I come to fetch you to the Senate house Caes And you are come in very happy time , To beare my greeting to the Senators , And tell them that I will not come to day : Cannot , is false : and that I dare not , falser : I will not come to day , tell them so Decius Calp . Say he is sicke Caes Shall Caesar send a Lye ? Haue I in Conquest stretcht mine Arme so farre , To be afear ' d to tell Gray - beards the truth : Decius , go tell them , Caesar will not come Deci . Most mighty Caesar , let me know some cause , Lest I be laught at when I tell them so Caes The cause is in my Will , I will not come , That is enough to satisfie the Senate . But for your priuate satisfaction , Because I loue you , I will let you know . Calphurnia heere my wife , stayes me at home : She dreampt to night , she saw my Statue , Which like a Fountaine , with an hundred spouts Did run pure blood : and many lusty Romans Came smiling , & did bathe their hands in it : And these does she apply , for warnings and portents , And euils imminent ; and on her knee Hath begg ' d , that I will stay at home to day Deci . This Dreame is all amisse interpreted , It was a vision , faire and fortunate : Your Statue spouting blood in many pipes , In which so many smiling Romans bath ' d , Signifies , that from you great Rome shall sucke Reuiuing blood , and that great men shall presse For Tinctures , Staines , Reliques , and Cognisance . This by Calphurnia ' s Dreame is signified Caes And this way haue you well expounded it Deci . I haue , when you haue heard what I can say : And know it now , the Senate haue concluded To giue this day , a Crowne to mighty Caesar . If you shall send them word you will not come , Their mindes may change . Besides , it were a mocke Apt to be render ' d , for some one to say , Breake vp the Senate , till another time : When Caesars wife shall meete with better Dreames . If Caesar hide himselfe , shall they not whisper Loe Caesar is affraid ? Pardon me Caesar , for my deere deere loue To your proceeding , bids me tell you this : And reason to my loue is liable Caes How foolish do your fears seeme now Calphurnia ? I am ashamed I did yeeld to them . Giue me my Robe , for I will go . Enter Brutus , Ligarius , Metellus , Caska , Trebonius , Cynna , and Publius . And looke where Publius is come to fetch me Pub . Good morrow Caesar Caes Welcome Publius . What Brutus , are you stirr ' d so earely too ? Good morrow Caska : Caius Ligarius , Caesar was ne ' re so much your enemy , As that same Ague which hath made you leane . What is ' t a Clocke ? Bru . Caesar , ' tis strucken eight Caes I thanke you for your paines and curtesie . Enter Antony . See , Antony that Reuels long a - nights Is notwithstanding vp . Good morrow Antony Ant . So to most Noble Caesar Caes Bid them prepare within : I am too blame to be thus waited for . Now Cynna , now Metellus : what Trebonius , I haue an houres talke in store for you : Remember that you call on me to day : Be neere me , that I may remember you Treb . Caesar I will : and so neere will I be , That your best Friends shall wish I had beene further Caes Good Friends go in , and taste some wine with me . And we ( like Friends ) will straight way go together Bru . That euery like is not the same , O Caesar , The heart of Brutus earnes to thinke vpon . Exeunt . Enter Artemidorus . Caesar , beware of Brutus , take heede of Cassius ; come not neere Caska , haue an eye to Cynna , trust not Trebonius , marke well Metellus Cymber , Decius Brutus loues thee not : Thou hast wrong ' d Caius Ligarius . There is but one minde in all these men , and it is bent against Caesar : If thou beest not Immortall , looke about you : Security giues way to Conspiracie . The mighty Gods defend thee . Thy Louer , Artemidorus . Heere will I stand , till Caesar passe along , And as a Sutor will I giue him this : My heart laments , that Vertue cannot liue Out of the teeth of Emulation . If thou reade this , O Caesar , thou mayest liue ; If not , the Fates with Traitors do contriue . Enter . Enter Portia and Lucius . Por . I prythee Boy , run to the Senate - house , Stay not to answer me , but get thee gone . Why doest thou stay ? Luc . To know my errand Madam Por . I would haue had thee there and heere agen Ere I can tell thee what thou should ' st do there : O Constancie , be strong vpon my side , Set a huge Mountaine ' tweene my Heart and Tongue : I haue a mans minde , but a womans might : How hard it is for women to keepe counsell . Art thou heere yet ? Luc . Madam , what should I do ? Run to the Capitoll , and nothing else ? And so returne to you , and nothing else ? Por . Yes , bring me word Boy , if thy Lord look well , For he went sickly forth : and take good note What Caesar doth , what Sutors presse to him . Hearke Boy , what noyse is that ? Luc . I heare none Madam Por . Prythee listen well : I heard a bussling Rumor like a Fray , And the winde brings it from the Capitoll Luc . Sooth Madam , I heare nothing . Enter the Soothsayer . Por . Come hither Fellow , which way hast thou bin ? Sooth . At mine owne house , good Lady Por . What is ' t a clocke ? Sooth . About the ninth houre Lady Por . Is Caesar yet gone to the Capitoll ? Sooth . Madam not yet , I go to take my stand , To see him passe on to the Capitoll Por . Thou hast some suite to Caesar , hast thou not ? Sooth . That I haue Lady , if it will please Caesar To be so good to Caesar , as to heare me : I shall beseech him to befriend himselfe Por . Why know ' st thou any harme ' s intended towards him ? Sooth . None that I know will be , Much that I feare may chance : Good morrow to you : heere the street is narrow : The throng that followes Caesar at the heeles , Of Senators , of Praetors , common Sutors , Will crowd a feeble man ( almost ) to death : Ile get me to a place more voyd , and there Speake to great Caesar as he comes along . Exit Por . I must go in : Aye me ! How weake a thing The heart of woman is ? O Brutus , The Heauens speede thee in thine enterprize . Sure the Boy heard me : Brutus hath a suite That Caesar will not grant . O , I grow faint : Run Lucius , and commend me to my Lord , Say I am merry ; Come to me againe , And bring me word what he doth say to thee . Exeunt . Actus Tertius . Flourish Enter Caesar , Brutus , Cassius , Caska , Decius , Metellus , Trebonius , Cynna , Antony , Lepidus , Artimedorus , Publius , and the Soothsayer . Caes The Ides of March are come Sooth . I Caesar , but not gone Art . Haile Caesar : Read this Scedule Deci . Trebonius doth desire you to ore - read ( At your best leysure ) this his humble suite Art . O Caesar , reade mine first : for mine ' s a suite That touches Caesar neerer . Read it great Caesar Caes What touches vs our selfe , shall be last seru ' d Art . Delay not Caesar , read it instantly Caes What , is the fellow mad ? Pub . Sirra , giue place Cassi . What , vrge you your Petitions in the street ? Come to the Capitoll Popil . I wish your enterprize to day may thriue Cassi . What enterprize Popillius ? Popil . Fare you well Bru . What said Popillius Lena ? Cassi . He wisht to day our enterprize might thriue : I feare our purpose is discouered Bru . Looke how he makes to Caesar : marke him Cassi . Caska be sodaine , for we feare preuention . Brutus what shall be done ? If this be knowne , Cassius or Caesar neuer shall turne backe , For I will slay my selfe Bru . Cassius be constant : Popillius Lena speakes not of our purposes , For looke he smiles , and Caesar doth not change Cassi . Trebonius knowes his time : for look you Brutus He drawes Mark Antony out of the way Deci . Where is Metellus Cimber , let him go , And presently preferre his suite to Caesar Bru . He is addrest : presse neere , and second him Cin . Caska , you are the first that reares your hand Caes Are we all ready ? What is now amisse , That Caesar and his Senate must redresse ? Metel . Most high , most mighty , and most puisant Caesar Metellus Cymber throwes before thy Seate An humble heart Caes I must preuent thee Cymber : These couchings , and these lowly courtesies Might fire the blood of ordinary men , And turne pre - Ordinance , and first Decree Into the lane of Children . Be not fond , To thinke that Caesar beares such Rebell blood That will be thaw ' d from the true quality With that which melteth Fooles , I meane sweet words , Low - crooked - curtsies , and base Spaniell fawning : Thy Brother by decree is banished : If thou doest bend , and pray , and fawne for him , I spurne thee like a Curre out of my way : Know , Caesar doth not wrong , nor without cause Will he be satisfied Metel . Is there no voyce more worthy then my owne , To sound more sweetly in great Caesars eare , For the repealing of my banish ' d Brother ? Bru . I kisse thy hand , but not in flattery Caesar : Desiring thee , that Publius Cymber may Haue an immediate freedome of repeale Caes What Brutus ? Cassi . Pardon Caesar : Caesar pardon : As lowe as to thy foote doth Cassius fall , To begge infranchisement for Publius Cymber Caes I could be well mou ' d , if I were as you , If I could pray to mooue , Prayers would mooue me : But I am constant as the Northerne Starre , Of whose true fixt , and resting quality , There is no fellow in the Firmament . The Skies are painted with vnnumbred sparkes , They are all Fire , and euery one doth shine : But , there ' s but one in all doth hold his place . So , in the World ; ' Tis furnish ' d well with Men , And Men are Flesh and Blood , and apprehensiue ; Yet in the number , I do know but One That vnassayleable holds on his Ranke , Vnshak ' d of Motion : and that I am he , Let me a little shew it , euen in this : That I was constant Cymber should be banish ' d , And constant do remaine to keepe him so Cinna . O Caesar Caes Hence : Wilt thou lift vp Olympus ? Decius . Great Caesar Caes Doth not Brutus bootlesse kneele ? Cask . Speake hands for me . They stab Caesar . Caes Et Tu Brute ? - Then fall Caesar . Dyes Cin . Liberty , Freedome ; Tyranny is dead , Run hence , proclaime , cry it about the Streets Cassi . Some to the common Pulpits , and cry out Liberty , Freedome , and Enfranchisement Bru . People and Senators , be not affrighted : Fly not , stand still : Ambitions debt is paid Cask . Go to the Pulpit Brutus Dec . And Cassius too Bru . Where ' s Publius ? Cin . Heere , quite confounded with this mutiny Met . Stand fast together , least some Friend of Caesars Should chance - Bru . Talke not of standing . Publius good cheere , There is no harme intended to your person , Nor to no Roman else : so tell them Publius Cassi . And leaue vs Publius , least that the people Rushing on vs , should do your Age some mischiefe Bru . Do so , and let no man abide this deede , But we the Doers . Enter Trebonius Cassi . Where is Antony ? Treb . Fled to his House amaz ' d : Men , Wiues , and Children , stare , cry out , and run , As it were Doomesday Bru . Fates , we will know your pleasures : That we shall dye we know , ' tis but the time And drawing dayes out , that men stand vpon Cask . Why he that cuts off twenty yeares of life , Cuts off so many yeares of fearing death Bru . Grant that , and then is Death a Benefit : So are we Caesars Friends , that haue abridg ' d His time of fearing death . Stoope Romans , stoope , And let vs bathe our hands in Caesars blood Vp to the Elbowes , and besmeare our Swords : Then walke we forth , euen to the Market place , And wauing our red Weapons o ' re our heads , Let ' s all cry Peace , Freedome , and Liberty Cassi . Stoop then , and wash . How many Ages hence Shall this our lofty Scene be acted ouer , In State vnborne , and Accents yet vnknowne ? Bru . How many times shall Caesar bleed in sport , That now on Pompeyes Basis lye along , No worthier then the dust ? Cassi . So oft as that shall be , So often shall the knot of vs be call ' d , The Men that gaue their Country liberty Dec . What , shall we forth ? Cassi . I , euery man away . Brutus shall leade , and we will grace his heeles With the most boldest , and best hearts of Rome . Enter a Seruant . Bru . Soft , who comes heere ? A friend of Antonies Ser . Thus Brutus did my Master bid me kneele ; Thus did Mark Antony bid me fall downe , And being prostrate , thus he bad me say : Brutus is Noble , Wise , Valiant , and Honest ; Caesar was Mighty , Bold , Royall , and Louing : Say , I loue Brutus , and I honour him ; Say , I fear ' d Caesar , honour ' d him , and lou ' d him . If Brutus will vouchsafe , that Antony May safely come to him , and be resolu ' d How Caesar hath deseru ' d to lye in death , Mark Antony , shall not loue Caesar dead So well as Brutus liuing ; but will follow The Fortunes and Affayres of Noble Brutus , Thorough the hazards of this vntrod State , With all true Faith . So sayes my Master Antony Bru . Thy Master is a Wise and Valiant Romane , I neuer thought him worse : Tell him , so please him come vnto this place He shall be satisfied : and by my Honor Depart vntouch ' d Ser . Ile fetch him presently . Exit Seruant . Bru . I know that we shall haue him well to Friend Cassi . I wish we may : But yet haue I a minde That feares him much : and my misgiuing still Falles shrewdly to the purpose . Enter Antony . Bru . But heere comes Antony : Welcome Mark Antony Ant . O mighty Caesar ! Dost thou lye so lowe ? Are all thy Conquests , Glories , Triumphes , Spoiles , Shrunke to this little Measure ? Fare thee well . I know not Gentlemen what you intend , Who else must be let blood , who else is ranke : If I my selfe , there is no houre so fit As Caesars deaths houre ; nor no Instrument Of halfe that worth , as those your Swords ; made rich With the most Noble blood of all this World . I do beseech yee , if you beare me hard , Now , whil ' st your purpled hands do reeke and smoake , Fulfill your pleasure . Liue a thousand yeeres , I shall not finde my selfe so apt to dye . No place will please me so , no meane of death , As heere by Caesar , and by you cut off , The Choice and Master Spirits of this Age Bru . O Antony ! Begge not your death of vs : Though now we must appeare bloody and cruell , As by our hands , and this our present Acte You see we do : Yet see you but our hands , And this , the bleeding businesse they haue done : Our hearts you see not , they are pittifull : And pitty to the generall wrong of Rome , As fire driues out fire , so pitty , pitty Hath done this deed on Caesar . For your part , To you , our Swords haue leaden points Marke Antony : Our Armes in strength of malice , and our Hearts Of Brothers temper , do receiue you in , With all kinde loue , good thoughts , and reuerence Cassi . Your voyce shall be as strong as any mans , In the disposing of new Dignities Bru . Onely be patient , till we haue appeas ' d The Multitude , beside themselues with feare , And then , we will deliuer you the cause , Why I , that did loue Caesar when I strooke him , Haue thus proceeded Ant . I doubt not of your Wisedome : Let each man render me his bloody hand . First Marcus Brutus will I shake with you ; Next Caius Cassius do I take your hand ; Now Decius Brutus yours ; now yours Metellus ; Yours Cinna ; and my valiant Caska , yours ; Though last , not least in loue , yours good Trebonius . Gentlemen all : Alas , what shall I say , My credit now stands on such slippery ground , That one of two bad wayes you must conceit me , Either a Coward , or a Flatterer . That I did loue thee Caesar , O ' tis true : If then thy Spirit looke vpon vs now , Shall it not greeue thee deerer then thy death , To see thy Antony making his peace , Shaking the bloody fingers of thy Foes ? Most Noble , in the presence of thy Coarse , Had I as many eyes , as thou hast wounds , Weeping as fast as they streame forth thy blood , It would become me better , then to close In tearmes of Friendship with thine enemies . Pardon me Iulius , heere was ' t thou bay ' d braue Hart , Heere did ' st thou fall , and heere thy Hunters stand Sign ' d in thy Spoyle , and Crimson ' d in thy Lethee . O World ! thou wast the Forrest to this Hart , And this indeed , O World , the Hart of thee . How like a Deere , stroken by many Princes , Dost thou heere lye ? Cassi . Mark Antony Ant . Pardon me Caius Cassius : The Enemies of Caesar , shall say this : Then , in a Friend , it is cold Modestie Cassi . I blame you not for praising Caesar so . But what compact meane you to haue with vs ? Will you be prick ' d in number of our Friends , Or shall we on , and not depend on you ? Ant . Therefore I tooke your hands , but was indeed Sway ' d from the point , by looking downe on Caesar . Friends am I with you all , and loue you all , Vpon this hope , that you shall giue me Reasons , Why , and wherein , Caesar was dangerous Bru . Or else were this a sauage Spectacle : Our Reasons are so full of good regard , That were you Antony , the Sonne of Caesar , You should be satisfied Ant . That ' s all I seeke , And am moreouer sutor , that I may Produce his body to the Market - place , And in the Pulpit as becomes a Friend , Speake in the Order of his Funerall Bru . You shall Marke Antony Cassi . Brutus , a word with you : You know not what you do ; Do not consent That Antony speake in his Funerall : Know you how much the people may be mou ' d By that which he will vtter Bru . By your pardon : I will my selfe into the Pulpit first , And shew the reason of our Caesars death . What Antony shall speake , I will protest He speakes by leaue , and by permission : And that we are contented Caesar shall Haue all true Rites , and lawfull Ceremonies , It shall aduantage more , then do vs wrong Cassi . I know not what may fall , I like it not Bru . Mark Antony , heere take you Caesars body : You shall not in your Funerall speech blame vs , But speake all good you can deuise of Caesar , And say you doo ' t by our permission : Else shall you not haue any hand at all About his Funerall . And you shall speake In the same Pulpit whereto I am going , After my speech is ended Ant . Be it so : I do desire no more Bru . Prepare the body then , and follow vs . Exeunt . Manet Antony . O pardon me , thou bleeding peece of Earth : That I am meeke and gentle with these Butchers . Thou art the Ruines of the Noblest man That euer liued in the Tide of Times . Woe to the hand that shed this costly Blood . Ouer thy wounds , now do I Prophesie , ( Which like dumbe mouthes do ope their Ruby lips , To begge the voyce and vtterance of my Tongue ) A Curse shall light vpon the limbes of men ; Domesticke Fury , and fierce Ciuill strife , Shall cumber all the parts of Italy : Blood and destruction shall be so in vse , And dreadfull Obiects so familiar , That Mothers shall but smile , when they behold Their Infants quartered with the hands of Warre : All pitty choak ' d with custome of fell deeds , And Caesars Spirit ranging for Reuenge , With Ate by his side , come hot from Hell , Shall in these Confines , with a Monarkes voyce , Cry hauocke , and let slip the Dogges of Warre , That this foule deede , shall smell aboue the earth With Carrion men , groaning for Buriall . Enter Octauio ' s Seruant . You serue Octauius Caesar , do you not ? Ser . I do Marke Antony Ant . Caesar did write for him to come to Rome Ser . He did receiue his Letters , and is comming , And bid me say to you by word of mouth - O Caesar ! Ant . Thy heart is bigge : get thee a - part and weepe : Passion I see is catching from mine eyes , Seeing those Beads of sorrow stand in thine , Began to water . Is thy Master comming ? Ser . He lies to night within seuen Leagues of Rome Ant . Post backe with speede , And tell him what hath chanc ' d : Heere is a mourning Rome , a dangerous Rome , No Rome of safety for Octauius yet , Hie hence , and tell him so . Yet stay a - while , Thou shalt not backe , till I haue borne this course Into the Market place : There shall I try In my Oration , how the People take The cruell issue of these bloody men , According to the which , thou shalt discourse To yong Octauius , of the state of things . Lend me your hand . Exeunt . Enter Brutus and goes into the Pulpit , and Cassius , with the Plebeians . Ple . We will be satisfied : let vs be satisfied Bru . Then follow me , and giue me Audience friends . Cassius go you into the other streete , And part the Numbers : Those that will heare me speake , let ' em stay heere ; Those that will follow Cassius , go with him , And publike Reasons shall be rendred Of Caesars death 1 . Ple . I will heare Brutus speake 2 . I will heare Cassius , and compare their Reasons , When seuerally we heare them rendred 3 . The Noble Brutus is ascended : Silence Bru . Be patient till the last . Romans , Countrey - men , and Louers , heare mee for my cause , and be silent , that you may heare . Beleeue me for mine Honor , and haue respect to mine Honor , that you may beleeue . Censure me in your Wisedom , and awake your Senses , that you may the better Iudge . If there bee any in this Assembly , any deere Friend of Caesars , to him I say , that Brutus loue to Caesar , was no lesse then his . If then , that Friend demand , why Brutus rose against Caesar , this is my answer : Not that I lou ' d Caesar lesse , but that I lou ' d Rome more . Had you rather Caesar were liuing , and dye all Slaues ; then that Caesar were dead , to liue all Free - men ? As Caesar lou ' d mee , I weepe for him ; as he was Fortunate , I reioyce at it ; as he was Valiant , I honour him : But , as he was Ambitious , I slew him . There is Teares , for his Loue : Ioy , for his Fortune : Honor , for his Valour : and Death , for his Ambition . Who is heere so base , that would be a Bondman ? If any , speak , for him haue I offended . Who is heere so rude , that would not be a Roman ? If any , speak , for him haue I offended . Who is heere so vile , that will not loue his Countrey ? If any , speake , for him haue I offended . I pause for a Reply All . None Brutus , none Brutus . Then none haue I offended . I haue done no more to Caesar , then you shall do to Brutus . The Question of his death , is inroll ' d in the Capitoll : his Glory not extenuated , wherein he was worthy ; nor his offences enforc ' d , for which he suffered death . Enter Mark Antony , with Caesars body . Heere comes his Body , mourn ' d by Marke Antony , who though he had no hand in his death , shall receiue the benefit of his dying , a place in the Co [ m ] monwealth , as which of you shall not . With this I depart , that as I slewe my best Louer for the good of Rome , I haue the same Dagger for my selfe , when it shall please my Country to need my death All . Liue Brutus , liue , liue 1 . Bring him with Triumph home vnto his house 2 . Giue him a Statue with his Ancestors 3 . Let him be Caesar 4 . Caesars better parts , Shall be Crown ' d in Brutus 1 . Wee ' l bring him to his House , With Showts and Clamors Bru . My Country - men 2 . Peace , silence , Brutus speakes 1 . Peace ho Bru . Good Countrymen , let me depart alone , And ( for my sake ) stay heere with Antony : Do grace to Caesars Corpes , and grace his Speech Tending to Caesars Glories , which Marke Antony ( By our permission ) is allow ' d to make . I do intreat you , not a man depart , Saue I alone , till Antony haue spoke . Exit 1 Stay ho , and let vs heare Mark Antony 3 Let him go vp into the publike Chaire , Wee ' l heare him : Noble Antony go vp Ant . For Brutus sake , I am beholding to you 4 What does he say of Brutus ? 3 He sayes , for Brutus sake He findes himselfe beholding to vs all 4 ' Twere best he speake no harme of Brutus heere ? 1 This Caesar was a Tyrant 3 Nay that ' s certaine : We are blest that Rome is rid of him 2 Peace , let vs heare what Antony can say Ant . You gentle Romans All . Peace hoe , let vs heare him An . Friends , Romans , Countrymen , lend me your ears : I come to bury Caesar , not to praise him : The euill that men do , liues after them , The good is oft enterred with their bones , So let it be with Caesar . The Noble Brutus , Hath told you Caesar was Ambitious : If it were so , it was a greeuous Fault , And greeuously hath Caesar answer ' d it . Heere , vnder leaue of Brutus , and the rest ( For Brutus is an Honourable man , So are they all ; all Honourable men ) Come I to speake in Caesars Funerall . He was my Friend , faithfull , and iust to me ; But Brutus sayes , he was Ambitious , And Brutus is an Honourable man . He hath brought many Captiues home to Rome , Whose Ransomes , did the generall Coffers fill : Did this in Caesar seeme Ambitious ? When that the poore haue cry ' de , Caesar hath wept : Ambition should be made of sterner stuffe , Yet Brutus sayes , he was Ambitious : And Brutus is an Honourable man . You all did see , that on the Lupercall , I thrice presented him a Kingly Crowne , Which he did thrice refuse . Was this Ambition ? Yet Brutus sayes , he was Ambitious : And sure he is an Honourable man . I speake not to disprooue what Brutus spoke , But heere I am , to speake what I do know ; You all did loue him once , not without cause , What cause with - holds you then , to mourne for him ? O Iudgement ! thou are fled to brutish Beasts , And Men haue lost their Reason . Beare with me , My heart is in the Coffin there with Caesar , And I must pawse , till it come backe to me 1 Me thinkes there is much reason in his sayings 2 If thou consider rightly of the matter , Caesar ha ' s had great wrong 3 Ha ' s hee Masters ? I feare there will a worse come in his place 4 . Mark ' d ye his words ? he would not take y Crown , Therefore ' tis certaine , he was not Ambitious 1 . If it be found so , some will deere abide it 2 . Poore soule , his eyes are red as fire with weeping 3 . There ' s not a Nobler man in Rome then Antony 4 . Now marke him , he begins againe to speake Ant . But yesterday , the word of Caesar might Haue stood against the World : Now lies he there , And none so poore to do him reuerence . O Maisters ! If I were dispos ' d to stirre Your hearts and mindes to Mutiny and Rage , I should do Brutus wrong , and Cassius wrong : Who ( you all know ) are Honourable men . I will not do them wrong : I rather choose To wrong the dead , to wrong my selfe and you , Then I will wrong such Honourable men . But heere ' s a Parchment , with the Seale of Caesar , I found it in his Closset , ' tis his Will : Let but the Commons heare this Testament : ( Which pardon me ) I do not meane to reade , And they would go and kisse dead Caesars wounds , And dip their Napkins in his Sacred Blood ; Yea , begge a haire of him for Memory , And dying , mention it within their Willes , Bequeathing it as a rich Legacie Vnto their issue 4 Wee ' l heare the Will , reade it Marke Antony All . The Will , the Will ; we will heare Caesars Will Ant . Haue patience gentle Friends , I must not read it . It is not meete you know how Caesar lou ' d you : You are not Wood , you are not Stones , but men : And being men , hearing the Will of Caesar , It will inflame you , it will make you mad : ' Tis good you know not that you are his Heires , For if you should , O what would come of it ? 4 Read the Will , wee ' l heare it Antony : You shall reade vs the Will , Caesars Will Ant . Will you be Patient ? Will you stay a - while ? I haue o ' re - shot my selfe to tell you of it , I feare I wrong the Honourable men , Whose Daggers haue stabb ' d Caesar : I do feare it 4 They were Traitors : Honourable men ? All . The Will , the Testament 2 They were Villaines , Murderers : the Will , read the Will Ant . You will compell me then to read the Will : Then make a Ring about the Corpes of Caesar , And let me shew you him that made the Will : Shall I descend ? And will you giue me leaue ? All . Come downe 2 Descend 3 You shall haue leaue 4 A Ring , stand round 1 Stand from the Hearse , stand from the Body 2 Roome for Antony , most Noble Antony Ant . Nay presse not so vpon me , stand farre off All . Stand backe : roome , beare backe Ant . If you haue teares , prepare to shed them now . You all do know this Mantle , I remember The first time euer Caesar put it on , ' Twas on a Summers Euening in his Tent , That day he ouercame the Neruij . Looke , in this place ran Cassius Dagger through : See what a rent the enuious Caska made : Through this , the wel - beloued Brutus stabb ' d , And as he pluck ' d his cursed Steele away : Marke how the blood of Caesar followed it , As rushing out of doores , to be resolu ' d If Brutus so vnkindely knock ' d , or no : For Brutus , as you know , was Caesars Angel . Iudge , O you Gods , how deerely Caesar lou ' d him : This was the most vnkindest cut of all . For when the Noble Caesar saw him stab , Ingratitude , more strong then Traitors armes , Quite vanquish ' d him : then burst his Mighty heart , And in his Mantle , muffling vp his face , Euen at the Base of Pompeyes Statue ( Which all the while ran blood ) great Caesar fell . O what a fall was there , my Countrymen ? Then I , and you , and all of vs fell downe , Whil ' st bloody Treason flourish ' d ouer vs . O now you weepe , and I perceiue you feele The dint of pitty : These are gracious droppes . Kinde Soules , what weepe you , when you but behold Our Caesars Vesture wounded ? Looke you heere , Heere is Himselfe , marr ' d as you see with Traitors 1 . O pitteous spectacle ! 2 . O Noble Caesar ! 3 . O wofull day ! 4 . O Traitors , Villaines ! 1 . O most bloody sight ! 2 . We will be reueng ' d : Reuenge About , seeke , burne , fire , kill , slay , Let not a Traitor liue Ant . Stay Country - men 1 . Peace there , heare the Noble Antony 2 . Wee ' l heare him , wee ' l follow him , wee ' l dy with him Ant . Good Friends , sweet Friends , let me not stirre you vp To such a sodaine Flood of Mutiny : They that haue done this Deede , are honourable . What priuate greefes they haue , alas I know not , That made them do it : They are Wise , and Honourable , And will no doubt with Reasons answer you . I come not ( Friends ) to steale away your hearts , I am no Orator , as Brutus is : But ( as you know me all ) a plaine blunt man That loue my Friend , and that they know full well , That gaue me publike leaue to speake of him : For I haue neyther writ nor words , nor worth , Action , nor Vtterance , nor the power of Speech , To stirre mens Blood . I onely speake right on : I tell you that , which you your selues do know , Shew you sweet Caesars wounds , poor poor dum mouths And bid them speake for me : But were I Brutus , And Brutus Antony , there were an Antony Would ruffle vp your Spirits , and put a Tongue In euery Wound of Caesar , that should moue The stones of Rome , to rise and Mutiny All . Wee ' l Mutiny 1 Wee ' l burne the house of Brutus 3 Away then , come , seeke the Conspirators Ant . Yet heare me Countrymen , yet heare me speake All . Peace hoe , heare Antony , most Noble Antony Ant . Why Friends , you go to do you know not what : Wherein hath Caesar thus deseru ' d your loues ? Alas you know not , I must tell you then : You haue forgot the Will I told you of All . Most true , the Will , let ' s stay and heare the Wil Ant . Heere is the Will , and vnder Caesars Seale : To euery Roman Citizen he giues , To euery seuerall man , seuenty fiue Drachmaes 2 Ple . Most Noble Caesar , wee ' l reuenge his death 3 Ple . O Royall Caesar Ant . Heare me with patience All . Peace hoe Ant . Moreouer , he hath left you all his Walkes , His priuate Arbors , and new - planted Orchards , On this side Tyber , he hath left them you , And to your heyres for euer : common pleasures To walke abroad , and recreate your selues . Heere was a Caesar : when comes such another ? 1 . Ple . Neuer , neuer : come , away , away : Wee ' l burne his body in the holy place , And with the Brands fire the Traitors houses . Take vp the body 2 . Ple . Go fetch fire 3 . Ple . Plucke downe Benches 4 . Ple . Plucke downe Formes , Windowes , any thing . Exit Plebeians . Ant . Now let it worke : Mischeefe thou art a - foot , Take thou what course thou wilt . How now Fellow ? Enter Seruant . Ser . Sir , Octauius is already come to Rome Ant . Where is hee ? Ser . He and Lepidus are at Caesars house Ant . And thither will I straight , to visit him : He comes vpon a wish . Fortune is merry , And in this mood will giue vs any thing Ser . I heard him say , Brutus and Cassius Are rid like Madmen through the Gates of Rome Ant . Belike they had some notice of the people How I had moued them . Bring me to Octauius . Exeunt . Enter Cinna the Poet , and after him the Plebeians . Cinna . I dreamt to night , that I did feast with Caesar , And things vnluckily charge my Fantasie : I haue no will to wander foorth of doores , Yet something leads me foorth 1 . What is your name ? 2 . Whether are you going ? 3 . Where do you dwell ? 4 . Are you a married man , or a Batchellor ? 2 . Answer euery man directly 1 . I , and breefely 4 . I , and wisely 3 . I , and truly , you were best Cin . What is my name ? Whether am I going ? Where do I dwell ? Am I a married man , or a Batchellour ? Then to answer euery man , directly and breefely , wisely and truly : wisely I say , I am a Batchellor 2 That ' s as much as to say , they are fooles that marrie : you ' l beare me a bang for that I feare : proceede directly Cinna . Directly I am going to Caesars Funerall 1 . As a Friend , or an Enemy ? Cinna . As a friend 2 . That matter is answered directly 4 . For your dwelling : breefely Cinna . Breefely , I dwell by the Capitoll 3 . Your name sir , truly Cinna . Truly , my name is Cinna 1 . Teare him to peeces , hee ' s a Conspirator Cinna . I am Cinna the Poet , I am Cinna the Poet 4 . Teare him for his bad verses , teare him for his bad Verses Cin . I am not Cinna the Conspirator 4 . It is no matter , his name ' s Cinna , plucke but his name out of his heart , and turne him going 3 . Teare him , tear him ; Come Brands hoe , Firebrands : to Brutus , to Cassius , burne all . Some to Decius House , and some to Caska ' s ; some to Ligarius : Away , go . Exeunt . all the Plebeians . Actus Quartus . Enter Antony , Octauius , and Lepidus . Ant . These many then shall die , their names are prickt Octa . Your Brother too must dye : consent you Lepidus ? Lep . I do consent Octa . Pricke him downe Antony Lep . Vpon condition Publius shall not liue , Who is your Sisters sonne , Marke Antony Ant . He shall not liue ; looke , with a spot I dam him . But Lepidus , go you to Caesars house : Fetch the Will hither , and we shall determine How to cut off some charge in Legacies Lep . What ? shall I finde you heere ? Octa . Or heere , or at the Capitoll . Exit Lepidus Ant . This is a slight vnmeritable man , Meet to be sent on Errands : is it fit The three - fold World diuided , he should stand One of the three to share it ? Octa . So you thought him , And tooke his voyce who should be prickt to dye In our blacke Sentence and Proscription Ant . Octauius , I haue seene more dayes then you , And though we lay these Honours on this man , To ease our selues of diuers sland ' rous loads , He shall but beare them , as the Asse beares Gold , To groane and swet vnder the Businesse , Either led or driuen , as we point the way : And hauing brought our Treasure , where we will , Then take we downe his Load , and turne him off ( Like to the empty Asse ) to shake his eares , And graze in Commons Octa . You may do your will : But hee ' s a tried , and valiant Souldier Ant . So is my Horse Octauius , and for that I do appoint him store of Prouender . It is a Creature that I teach to fight , To winde , to stop , to run directly on : His corporall Motion , gouern ' d by my Spirit , And in some taste , is Lepidus but so : He must be taught , and train ' d , and bid go forth : A barren spirited Fellow ; one that feeds On Obiects , Arts , and Imitations . Which out of vse , and stal ' de by other men Begin his fashion . Do not talke of him , But as a property : and now Octauius , Listen great things . Brutus and Cassius Are leuying Powers ; We must straight make head : Therefore let our Alliance be combin ' d , Our best Friends made , our meanes stretcht , And let vs presently go sit in Councell , How couert matters may be best disclos ' d , And open Perils surest answered Octa . Let vs do so : for we are at the stake , And bayed about with many Enemies , And some that smile haue in their hearts I feare Millions of Mischeefes . Exeunt . Drum . Enter Brutus , Lucillius , and the Army . Titinius and Pindarus meete them . Bru . Stand ho Lucil . Giue the word ho , and Stand Bru . What now Lucillius , is Cassius neere ? Lucil . He is at hand , and Pindarus is come To do you salutation from his Master Bru . He greets me well . Your Master Pindarus In his owne change , or by ill Officers , Hath giuen me some worthy cause to wish Things done , vndone : But if he be at hand I shall be satisfied Pin . I do not doubt But that my Noble Master will appeare Such as he is , full of regard , and Honour Bru . He is not doubted . A word Lucillius How he receiu ' d you : let me be resolu ' d Lucil . With courtesie , and with respect enough , But not with such familiar instances , Nor with such free and friendly Conference As he hath vs ' d of old Bru . Thou hast describ ' d A hot Friend , cooling : Euer note Lucillius , When Loue begins to sicken and decay It vseth an enforced Ceremony . There are no trickes , in plaine and simple Faith : But hollow men , like Horses hot at hand , Make gallant shew , and promise of their Mettle : Low March within . But when they should endure the bloody Spurre , They fall their Crests , and like deceitfull Iades Sinke in the Triall . Comes his Army on ? Lucil . They meane this night in Sardis to be quarter ' d : The greater part , the Horse in generall Are come with Cassius . Enter Cassius and his Powers . Bru . Hearke , he is arriu ' d : March gently on to meete him Cassi . Stand ho Bru . Stand ho , speake the word along . Stand . Stand . Stand Cassi . Most Noble Brother , you haue done me wrong Bru . Iudge me you Gods ; wrong I mine Enemies ? And if not so , how should I wrong a Brother Cassi . Brutus , this sober forme of yours , hides wrongs , And when you do them - Brut . Cassius , be content , Speake your greefes softly , I do know you well . Before the eyes of both our Armies heere ( Which should perceiue nothing but Loue from vs ) Let vs not wrangle . Bid them moue away : Then in my Tent Cassius enlarge your Greefes , And I will giue you Audience Cassi . Pindarus , Bid our Commanders leade their Charges off A little from this ground Bru . Lucillius , do you the like , and let no man Come to our Tent , till we haue done our Conference . Let Lucius and Titinius guard our doore . Exeunt . Manet Brutus and Cassius . Cassi . That you haue wrong ' d me , doth appear in this : You haue condemn ' d , and noted Lucius Pella For taking Bribes heere of the Sardians ; Wherein my Letters , praying on his side , Because I knew the man was slighted off Bru . You wrong ' d your selfe to write in such a case Cassi . In such a time as this , it is not meet That euery nice offence should beare his Comment Bru . Let me tell you Cassius , you your selfe Are much condemn ' d to haue an itching Palme , To sell , and Mart your Offices for Gold To Vndeseruers Cassi . I , an itching Palme ? You know that you are Brutus that speakes this , Or by the Gods , this speech were else your last Bru . The name of Cassius Honors this corruption , And Chasticement doth therefore hide his head Cassi . Chasticement ? Bru . Remember March , the Ides of March reme [ m ] ber : Did not great Iulius bleede for Iustice sake ? What Villaine touch ' d his body , that did stab , And not for Iustice ? What ? Shall one of Vs , That strucke the Formost man of all this World , But for supporting Robbers : shall we now , Contaminate our fingers , with base Bribes ? And sell the mighty space of our large Honors For so much trash , as may be grasped thus ? I had rather be a Dogge , and bay the Moone , Then such a Roman Cassi . Brutus , baite not me , Ile not indure it : you forget your selfe To hedge me in . I am a Souldier , I , Older in practice , Abler then your selfe To make Conditions Bru . Go too : you are not Cassius Cassi . I am Bru . I say , you are not Cassi . Vrge me no more , I shall forget my selfe : Haue minde vpon your health : Tempt me no farther Bru . Away slight man Cassi . Is ' t possible ? Bru . Heare me , for I will speake . Must I giue way , and roome to your rash Choller ? Shall I be frighted , when a Madman stares ? Cassi . O ye Gods , ye Gods , Must I endure all this ? Bru . All this ? I more : Fret till your proud hart break . Go shew your Slaues how Chollericke you are , And make your Bondmen tremble . Must I bouge ? Must I obserue you ? Must I stand and crouch Vnder your Testie Humour ? By the Gods , You shall digest the Venom of your Spleene Though it do Split you . For , from this day forth , Ile vse you for my Mirth , yea for my Laughter When you are Waspish Cassi . Is it come to this ? Bru . You say , you are a better Souldier : Let it appeare so ; make your vaunting true , And it shall please me well . For mine owne part , I shall be glad to learne of Noble men Cass . You wrong me euery way : You wrong me Brutus : I saide , an Elder Souldier , not a Better . Did I say Better ? Bru . If you did , I care not Cass . When Caesar liu ' d , he durst not thus haue mou ' d me Brut . Peace , peace , you durst not so haue tempted him Cassi . I durst not Bru . No Cassi . What ? durst not tempt him ? Bru . For your life you durst not Cassi . Do not presume too much vpon my Loue , I may do that I shall be sorry for Bru . You haue done that you should be sorry for . There is no terror Cassius in your threats : For I am Arm ' d so strong in Honesty , That they passe by me , as the idle winde , Which I respect not . I did send to you For certaine summes of Gold , which you deny ' d me , For I can raise no money by vile meanes : By Heauen , I had rather Coine my Heart , And drop my blood for Drachmaes , then to wring From the hard hands of Peazants , their vile trash By any indirection . I did send To you for Gold to pay my Legions , Which you deny ' d me : was that done like Cassius ? Should I haue answer ' d Caius Cassius so ? When Marcus Brutus growes so Couetous , To locke such Rascall Counters from his Friends , Be ready Gods with all your Thunder - bolts , Dash him to peeces Cassi . I deny ' d you not Bru . You did Cassi . I did not . He was but a Foole That brought my answer back . Brutus hath riu ' d my hart : A Friend should beare his Friends infirmities ; But Brutus makes mine greater then they are Bru . I do not , till you practice them on me Cassi . You loue me not Bru . I do not like your faults Cassi . A friendly eye could neuer see such faults Bru . A Flatterers would not , though they do appeare As huge as high Olympus Cassi . Come Antony , and yong Octauius come , Reuenge your selues alone on Cassius , For Cassius is a - weary of the World : Hated by one he loues , brau ' d by his Brother , Check ' d like a bondman , all his faults obseru ' d , Set in a Note - booke , learn ' d , and con ' d by roate To cast into my Teeth . O I could weepe My Spirit from mine eyes . There is my Dagger , And heere my naked Breast : Within , a Heart Deerer then Pluto ' s Mine , Richer then Gold : If that thou bee ' st a Roman , take it foorth . I that deny ' d thee Gold , will giue my Heart : Strike as thou did ' st at Caesar : For I know , When thou did ' st hate him worst , y loued ' st him better Then euer thou loued ' st Cassius Bru . Sheath your Dagger : Be angry when you will , it shall haue scope : Do what you will , Dishonor , shall be Humour . O Cassius , you are yoaked with a Lambe That carries Anger , as the Flint beares fire , Who much inforced , shewes a hastie Sparke , And straite is cold agen Cassi . Hath Cassius liu ' d To be but Mirth and Laughter to his Brutus , When greefe and blood ill temper ' d , vexeth him ? Bru . When I spoke that , I was ill temper ' d too Cassi . Do you confesse so much ? Giue me your hand Bru . And my heart too Cassi . O Brutus ! Bru . What ' s the matter ? Cassi . Haue not you loue enough to beare with me , When that rash humour which my Mother gaue me Makes me forgetfull Bru . Yes Cassius , and from henceforth When you are ouer - earnest with your Brutus , Hee ' l thinke your Mother chides , and leaue you so . Enter a Poet . Poet . Let me go in to see the Generals , There is some grudge betweene ' em , ' tis not meete They be alone Lucil . You shall not come to them Poet . Nothing but death shall stay me Cas . How now ? What ' s the matter ? Poet . For shame you Generals ; what do you meane ? Loue , and be Friends , as two such men should bee , For I haue seene more yeeres I ' me sure then yee Cas . Ha , ha , how vildely doth this Cynicke rime ? Bru . Get you hence sirra : Sawcy Fellow , hence Cas . Beare with him Brutus , ' tis his fashion Brut . Ile know his humor , when he knowes his time : What should the Warres do with these Iigging Fooles ? Companion , hence Cas . Away , away be gone . Exit Poet Bru . Lucillius and Titinius bid the Commanders Prepare to lodge their Companies to night Cas . And come your selues , & bring Messala with you Immediately to vs Bru . Lucius , a bowle of Wine Cas . I did not thinke you could haue bin so angry Bru . O Cassius , I am sicke of many greefes Cas . Of your Philosophy you make no vse , If you giue place to accidentall euils Bru . No man beares sorrow better . Portia is dead Cas . Ha ? Portia ? Bru . She is dead Cas . How scap ' d I killing , when I crost you so ? O insupportable , and touching losse ! Vpon what sicknesse ? Bru . Impatient of my absence , And greefe , that yong Octauius with Mark Antony Haue made themselues so strong : For with her death That tydings came . With this she fell distract , And ( her Attendants absent ) swallow ' d fire Cas . And dy ' d so ? Bru . Euen so Cas . O ye immortall Gods ! Enter Boy with Wine , and Tapers . Bru . Speak no more of her : Giue me a bowl of wine , In this I bury all vnkindnesse Cassius . Drinkes Cas . My heart is thirsty for that Noble pledge . Fill Lucius , till the Wine ore - swell the Cup : I cannot drinke too much of Brutus loue . Enter Titinius and Messala . Brutus . Come in Titinius : Welcome good Messala : Now sit we close about this Taper heere , And call in question our necessities Cass . Portia , art thou gone ? Bru . No more I pray you . Messala , I haue heere receiued Letters , That yong Octauius , and Marke Antony Come downe vpon vs with a mighty power , Bending their Expedition toward Philippi Mess . My selfe haue Letters of the selfe - same Tenure Bru . With what Addition Mess . That by proscription , and billes of Outlarie , Octauius , Antony , and Lepidus , Haue put to death , an hundred Senators Bru . Therein our Letters do not well agree : Mine speake of seuenty Senators , that dy ' de By their proscriptions , Cicero being one Cassi . Cicero one ? Messa . Cicero is dead , and by that order of proscription Had you your Letters from your wife , my Lord ? Bru . No Messala Messa . Nor nothing in your Letters writ of her ? Bru . Nothing Messala Messa . That me thinkes is strange Bru . Why aske you ? Heare you ought of her , in yours ? Messa . No my Lord Bru . Now as you are a Roman tell me true Messa . Then like a Roman , beare the truth I tell , For certaine she is dead , and by strange manner Bru . Why farewell Portia : We must die Messala : With meditating that she must dye once , I haue the patience to endure it now Messa . Euen so great men , great losses shold indure Cassi . I haue as much of this in Art as you , But yet my Nature could not beare it so Bru . Well , to our worke aliue . What do you thinke Of marching to Philippi presently Cassi . I do not thinke it good Bru . Your reason ? Cassi . This it is : ' Tis better that the Enemie seeke vs , So shall he waste his meanes , weary his Souldiers , Doing himselfe offence , whil ' st we lying still , Are full of rest , defence , and nimblenesse Bru . Good reasons must of force giue place to better : The people ' twixt Philippi , and this ground Do stand but in a forc ' d affection : For they haue grug ' d vs Contribution . The Enemy , marching along by them , By them shall make a fuller number vp , Come on refresht , new added , and encourag ' d : From which aduantage shall we cut him off . If at Philippi we do face him there , These people at our backe Cassi . Heare me good Brother Bru . Vnder your pardon . You must note beside , That we haue tride the vtmost of our Friends : Our Legions are brim full , our cause is ripe , The Enemy encreaseth euery day , We at the height , are readie to decline . There is a Tide in the affayres of men , Which taken at the Flood , leades on to Fortune : Omitted , all the voyage of their life , Is bound in Shallowes , and in Miseries . On such a full Sea are we now a - float , And we must take the current when it serues , Or loose our Ventures Cassi . Then with your will go on : wee ' l along Our selues , and meet them at Philippi Bru . The deepe of night is crept vpon our talke , And Nature must obey Necessitie , Which we will niggard with a little rest : There is no more to say Cassi . No more , good night , Early to morrow will we rise , and hence . Enter Lucius . Bru . Lucius my Gowne : farewell good Messala , Good night Titinius : Noble , Noble Cassius , Good night , and good repose Cassi . O my deere Brother : This was an ill beginning of the night : Neuer come such diuision ' tweene our soules : Let it not Brutus . Enter Lucius with the Gowne . Bru . Euery thing is well Cassi . Good night my Lord Bru . Good night good Brother Tit . Messa . Good night Lord Brutus Bru . Farwell euery one . Exeunt . Giue me the Gowne . Where is thy Instrument ? Luc . Heere in the Tent Bru . What , thou speak ' st drowsily ? Poore knaue I blame thee not , thou art ore - watch ' d . Call Claudio , and some other of my men , Ile haue them sleepe on Cushions in my Tent Luc . Varrus , and Claudio . Enter Varrus and Claudio . Var . Cals my Lord ? Bru . I pray you sirs , lye in my Tent and sleepe , It may be I shall raise you by and by On businesse to my Brother Cassius Var . So please you , we will stand , And watch your pleasure Bru . I will it not haue it so : Lye downe good sirs , It may be I shall otherwise bethinke me . Looke Lucius , heere ' s the booke I sought for so : I put it in the pocket of my Gowne Luc . I was sure your Lordship did not giue it me Bru . Beare with me good Boy , I am much forgetfull . Canst thou hold vp thy heauie eyes a - while , And touch thy Instrument a straine or two Luc . I my Lord , an ' t please you Bru . It does my Boy : I trouble thee too much , but thou art willing Luc . It is my duty Sir Brut . I should not vrge thy duty past thy might , I know yong bloods looke for a time of rest Luc . I haue slept my Lord already Bru . It was well done , and thou shalt sleepe againe : I will not hold thee long . If I do liue , I will be good to thee . Musicke , and a Song . This is a sleepy Tune : O Murd ' rous slumber ! Layest thou thy Leaden Mace vpon my Boy , That playes thee Musicke ? Gentle knaue good night : I will not do thee so much wrong to wake thee : If thou do ' st nod , thou break ' st thy Instrument , Ile take it from thee , and ( good Boy ) good night . Let me see , let me see ; is not the Leafe turn ' d downe Where I left reading ? Heere it is I thinke . Enter the Ghost of Caesar . How ill this Taper burnes . Ha ! Who comes heere ? I thinke it is the weakenesse of mine eyes That shapes this monstrous Apparition . It comes vpon me : Art thou any thing ? Art thou some God , some Angell , or some Diuell , That mak ' st my blood cold , and my haire to stare ? Speake to me , what thou art Ghost . Thy euill Spirit Brutus ? Bru . Why com ' st thou ? Ghost . To tell thee thou shalt see me at Philippi Brut . Well : then I shall see thee againe ? Ghost . I , at Philippi Brut . Why I will see thee at Philippi then : Now I haue taken heart , thou vanishest . Ill Spirit , I would hold more talke with thee . Boy , Lucius , Varrus , Claudio , Sirs : Awake : Claudio Luc . The strings my Lord , are false Bru . He thinkes he still is at his Instrument . Lucius , awake Luc . My Lord Bru . Did ' st thou dreame Lucius , that thou so cryedst out ? Luc . My Lord , I do not know that I did cry Bru . Yes that thou did ' st : Did ' st thou see any thing ? Luc . Nothing my Lord Bru . Sleepe againe Lucius : Sirra Claudio , Fellow , Thou : Awake Var . My Lord Clau . My Lord Bru . Why did you so cry out sirs , in your sleepe ? Both . Did we my Lord ? Bru . I : saw you any thing ? Var . No my Lord , I saw nothing Clau . Nor I my Lord Bru . Go , and commend me to my Brother Cassius : Bid him set on his Powres betimes before , And we will follow Both . It shall be done my Lord . Exeunt . Actus Quintus . Enter Octauius , Antony , and their Army . Octa . Now Antony , our hopes are answered , You said the Enemy would not come downe , But keepe the Hilles and vpper Regions : It proues not so : their battailes are at hand , They meane to warne vs at Philippi heere : Answering before we do demand of them Ant . Tut I am in their bosomes , and I know Wherefore they do it : They could be content To visit other places , and come downe With fearefull brauery : thinking by this face To fasten in our thoughts that they haue Courage ; But ' tis not so . Enter a Messenger . Mes . Prepare you Generals , The Enemy comes on in gallant shew : Their bloody signe of Battell is hung out , And something to be done immediately Ant . Octauius , leade your Battaile softly on Vpon the left hand of the euen Field Octa . Vpon the right hand I , keepe thou the left Ant . Why do you crosse me in this exigent Octa . I do not crosse you : but I will do so . March . Drum . Enter Brutus , Cassius , & their Army . Bru . They stand , and would haue parley Cassi . Stand fast Titinius , we must out and talke Octa . Mark Antony , shall we giue signe of Battaile ? Ant . No Caesar , we will answer on their Charge . Make forth , the Generals would haue some words Oct . Stirre not vntill the Signall Bru . Words before blowes : is it so Countrymen ? Octa . Not that we loue words better , as you do Bru . Good words are better then bad strokes Octauius An . In your bad strokes Brutus , you giue good words Witnesse the hole you made in Caesars heart , Crying long liue , Haile Caesar Cassi . Antony , The posture of your blowes are yet vnknowne ; But for your words , they rob the Hibla Bees , And leaue them Hony - lesse Ant . Not stinglesse too Bru . O yes , and soundlesse too : For you haue stolne their buzzing Antony , And very wisely threat before you sting Ant . Villains : you did not so , when your vile daggers Hackt one another in the sides of Caesar : You shew ' d your teethes like Apes , And fawn ' d like Hounds , And bow ' d like Bondmen , kissing Caesars feete ; Whil ' st damned Caska , like a Curre , behinde Strooke Caesar on the necke . O you Flatterers Cassi . Flatterers ? Now Brutus thanke your selfe , This tongue had not offended so to day . If Cassius might haue rul ' d Octa . Come , come , the cause . If arguing make vs swet , The proofe of it will turne to redder drops : Looke , I draw a Sword against Conspirators , When thinke you that the Sword goes vp againe ? Neuer till Caesars three and thirtie wounds Be well aueng ' d ; or till another Caesar Haue added slaughter to the Sword of Traitors Brut . Caesar , thou canst not dye by Traitors hands . Vnlesse thou bring ' st them with thee Octa . So I hope : I was not borne to dye on Brutus Sword Bru . O if thou wer ' t the Noblest of thy Straine , Yong - man , thou could ' st not dye more honourable Cassi . A peeuish School - boy , worthles of such Honor Ioyn ' d with a Masker , and a Reueller Ant . Old Cassius still Octa . Come Antony : away : Defiance Traitors , hurle we in your teeth . If you dare fight to day , come to the Field ; If not , when you haue stomackes . Exit Octauius , Antony , and Army Cassi . Why now blow winde , swell Billow , And swimme Barke : The Storme is vp , and all is on the hazard Bru . Ho Lucillius , hearke , a word with you . Lucillius and Messala stand forth . Luc . My Lord Cassi . Messala Messa . What sayes my Generall ? Cassi . Messala , this is my Birth - day : at this very day Was Cassius borne . Giue me thy hand Messala : Be thou my witnesse , that against my will ( As Pompey was ) am I compell ' d to set Vpon one Battell all our Liberties . You know , that I held Epicurus strong , And his Opinion : Now I change my minde , And partly credit things that do presage . Comming from Sardis , on our former Ensigne Two mighty Eagles fell , and there they pearch ' d , Gorging and feeding from our Soldiers hands , Who to Philippi heere consorted vs : This Morning are they fled away , and gone , And in their steeds , do Rauens , Crowes , and Kites Fly ore our heads , and downward looke on vs As we were sickely prey ; their shadowes seeme A Canopy most fatall , vnder which Our Army lies , ready to giue vp the Ghost Messa . Beleeue not so Cassi . I but beleeue it partly , For I am fresh of spirit , and resolu ' d To meete all perils , very constantly Bru . Euen so Lucillius Cassi . Now most Noble Brutus , The Gods to day stand friendly , that we may Louers in peace , leade on our dayes to age . But since the affayres of men rests still incertaine , Let ' s reason with the worst that may befall . If we do lose this Battaile , then is this The very last time we shall speake together : What are you then determined to do ? Bru . Euen by the rule of that Philosophy , By which I did blame Cato , for the death Which he did giue himselfe , I know not how : But I do finde it Cowardly , and vile , For feare of what might fall , so to preuent The time of life , arming my selfe with patience , To stay the prouidence of some high Powers , That gouerne vs below Cassi . Then , if we loose this Battaile , You are contented to be led in Triumph Thorow the streets of Rome Bru . No Cassius , no : Thinke not thou Noble Romane , That euer Brutus will go bound to Rome , He beares too great a minde . But this same day Must end that worke , the Ides of March begun . And whether we shall meete againe , I know not : Therefore our euerlasting farewell take : For euer , and for euer , farewell Cassius , If we do meete againe , why we shall smile ; If not , why then this parting was well made Cassi . For euer , and for euer , farewell Brutus : If we do meete againe , wee ' l smile indeede ; If not , ' tis true , this parting was well made Bru . Why then leade on . O that a man might know The end of this dayes businesse , ere it come : But it sufficeth , that the day will end , And then the end is knowne . Come ho , away . Exeunt . Alarum . Enter Brutus and Messala . Bru . Ride , ride Messala , ride and giue these Billes Vnto the Legions , on the other side . Lowd Alarum . Let them set on at once : for I perceiue But cold demeanor in Octauio ' s wing : And sodaine push giues them the ouerthrow : Ride , ride Messala , let them all come downe . Exeunt . Alarums . Enter Cassius and Titinius . Cassi . O looke Titinius , looke , the Villaines flye : My selfe haue to mine owne turn ' d Enemy : This Ensigne heere of mine was turning backe , I slew the Coward , and did take it from him Titin . O Cassius , Brutus gaue the word too early , Who hauing some aduantage on Octauius , Tooke it too eagerly : his Soldiers fell to spoyle , Whilst we by Antony are all inclos ' d . Enter Pindarus . Pind . Fly further off my Lord : flye further off , Mark Antony is in your Tents my Lord : Flye therefore Noble Cassius , flye farre off Cassi . This Hill is farre enough . Looke , look Titinius Are those my Tents where I perceiue the fire ? Tit . They are , my Lord Cassi . Titinius , if thou louest me , Mount thou my horse , and hide thy spurres in him , Till he haue brought thee vp to yonder Troopes And heere againe , that I may rest assur ' d Whether yond Troopes , are Friend or Enemy Tit . I will be heere againe , euen with a thought . Enter . Cassi . Go Pindarus , get higher on that hill , My sight was euer thicke : regard Titinius , And tell me what thou not ' st about the Field . This day I breathed first , Time is come round , And where I did begin , there shall I end , My life is run his compasse . Sirra , what newes ? Pind . Aboue . O my Lord Cassi . What newes ? Pind . Titinius is enclosed round about With Horsemen , that make to him on the Spurre , Yet he spurres on . Now they are almost on him : Now Titinius . Now some light : O he lights too . Hee ' s tane . Showt . And hearke , they shout for ioy Cassi . Come downe , behold no more : O Coward that I am , to liue so long , To see my best Friend tane before my face Enter Pindarus . Come hither sirrah : In Parthia did I take thee Prisoner , And then I swore thee , sauing of thy life , That whatsoeuer I did bid thee do , Thou should ' st attempt it . Come now , keepe thine oath , Now be a Free - man , and with this good Sword That ran through Caesars bowels , search this bosome . Stand not to answer : Heere , take thou the Hilts , And when my face is couer ' d , as ' tis now , Guide thou the Sword - Caesar , thou art reueng ' d , Euen with the Sword that kill ' d thee Pin . So , I am free , Yet would not so haue beene Durst I haue done my will . O Cassius , Farre from this Country Pindarus shall run , Where neuer Roman shall take note of him . Enter Titinius and Messala . Messa . It is but change , Titinius : for Octauius Is ouerthrowne by Noble Brutus power , As Cassius Legions are by Antony Titin . These tydings will well comfort Cassius Messa . Where did you leaue him Titin . All disconsolate , With Pindarus his Bondman , on this Hill Messa . Is not that he that lyes vpon the ground ? Titin . He lies not like the Liuing . O my heart ! Messa . Is not that hee ? Titin . No , this was he Messala , But Cassius is no more . O setting Sunne : As in thy red Rayes thou doest sinke to night ; So in his red blood Cassius day is set . The Sunne of Rome is set . Our day is gone , Clowds , Dewes , and Dangers come ; our deeds are done : Mistrust of my successe hath done this deed Messa . Mistrust of good successe hath done this deed . O hatefull Error , Melancholies Childe : Why do ' st thou shew to the apt thoughts of men The things that are not ? O Error soone conceyu ' d , Thou neuer com ' st vnto a happy byrth , But kil ' st the Mother that engendred thee Tit . What Pindarus ? Where art thou Pindarus ? Messa . Seeke him Titinius , whilst I go to meet The Noble Brutus , thrusting this report Into his eares ; I may say thrusting it : For piercing Steele , and Darts inuenomed , Shall be as welcome to the eares of Brutus , As tydings of this sight Tit . Hye you Messala , And I will seeke for Pindarus the while : Why did ' st thou send me forth braue Cassius ? Did I not meet thy Friends , and did not they Put on my Browes this wreath of Victorie , And bid me giue it thee ? Did ' st thou not heare their showts ? Alas , thou hast misconstrued euery thing . But hold thee , take this Garland on thy Brow , Thy Brutus bid me giue it thee , and I Will do his bidding . Brutus , come apace , And see how I regarded Caius Cassius : By your leaue Gods : This is a Romans part , Come Cassius Sword , and finde Titinius hart . Dies Alarum . Enter Brutus , Messala , yong Cato , Strato , Volumnius , and Lucillius . Bru . Where , where Messala , doth his body lye ? Messa . Loe yonder , and Titinius mourning it Bru . Titinius face is vpward Cato . He is slaine Bru . O Iulius Caesar , thou art mighty yet , Thy Spirit walkes abroad , and turnes our Swords In our owne proper Entrailes . Low Alarums Cato . Braue Titinius , Looke where he haue not crown ' d dead Cassius Bru . Are yet two Romans liuing such as these ? The last of all the Romans , far thee well : It is impossible , that euer Rome Should breed thy fellow . Friends I owe mo teares To this dead man , then you shall see me pay . I shall finde time , Cassius : I shall finde time . Come therefore , and to Tharsus send his body , His Funerals shall not be in our Campe , Least it discomfort vs . Lucillius come , And come yong Cato , let vs to the Field , Labio and Flauio set our Battailes on : ' Tis three a clocke , and Romans yet ere night , We shall try Fortune in a second fight . Exeunt . Alarum . Enter Brutus , Messala , Cato , Lucillius , and Flauius . Bru . Yet Country - men : O yet , hold vp your heads Cato . What Bastard doth not ? Who will go with me ? I will proclaime my name about the Field . I am the Sonne of Marcus Cato , hoe . A Foe to Tyrants , and my Countries Friend . I am the Sonne of Marcus Cato , hoe . Enter Souldiers , and fight . And I am Brutus , Marcus Brutus , I , Brutus my Countries Friend : Know me for Brutus Luc . O yong and Noble Cato , art thou downe ? Why now thou dyest , as brauely as Titinius , And may ' st be honour ' d , being Cato ' s Sonne Sold . Yeeld , or thou dyest Luc . Onely I yeeld to dye : There is so much , that thou wilt kill me straight : Kill Brutus , and be honour ' d in his death Sold . We must not : a Noble Prisoner . Enter Antony . 2 . Sold . Roome hoe : tell Antony , Brutus is tane 1 . Sold . Ile tell thee newes . Heere comes the Generall , Brutus is tane , Brutus is tane my Lord Ant . Where is hee ? Luc . Safe Antony , Brutus is safe enough : I dare assure thee , that no Enemy Shall euer take aliue the Noble Brutus : The Gods defend him from so great a shame , When you do finde him , or aliue , or dead , He will be found like Brutus , like himselfe Ant . This is not Brutus friend , but I assure you , A prize no lesse in worth ; keepe this man safe , Giue him all kindnesse . I had rather haue Such men my Friends , then Enemies . Go on , And see where Brutus be aliue or dead , And bring vs word , vnto Octauius Tent : How euery thing is chanc ' d . Exeunt . Enter Brutus , Dardanius , Clitus , Strato , and Volumnius . Brut . Come poore remaines of friends , rest on this Rocke Clit . Statillius shew ' d the Torch - light , but my Lord He came not backe : he is or tane , or slaine Brut . Sit thee downe , Clitus : slaying is the word , It is a deed in fashion . Hearke thee , Clitus Clit . What I , my Lord ? No , not for all the World Brut . Peace then , no words Clit . Ile rather kill my selfe Brut . Hearke thee , Dardanius Dard . Shall I doe such a deed ? Clit . O Dardanius Dard . O Clitus Clit . What ill request did Brutus make to thee ? Dard . To kill him , Clitus : looke he meditates Clit . Now is that Noble Vessell full of griefe , That it runnes ouer euen at his eyes Brut . Come hither , good Volumnius , list a word Volum . What sayes my Lord ? Brut . Why this , Volumnius : The Ghost of Caesar hath appear ' d to me Two seuerall times by Night : at Sardis , once ; And this last Night , here in Philippi fields : I know my houre is come Volum . Not so , my Lord Brut . Nay , I am sure it is , Volumnius . Thou seest the World , Volumnius , how it goes , Our Enemies haue beat vs to the Pit : Low Alarums . It is more worthy , to leape in our selues , Then tarry till they push vs . Good Volumnius , Thou know ' st , that we two went to Schoole together : Euen for that our loue of old , I prethee Hold thou my Sword Hilts , whilest I runne on it Vol . That ' s not an Office for a friend , my Lord . Alarum still . Cly . Fly , flye my Lord , there is no tarrying heere Bru . Farewell to you , and you , and Volumnius . Strato , thou hast bin all this while asleepe : Farewell to thee , to Strato , Countrymen : My heart doth ioy , that yet in all my life , I found no man , but he was true to me . I shall haue glory by this loosing day More then Octauius , and Marke Antony , By this vile Conquest shall attaine vnto . So fare you well at once , for Brutus tongue Hath almost ended his liues History : Night hangs vpon mine eyes , my Bones would rest , That haue but labour ' d , to attaine this houre . Alarum . Cry within , Flye , flye , flye . Cly . Fly my Lord , flye Bru . Hence : I will follow : I prythee Strato , stay thou by thy Lord , Thou art a Fellow of a good respect : Thy life hath had some smatch of Honor in it , Hold then my Sword , and turne away thy face , While I do run vpon it . Wilt thou Strato ? Stra . Giue me your hand first . Fare you wel my Lord Bru . Farewell good Strato . - Caesar , now be still , I kill ' d not thee with halfe so good a will . Dyes . Alarum . Retreat . Enter Antony , Octauius , Messala , Lucillius , and the Army . Octa . What man is that ? Messa . My Masters man . Strato , where is thy Master ? Stra . Free from the Bondage you are in Messala , The Conquerors can but make a fire of him : For Brutus onely ouercame himselfe , And no man else hath Honor by his death Lucil . So Brutus should be found . I thank thee Brutus That thou hast prou ' d Lucillius saying true , Octa . All that seru ' d Brutus , I will entertaine them . Fellow , wilt thou bestow thy time with me ? Stra . I , if Messala will preferre me to you Octa . Do so , good Messala Messa . How dyed my Master Strato ? Stra . I held the Sword , and he did run on it Messa . Octauius , then take him to follow thee , That did the latest seruice to my Master Ant . This was the Noblest Roman of them all : All the Conspirators saue onely hee , Did that they did , in enuy of great Caesar : He , onely in a generall honest thought , And common good to all , made one of them . His life was gentle , and the Elements So mixt in him , that Nature might stand vp , And say to all the world ; This was a man Octa . According to his Vertue , let vs vse him Withall Respect , and Rites of Buriall . Within my Tent his bones to night shall ly , Most like a Souldier ordered Honourably : So call the Field to rest , and let ' s away , To part the glories of this happy day . Exeunt . omnes . FINIS . THE TRAGEDIE OF IVLIVS CaeSAR .\""
      ]
     },
     "execution_count": 5,
     "metadata": {},
     "output_type": "execute_result"
    }
   ],
   "source": [
    "corpus"
   ]
  },
  {
   "cell_type": "markdown",
   "metadata": {},
   "source": [
    "# Text Preprocessing "
   ]
  },
  {
   "cell_type": "markdown",
   "metadata": {},
   "source": [
    "## Tokenization"
   ]
  },
  {
   "cell_type": "code",
   "execution_count": 6,
   "metadata": {},
   "outputs": [],
   "source": [
    "tokens = nltk.word_tokenize(corpus)"
   ]
  },
  {
   "cell_type": "code",
   "execution_count": 7,
   "metadata": {
    "scrolled": true,
    "tags": []
   },
   "outputs": [
    {
     "data": {
      "text/plain": [
       "['[',\n",
       " 'The',\n",
       " 'Tragedie',\n",
       " 'of',\n",
       " 'Julius',\n",
       " 'Caesar',\n",
       " 'by',\n",
       " 'William',\n",
       " 'Shakespeare',\n",
       " '1599',\n",
       " ']',\n",
       " 'Actus',\n",
       " 'Primus',\n",
       " '.',\n",
       " 'Scoena',\n",
       " 'Prima',\n",
       " '.',\n",
       " 'Enter',\n",
       " 'Flauius',\n",
       " ',',\n",
       " 'Murellus',\n",
       " ',',\n",
       " 'and',\n",
       " 'certaine',\n",
       " 'Commoners',\n",
       " 'ouer',\n",
       " 'the',\n",
       " 'Stage',\n",
       " '.',\n",
       " 'Flauius',\n",
       " '.',\n",
       " 'Hence',\n",
       " ':',\n",
       " 'home',\n",
       " 'you',\n",
       " 'idle',\n",
       " 'Creatures',\n",
       " ',',\n",
       " 'get',\n",
       " 'you',\n",
       " 'home',\n",
       " ':',\n",
       " 'Is',\n",
       " 'this',\n",
       " 'a',\n",
       " 'Holiday',\n",
       " '?',\n",
       " 'What',\n",
       " ',',\n",
       " 'know',\n",
       " 'you',\n",
       " 'not',\n",
       " '(',\n",
       " 'Being',\n",
       " 'Mechanicall',\n",
       " ')',\n",
       " 'you',\n",
       " 'ought',\n",
       " 'not',\n",
       " 'walke',\n",
       " 'Vpon',\n",
       " 'a',\n",
       " 'labouring',\n",
       " 'day',\n",
       " ',',\n",
       " 'without',\n",
       " 'the',\n",
       " 'signe',\n",
       " 'Of',\n",
       " 'your',\n",
       " 'Profession',\n",
       " '?',\n",
       " 'Speake',\n",
       " ',',\n",
       " 'what',\n",
       " 'Trade',\n",
       " 'art',\n",
       " 'thou',\n",
       " '?',\n",
       " 'Car',\n",
       " '.',\n",
       " 'Why',\n",
       " 'Sir',\n",
       " ',',\n",
       " 'a',\n",
       " 'Carpenter',\n",
       " 'Mur',\n",
       " '.',\n",
       " 'Where',\n",
       " 'is',\n",
       " 'thy',\n",
       " 'Leather',\n",
       " 'Apron',\n",
       " ',',\n",
       " 'and',\n",
       " 'thy',\n",
       " 'Rule',\n",
       " '?',\n",
       " 'What',\n",
       " 'dost',\n",
       " 'thou',\n",
       " 'with',\n",
       " 'thy',\n",
       " 'best',\n",
       " 'Apparrell',\n",
       " 'on',\n",
       " '?',\n",
       " 'You',\n",
       " 'sir',\n",
       " ',',\n",
       " 'what',\n",
       " 'Trade',\n",
       " 'are',\n",
       " 'you',\n",
       " '?',\n",
       " 'Cobl',\n",
       " '.',\n",
       " 'Truely',\n",
       " 'Sir',\n",
       " ',',\n",
       " 'in',\n",
       " 'respect',\n",
       " 'of',\n",
       " 'a',\n",
       " 'fine',\n",
       " 'Workman',\n",
       " ',',\n",
       " 'I',\n",
       " 'am',\n",
       " 'but',\n",
       " 'as',\n",
       " 'you',\n",
       " 'would',\n",
       " 'say',\n",
       " ',',\n",
       " 'a',\n",
       " 'Cobler',\n",
       " 'Mur',\n",
       " '.',\n",
       " 'But',\n",
       " 'what',\n",
       " 'Trade',\n",
       " 'art',\n",
       " 'thou',\n",
       " '?',\n",
       " 'Answer',\n",
       " 'me',\n",
       " 'directly',\n",
       " 'Cob',\n",
       " '.',\n",
       " 'A',\n",
       " 'Trade',\n",
       " 'Sir',\n",
       " ',',\n",
       " 'that',\n",
       " 'I',\n",
       " 'hope',\n",
       " 'I',\n",
       " 'may',\n",
       " 'vse',\n",
       " ',',\n",
       " 'with',\n",
       " 'a',\n",
       " 'safe',\n",
       " 'Conscience',\n",
       " ',',\n",
       " 'which',\n",
       " 'is',\n",
       " 'indeed',\n",
       " 'Sir',\n",
       " ',',\n",
       " 'a',\n",
       " 'Mender',\n",
       " 'of',\n",
       " 'bad',\n",
       " 'soules',\n",
       " 'Fla',\n",
       " '.',\n",
       " 'What',\n",
       " 'Trade',\n",
       " 'thou',\n",
       " 'knaue',\n",
       " '?',\n",
       " 'Thou',\n",
       " 'naughty',\n",
       " 'knaue',\n",
       " ',',\n",
       " 'what',\n",
       " 'Trade',\n",
       " '?',\n",
       " 'Cobl',\n",
       " '.',\n",
       " 'Nay',\n",
       " 'I',\n",
       " 'beseech',\n",
       " 'you',\n",
       " 'Sir',\n",
       " ',',\n",
       " 'be',\n",
       " 'not',\n",
       " 'out',\n",
       " 'with',\n",
       " 'me',\n",
       " ':',\n",
       " 'yet',\n",
       " 'if',\n",
       " 'you',\n",
       " 'be',\n",
       " 'out',\n",
       " 'Sir',\n",
       " ',',\n",
       " 'I',\n",
       " 'can',\n",
       " 'mend',\n",
       " 'you',\n",
       " 'Mur',\n",
       " '.',\n",
       " 'What',\n",
       " 'mean',\n",
       " \"'\",\n",
       " 'st',\n",
       " 'thou',\n",
       " 'by',\n",
       " 'that',\n",
       " '?',\n",
       " 'Mend',\n",
       " 'mee',\n",
       " ',',\n",
       " 'thou',\n",
       " 'sawcy',\n",
       " 'Fellow',\n",
       " '?',\n",
       " 'Cob',\n",
       " '.',\n",
       " 'Why',\n",
       " 'sir',\n",
       " ',',\n",
       " 'Cobble',\n",
       " 'you',\n",
       " 'Fla',\n",
       " '.',\n",
       " 'Thou',\n",
       " 'art',\n",
       " 'a',\n",
       " 'Cobler',\n",
       " ',',\n",
       " 'art',\n",
       " 'thou',\n",
       " '?',\n",
       " 'Cob',\n",
       " '.',\n",
       " 'Truly',\n",
       " 'sir',\n",
       " ',',\n",
       " 'all',\n",
       " 'that',\n",
       " 'I',\n",
       " 'liue',\n",
       " 'by',\n",
       " ',',\n",
       " 'is',\n",
       " 'with',\n",
       " 'the',\n",
       " 'Aule',\n",
       " ':',\n",
       " 'I',\n",
       " 'meddle',\n",
       " 'with',\n",
       " 'no',\n",
       " 'Tradesmans',\n",
       " 'matters',\n",
       " ',',\n",
       " 'nor',\n",
       " 'womens',\n",
       " 'matters',\n",
       " ';',\n",
       " 'but',\n",
       " 'withal',\n",
       " 'I',\n",
       " 'am',\n",
       " 'indeed',\n",
       " 'Sir',\n",
       " ',',\n",
       " 'a',\n",
       " 'Surgeon',\n",
       " 'to',\n",
       " 'old',\n",
       " 'shooes',\n",
       " ':',\n",
       " 'when',\n",
       " 'they',\n",
       " 'are',\n",
       " 'in',\n",
       " 'great',\n",
       " 'danger',\n",
       " ',',\n",
       " 'I',\n",
       " 'recouer',\n",
       " 'them',\n",
       " '.',\n",
       " 'As',\n",
       " 'proper',\n",
       " 'men',\n",
       " 'as',\n",
       " 'euer',\n",
       " 'trod',\n",
       " 'vpon',\n",
       " 'Neats',\n",
       " 'Leather',\n",
       " ',',\n",
       " 'haue',\n",
       " 'gone',\n",
       " 'vpon',\n",
       " 'my',\n",
       " 'handy',\n",
       " '-',\n",
       " 'worke',\n",
       " 'Fla',\n",
       " '.',\n",
       " 'But',\n",
       " 'wherefore',\n",
       " 'art',\n",
       " 'not',\n",
       " 'in',\n",
       " 'thy',\n",
       " 'Shop',\n",
       " 'to',\n",
       " 'day',\n",
       " '?',\n",
       " 'Why',\n",
       " 'do',\n",
       " \"'\",\n",
       " 'st',\n",
       " 'thou',\n",
       " 'leade',\n",
       " 'these',\n",
       " 'men',\n",
       " 'about',\n",
       " 'the',\n",
       " 'streets',\n",
       " '?',\n",
       " 'Cob',\n",
       " '.',\n",
       " 'Truly',\n",
       " 'sir',\n",
       " ',',\n",
       " 'to',\n",
       " 'weare',\n",
       " 'out',\n",
       " 'their',\n",
       " 'shooes',\n",
       " ',',\n",
       " 'to',\n",
       " 'get',\n",
       " 'my',\n",
       " 'selfe',\n",
       " 'into',\n",
       " 'more',\n",
       " 'worke',\n",
       " '.',\n",
       " 'But',\n",
       " 'indeede',\n",
       " 'sir',\n",
       " ',',\n",
       " 'we',\n",
       " 'make',\n",
       " 'Holyday',\n",
       " 'to',\n",
       " 'see',\n",
       " 'Caesar',\n",
       " ',',\n",
       " 'and',\n",
       " 'to',\n",
       " 'reioyce',\n",
       " 'in',\n",
       " 'his',\n",
       " 'Triumph',\n",
       " 'Mur',\n",
       " '.',\n",
       " 'Wherefore',\n",
       " 'reioyce',\n",
       " '?',\n",
       " 'What',\n",
       " 'Conquest',\n",
       " 'brings',\n",
       " 'he',\n",
       " 'home',\n",
       " '?',\n",
       " 'What',\n",
       " 'Tributaries',\n",
       " 'follow',\n",
       " 'him',\n",
       " 'to',\n",
       " 'Rome',\n",
       " ',',\n",
       " 'To',\n",
       " 'grace',\n",
       " 'in',\n",
       " 'Captiue',\n",
       " 'bonds',\n",
       " 'his',\n",
       " 'Chariot',\n",
       " 'Wheeles',\n",
       " '?',\n",
       " 'You',\n",
       " 'Blockes',\n",
       " ',',\n",
       " 'you',\n",
       " 'stones',\n",
       " ',',\n",
       " 'you',\n",
       " 'worse',\n",
       " 'then',\n",
       " 'senslesse',\n",
       " 'things',\n",
       " ':',\n",
       " 'O',\n",
       " 'you',\n",
       " 'hard',\n",
       " 'hearts',\n",
       " ',',\n",
       " 'you',\n",
       " 'cruell',\n",
       " 'men',\n",
       " 'of',\n",
       " 'Rome',\n",
       " ',',\n",
       " 'Knew',\n",
       " 'you',\n",
       " 'not',\n",
       " 'Pompey',\n",
       " 'many',\n",
       " 'a',\n",
       " 'time',\n",
       " 'and',\n",
       " 'oft',\n",
       " '?',\n",
       " 'Haue',\n",
       " 'you',\n",
       " 'climb',\n",
       " \"'\",\n",
       " 'd',\n",
       " 'vp',\n",
       " 'to',\n",
       " 'Walles',\n",
       " 'and',\n",
       " 'Battlements',\n",
       " ',',\n",
       " 'To',\n",
       " 'Towres',\n",
       " 'and',\n",
       " 'Windowes',\n",
       " '?',\n",
       " 'Yea',\n",
       " ',',\n",
       " 'to',\n",
       " 'Chimney',\n",
       " 'tops',\n",
       " ',',\n",
       " 'Your',\n",
       " 'Infants',\n",
       " 'in',\n",
       " 'your',\n",
       " 'Armes',\n",
       " ',',\n",
       " 'and',\n",
       " 'there',\n",
       " 'haue',\n",
       " 'sate',\n",
       " 'The',\n",
       " 'liue',\n",
       " '-',\n",
       " 'long',\n",
       " 'day',\n",
       " ',',\n",
       " 'with',\n",
       " 'patient',\n",
       " 'expectation',\n",
       " ',',\n",
       " 'To',\n",
       " 'see',\n",
       " 'great',\n",
       " 'Pompey',\n",
       " 'passe',\n",
       " 'the',\n",
       " 'streets',\n",
       " 'of',\n",
       " 'Rome',\n",
       " ':',\n",
       " 'And',\n",
       " 'when',\n",
       " 'you',\n",
       " 'saw',\n",
       " 'his',\n",
       " 'Chariot',\n",
       " 'but',\n",
       " 'appeare',\n",
       " ',',\n",
       " 'Haue',\n",
       " 'you',\n",
       " 'not',\n",
       " 'made',\n",
       " 'an',\n",
       " 'Vniuersall',\n",
       " 'shout',\n",
       " ',',\n",
       " 'That',\n",
       " 'Tyber',\n",
       " 'trembled',\n",
       " 'vnderneath',\n",
       " 'her',\n",
       " 'bankes',\n",
       " 'To',\n",
       " 'heare',\n",
       " 'the',\n",
       " 'replication',\n",
       " 'of',\n",
       " 'your',\n",
       " 'sounds',\n",
       " ',',\n",
       " 'Made',\n",
       " 'in',\n",
       " 'her',\n",
       " 'Concaue',\n",
       " 'Shores',\n",
       " '?',\n",
       " 'And',\n",
       " 'do',\n",
       " 'you',\n",
       " 'now',\n",
       " 'put',\n",
       " 'on',\n",
       " 'your',\n",
       " 'best',\n",
       " 'attyre',\n",
       " '?',\n",
       " 'And',\n",
       " 'do',\n",
       " 'you',\n",
       " 'now',\n",
       " 'cull',\n",
       " 'out',\n",
       " 'a',\n",
       " 'Holyday',\n",
       " '?',\n",
       " 'And',\n",
       " 'do',\n",
       " 'you',\n",
       " 'now',\n",
       " 'strew',\n",
       " 'Flowers',\n",
       " 'in',\n",
       " 'his',\n",
       " 'way',\n",
       " ',',\n",
       " 'That',\n",
       " 'comes',\n",
       " 'in',\n",
       " 'Triumph',\n",
       " 'ouer',\n",
       " 'Pompeyes',\n",
       " 'blood',\n",
       " '?',\n",
       " 'Be',\n",
       " 'gone',\n",
       " ',',\n",
       " 'Runne',\n",
       " 'to',\n",
       " 'your',\n",
       " 'houses',\n",
       " ',',\n",
       " 'fall',\n",
       " 'vpon',\n",
       " 'your',\n",
       " 'knees',\n",
       " ',',\n",
       " 'Pray',\n",
       " 'to',\n",
       " 'the',\n",
       " 'Gods',\n",
       " 'to',\n",
       " 'intermit',\n",
       " 'the',\n",
       " 'plague',\n",
       " 'That',\n",
       " 'needs',\n",
       " 'must',\n",
       " 'light',\n",
       " 'on',\n",
       " 'this',\n",
       " 'Ingratitude',\n",
       " 'Fla',\n",
       " '.',\n",
       " 'Go',\n",
       " ',',\n",
       " 'go',\n",
       " ',',\n",
       " 'good',\n",
       " 'Countrymen',\n",
       " ',',\n",
       " 'and',\n",
       " 'for',\n",
       " 'this',\n",
       " 'fault',\n",
       " 'Assemble',\n",
       " 'all',\n",
       " 'the',\n",
       " 'poore',\n",
       " 'men',\n",
       " 'of',\n",
       " 'your',\n",
       " 'sort',\n",
       " ';',\n",
       " 'Draw',\n",
       " 'them',\n",
       " 'to',\n",
       " 'Tyber',\n",
       " 'bankes',\n",
       " ',',\n",
       " 'and',\n",
       " 'weepe',\n",
       " 'your',\n",
       " 'teares',\n",
       " 'Into',\n",
       " 'the',\n",
       " 'Channell',\n",
       " ',',\n",
       " 'till',\n",
       " 'the',\n",
       " 'lowest',\n",
       " 'streame',\n",
       " 'Do',\n",
       " 'kisse',\n",
       " 'the',\n",
       " 'most',\n",
       " 'exalted',\n",
       " 'Shores',\n",
       " 'of',\n",
       " 'all',\n",
       " '.',\n",
       " 'Exeunt',\n",
       " '.',\n",
       " 'all',\n",
       " 'the',\n",
       " 'Commoners',\n",
       " '.',\n",
       " 'See',\n",
       " 'where',\n",
       " 'their',\n",
       " 'basest',\n",
       " 'mettle',\n",
       " 'be',\n",
       " 'not',\n",
       " 'mou',\n",
       " \"'\",\n",
       " 'd',\n",
       " ',',\n",
       " 'They',\n",
       " 'vanish',\n",
       " 'tongue',\n",
       " '-',\n",
       " 'tyed',\n",
       " 'in',\n",
       " 'their',\n",
       " 'guiltinesse',\n",
       " ':',\n",
       " 'Go',\n",
       " 'you',\n",
       " 'downe',\n",
       " 'that',\n",
       " 'way',\n",
       " 'towards',\n",
       " 'the',\n",
       " 'Capitoll',\n",
       " ',',\n",
       " 'This',\n",
       " 'way',\n",
       " 'will',\n",
       " 'I',\n",
       " ':',\n",
       " 'Disrobe',\n",
       " 'the',\n",
       " 'Images',\n",
       " ',',\n",
       " 'If',\n",
       " 'you',\n",
       " 'do',\n",
       " 'finde',\n",
       " 'them',\n",
       " 'deckt',\n",
       " 'with',\n",
       " 'Ceremonies',\n",
       " 'Mur',\n",
       " '.',\n",
       " 'May',\n",
       " 'we',\n",
       " 'do',\n",
       " 'so',\n",
       " '?',\n",
       " 'You',\n",
       " 'know',\n",
       " 'it',\n",
       " 'is',\n",
       " 'the',\n",
       " 'Feast',\n",
       " 'of',\n",
       " 'Lupercall',\n",
       " 'Fla',\n",
       " '.',\n",
       " 'It',\n",
       " 'is',\n",
       " 'no',\n",
       " 'matter',\n",
       " ',',\n",
       " 'let',\n",
       " 'no',\n",
       " 'Images',\n",
       " 'Be',\n",
       " 'hung',\n",
       " 'with',\n",
       " 'Caesars',\n",
       " 'Trophees',\n",
       " ':',\n",
       " 'Ile',\n",
       " 'about',\n",
       " ',',\n",
       " 'And',\n",
       " 'driue',\n",
       " 'away',\n",
       " 'the',\n",
       " 'Vulgar',\n",
       " 'from',\n",
       " 'the',\n",
       " 'streets',\n",
       " ';',\n",
       " 'So',\n",
       " 'do',\n",
       " 'you',\n",
       " 'too',\n",
       " ',',\n",
       " 'where',\n",
       " 'you',\n",
       " 'perceiue',\n",
       " 'them',\n",
       " 'thicke',\n",
       " '.',\n",
       " 'These',\n",
       " 'growing',\n",
       " 'Feathers',\n",
       " ',',\n",
       " 'pluckt',\n",
       " 'from',\n",
       " 'Caesars',\n",
       " 'wing',\n",
       " ',',\n",
       " 'Will',\n",
       " 'make',\n",
       " 'him',\n",
       " 'flye',\n",
       " 'an',\n",
       " 'ordinary',\n",
       " 'pitch',\n",
       " ',',\n",
       " 'Who',\n",
       " 'else',\n",
       " 'would',\n",
       " 'soare',\n",
       " 'aboue',\n",
       " 'the',\n",
       " 'view',\n",
       " 'of',\n",
       " 'men',\n",
       " ',',\n",
       " 'And',\n",
       " 'keepe',\n",
       " 'vs',\n",
       " 'all',\n",
       " 'in',\n",
       " 'seruile',\n",
       " 'fearefulnesse',\n",
       " '.',\n",
       " 'Exeunt',\n",
       " '.',\n",
       " 'Enter',\n",
       " 'Caesar',\n",
       " ',',\n",
       " 'Antony',\n",
       " 'for',\n",
       " 'the',\n",
       " 'Course',\n",
       " ',',\n",
       " 'Calphurnia',\n",
       " ',',\n",
       " 'Portia',\n",
       " ',',\n",
       " 'Decius',\n",
       " ',',\n",
       " 'Cicero',\n",
       " ',',\n",
       " 'Brutus',\n",
       " ',',\n",
       " 'Cassius',\n",
       " ',',\n",
       " 'Caska',\n",
       " ',',\n",
       " 'a',\n",
       " 'Soothsayer',\n",
       " ':',\n",
       " 'after',\n",
       " 'them',\n",
       " 'Murellus',\n",
       " 'and',\n",
       " 'Flauius',\n",
       " '.',\n",
       " 'Caes',\n",
       " '.',\n",
       " 'Calphurnia',\n",
       " 'Cask',\n",
       " '.',\n",
       " 'Peace',\n",
       " 'ho',\n",
       " ',',\n",
       " 'Caesar',\n",
       " 'speakes',\n",
       " 'Caes',\n",
       " '.',\n",
       " 'Calphurnia',\n",
       " 'Calp',\n",
       " '.',\n",
       " 'Heere',\n",
       " 'my',\n",
       " 'Lord',\n",
       " 'Caes',\n",
       " '.',\n",
       " 'Stand',\n",
       " 'you',\n",
       " 'directly',\n",
       " 'in',\n",
       " 'Antonio',\n",
       " \"'\",\n",
       " 's',\n",
       " 'way',\n",
       " ',',\n",
       " 'When',\n",
       " 'he',\n",
       " 'doth',\n",
       " 'run',\n",
       " 'his',\n",
       " 'course',\n",
       " '.',\n",
       " 'Antonio',\n",
       " 'Ant',\n",
       " '.',\n",
       " 'Cæsar',\n",
       " ',',\n",
       " 'my',\n",
       " 'Lord',\n",
       " 'Caes',\n",
       " '.',\n",
       " 'Forget',\n",
       " 'not',\n",
       " 'in',\n",
       " 'your',\n",
       " 'speed',\n",
       " 'Antonio',\n",
       " ',',\n",
       " 'To',\n",
       " 'touch',\n",
       " 'Calphurnia',\n",
       " ':',\n",
       " 'for',\n",
       " 'our',\n",
       " 'Elders',\n",
       " 'say',\n",
       " ',',\n",
       " 'The',\n",
       " 'Barren',\n",
       " 'touched',\n",
       " 'in',\n",
       " 'this',\n",
       " 'holy',\n",
       " 'chace',\n",
       " ',',\n",
       " 'Shake',\n",
       " 'off',\n",
       " 'their',\n",
       " 'sterrile',\n",
       " 'curse',\n",
       " 'Ant',\n",
       " '.',\n",
       " 'I',\n",
       " 'shall',\n",
       " 'remember',\n",
       " ',',\n",
       " 'When',\n",
       " 'Caesar',\n",
       " 'sayes',\n",
       " ',',\n",
       " 'Do',\n",
       " 'this',\n",
       " ';',\n",
       " 'it',\n",
       " 'is',\n",
       " 'perform',\n",
       " \"'\",\n",
       " 'd',\n",
       " 'Caes',\n",
       " '.',\n",
       " 'Set',\n",
       " 'on',\n",
       " ',',\n",
       " 'and',\n",
       " 'leaue',\n",
       " 'no',\n",
       " 'Ceremony',\n",
       " 'out',\n",
       " 'Sooth',\n",
       " '.',\n",
       " 'Caesar',\n",
       " 'Caes',\n",
       " '.',\n",
       " 'Ha',\n",
       " '?',\n",
       " 'Who',\n",
       " 'calles',\n",
       " '?',\n",
       " 'Cask',\n",
       " '.',\n",
       " 'Bid',\n",
       " 'euery',\n",
       " 'noyse',\n",
       " 'be',\n",
       " 'still',\n",
       " ':',\n",
       " 'peace',\n",
       " 'yet',\n",
       " 'againe',\n",
       " 'Caes',\n",
       " '.',\n",
       " 'Who',\n",
       " 'is',\n",
       " 'it',\n",
       " 'in',\n",
       " 'the',\n",
       " 'presse',\n",
       " ',',\n",
       " 'that',\n",
       " 'calles',\n",
       " 'on',\n",
       " 'me',\n",
       " '?',\n",
       " 'I',\n",
       " 'heare',\n",
       " 'a',\n",
       " 'Tongue',\n",
       " 'shriller',\n",
       " 'then',\n",
       " 'all',\n",
       " 'the',\n",
       " 'Musicke',\n",
       " 'Cry',\n",
       " ',',\n",
       " 'Caesar',\n",
       " ':',\n",
       " 'Speake',\n",
       " ',',\n",
       " 'Caesar',\n",
       " 'is',\n",
       " 'turn',\n",
       " \"'\",\n",
       " 'd',\n",
       " 'to',\n",
       " 'heare',\n",
       " 'Sooth',\n",
       " '.',\n",
       " 'Beware',\n",
       " 'the',\n",
       " 'Ides',\n",
       " 'of',\n",
       " 'March',\n",
       " 'Caes',\n",
       " '.',\n",
       " 'What',\n",
       " 'man',\n",
       " 'is',\n",
       " 'that',\n",
       " '?',\n",
       " 'Br',\n",
       " '.',\n",
       " 'A',\n",
       " 'Sooth',\n",
       " '-',\n",
       " 'sayer',\n",
       " 'bids',\n",
       " 'you',\n",
       " 'beware',\n",
       " 'the',\n",
       " 'Ides',\n",
       " 'of',\n",
       " 'March',\n",
       " ...]"
      ]
     },
     "execution_count": 7,
     "metadata": {},
     "output_type": "execute_result"
    }
   ],
   "source": [
    "tokens"
   ]
  },
  {
   "cell_type": "markdown",
   "metadata": {},
   "source": [
    "## Stopword Removal"
   ]
  },
  {
   "cell_type": "code",
   "execution_count": 8,
   "metadata": {},
   "outputs": [],
   "source": [
    "stop_words = set(nltk.corpus.stopwords.words('english'))"
   ]
  },
  {
   "cell_type": "code",
   "execution_count": 9,
   "metadata": {
    "scrolled": true,
    "tags": []
   },
   "outputs": [
    {
     "data": {
      "text/plain": [
       "{'a',\n",
       " 'about',\n",
       " 'above',\n",
       " 'after',\n",
       " 'again',\n",
       " 'against',\n",
       " 'ain',\n",
       " 'all',\n",
       " 'am',\n",
       " 'an',\n",
       " 'and',\n",
       " 'any',\n",
       " 'are',\n",
       " 'aren',\n",
       " \"aren't\",\n",
       " 'as',\n",
       " 'at',\n",
       " 'be',\n",
       " 'because',\n",
       " 'been',\n",
       " 'before',\n",
       " 'being',\n",
       " 'below',\n",
       " 'between',\n",
       " 'both',\n",
       " 'but',\n",
       " 'by',\n",
       " 'can',\n",
       " 'couldn',\n",
       " \"couldn't\",\n",
       " 'd',\n",
       " 'did',\n",
       " 'didn',\n",
       " \"didn't\",\n",
       " 'do',\n",
       " 'does',\n",
       " 'doesn',\n",
       " \"doesn't\",\n",
       " 'doing',\n",
       " 'don',\n",
       " \"don't\",\n",
       " 'down',\n",
       " 'during',\n",
       " 'each',\n",
       " 'few',\n",
       " 'for',\n",
       " 'from',\n",
       " 'further',\n",
       " 'had',\n",
       " 'hadn',\n",
       " \"hadn't\",\n",
       " 'has',\n",
       " 'hasn',\n",
       " \"hasn't\",\n",
       " 'have',\n",
       " 'haven',\n",
       " \"haven't\",\n",
       " 'having',\n",
       " 'he',\n",
       " 'her',\n",
       " 'here',\n",
       " 'hers',\n",
       " 'herself',\n",
       " 'him',\n",
       " 'himself',\n",
       " 'his',\n",
       " 'how',\n",
       " 'i',\n",
       " 'if',\n",
       " 'in',\n",
       " 'into',\n",
       " 'is',\n",
       " 'isn',\n",
       " \"isn't\",\n",
       " 'it',\n",
       " \"it's\",\n",
       " 'its',\n",
       " 'itself',\n",
       " 'just',\n",
       " 'll',\n",
       " 'm',\n",
       " 'ma',\n",
       " 'me',\n",
       " 'mightn',\n",
       " \"mightn't\",\n",
       " 'more',\n",
       " 'most',\n",
       " 'mustn',\n",
       " \"mustn't\",\n",
       " 'my',\n",
       " 'myself',\n",
       " 'needn',\n",
       " \"needn't\",\n",
       " 'no',\n",
       " 'nor',\n",
       " 'not',\n",
       " 'now',\n",
       " 'o',\n",
       " 'of',\n",
       " 'off',\n",
       " 'on',\n",
       " 'once',\n",
       " 'only',\n",
       " 'or',\n",
       " 'other',\n",
       " 'our',\n",
       " 'ours',\n",
       " 'ourselves',\n",
       " 'out',\n",
       " 'over',\n",
       " 'own',\n",
       " 're',\n",
       " 's',\n",
       " 'same',\n",
       " 'shan',\n",
       " \"shan't\",\n",
       " 'she',\n",
       " \"she's\",\n",
       " 'should',\n",
       " \"should've\",\n",
       " 'shouldn',\n",
       " \"shouldn't\",\n",
       " 'so',\n",
       " 'some',\n",
       " 'such',\n",
       " 't',\n",
       " 'than',\n",
       " 'that',\n",
       " \"that'll\",\n",
       " 'the',\n",
       " 'their',\n",
       " 'theirs',\n",
       " 'them',\n",
       " 'themselves',\n",
       " 'then',\n",
       " 'there',\n",
       " 'these',\n",
       " 'they',\n",
       " 'this',\n",
       " 'those',\n",
       " 'through',\n",
       " 'to',\n",
       " 'too',\n",
       " 'under',\n",
       " 'until',\n",
       " 'up',\n",
       " 've',\n",
       " 'very',\n",
       " 'was',\n",
       " 'wasn',\n",
       " \"wasn't\",\n",
       " 'we',\n",
       " 'were',\n",
       " 'weren',\n",
       " \"weren't\",\n",
       " 'what',\n",
       " 'when',\n",
       " 'where',\n",
       " 'which',\n",
       " 'while',\n",
       " 'who',\n",
       " 'whom',\n",
       " 'why',\n",
       " 'will',\n",
       " 'with',\n",
       " 'won',\n",
       " \"won't\",\n",
       " 'wouldn',\n",
       " \"wouldn't\",\n",
       " 'y',\n",
       " 'you',\n",
       " \"you'd\",\n",
       " \"you'll\",\n",
       " \"you're\",\n",
       " \"you've\",\n",
       " 'your',\n",
       " 'yours',\n",
       " 'yourself',\n",
       " 'yourselves'}"
      ]
     },
     "execution_count": 9,
     "metadata": {},
     "output_type": "execute_result"
    }
   ],
   "source": [
    "stop_words"
   ]
  },
  {
   "cell_type": "code",
   "execution_count": 10,
   "metadata": {},
   "outputs": [
    {
     "data": {
      "text/plain": [
       "114804"
      ]
     },
     "execution_count": 10,
     "metadata": {},
     "output_type": "execute_result"
    }
   ],
   "source": [
    "len(corpus)"
   ]
  },
  {
   "cell_type": "code",
   "execution_count": 11,
   "metadata": {},
   "outputs": [],
   "source": [
    "corpus = [word for word in tokens if word.lower() not in stop_words]"
   ]
  },
  {
   "cell_type": "code",
   "execution_count": 12,
   "metadata": {},
   "outputs": [],
   "source": [
    "corpus = \" \".join(corpus)"
   ]
  },
  {
   "cell_type": "code",
   "execution_count": 13,
   "metadata": {},
   "outputs": [
    {
     "data": {
      "text/plain": [
       "78782"
      ]
     },
     "execution_count": 13,
     "metadata": {},
     "output_type": "execute_result"
    }
   ],
   "source": [
    "len(corpus)"
   ]
  },
  {
   "cell_type": "code",
   "execution_count": 14,
   "metadata": {
    "scrolled": true,
    "tags": []
   },
   "outputs": [
    {
     "data": {
      "text/plain": [
       "\"[ Tragedie Julius Caesar William Shakespeare 1599 ] Actus Primus . Scoena Prima . Enter Flauius , Murellus , certaine Commoners ouer Stage . Flauius . Hence : home idle Creatures , get home : Holiday ? , know ( Mechanicall ) ought walke Vpon labouring day , without signe Profession ? Speake , Trade art thou ? Car . Sir , Carpenter Mur . thy Leather Apron , thy Rule ? dost thou thy best Apparrell ? sir , Trade ? Cobl . Truely Sir , respect fine Workman , would say , Cobler Mur . Trade art thou ? Answer directly Cob . Trade Sir , hope may vse , safe Conscience , indeed Sir , Mender bad soules Fla . Trade thou knaue ? Thou naughty knaue , Trade ? Cobl . Nay beseech Sir , : yet Sir , mend Mur . mean ' st thou ? Mend mee , thou sawcy Fellow ? Cob . sir , Cobble Fla . Thou art Cobler , art thou ? Cob . Truly sir , liue , Aule : meddle Tradesmans matters , womens matters ; withal indeed Sir , Surgeon old shooes : great danger , recouer . proper men euer trod vpon Neats Leather , haue gone vpon handy - worke Fla . wherefore art thy Shop day ? ' st thou leade men streets ? Cob . Truly sir , weare shooes , get selfe worke . indeede sir , make Holyday see Caesar , reioyce Triumph Mur . Wherefore reioyce ? Conquest brings home ? Tributaries follow Rome , grace Captiue bonds Chariot Wheeles ? Blockes , stones , worse senslesse things : hard hearts , cruell men Rome , Knew Pompey many time oft ? Haue climb ' vp Walles Battlements , Towres Windowes ? Yea , Chimney tops , Infants Armes , haue sate liue - long day , patient expectation , see great Pompey passe streets Rome : saw Chariot appeare , Haue made Vniuersall shout , Tyber trembled vnderneath bankes heare replication sounds , Made Concaue Shores ? put best attyre ? cull Holyday ? strew Flowers way , comes Triumph ouer Pompeyes blood ? gone , Runne houses , fall vpon knees , Pray Gods intermit plague needs must light Ingratitude Fla . Go , go , good Countrymen , fault Assemble poore men sort ; Draw Tyber bankes , weepe teares Channell , till lowest streame kisse exalted Shores . Exeunt . Commoners . See basest mettle mou ' , vanish tongue - tyed guiltinesse : Go downe way towards Capitoll , way : Disrobe Images , finde deckt Ceremonies Mur . May ? know Feast Lupercall Fla . matter , let Images hung Caesars Trophees : Ile , driue away Vulgar streets ; , perceiue thicke . growing Feathers , pluckt Caesars wing , make flye ordinary pitch , else would soare aboue view men , keepe vs seruile fearefulnesse . Exeunt . Enter Caesar , Antony Course , Calphurnia , Portia , Decius , Cicero , Brutus , Cassius , Caska , Soothsayer : Murellus Flauius . Caes . Calphurnia Cask . Peace ho , Caesar speakes Caes . Calphurnia Calp . Heere Lord Caes . Stand directly Antonio ' way , doth run course . Antonio Ant . Cæsar , Lord Caes . Forget speed Antonio , touch Calphurnia : Elders say , Barren touched holy chace , Shake sterrile curse Ant . shall remember , Caesar sayes , ; perform ' Caes . Set , leaue Ceremony Sooth . Caesar Caes . Ha ? calles ? Cask . Bid euery noyse still : peace yet againe Caes . presse , calles ? heare Tongue shriller Musicke Cry , Caesar : Speake , Caesar turn ' heare Sooth . Beware Ides March Caes . man ? Br . Sooth - sayer bids beware Ides March Caes . Set , let see face Cassi . Fellow , come throng , look vpon Caesar Caes . sayst thou ? Speak againe , Sooth . Beware Ides March Caes . Dreamer , let vs leaue : Passe . Sennet Exeunt . Manet Brut . & Cass . Cassi . go see order course ? Brut . Cassi . pray Brut . Gamesom : lacke part quicke Spirit Antony : Let hinder Cassius desires ; Ile leaue Cassi . Brutus , obserue late : haue eyes , gentlenesse shew Loue , wont haue : beare stubborne , strange hand Ouer Friend , loues Bru . Cassius , deceiu ' : haue veyl ' looke , turne trouble Countenance Meerely vpon selfe . Vexed late , passions difference , Conceptions onely proper selfe , giue soyle ( perhaps ) Behauiours : let therefore good Friends greeu ' ( Among number Cassius one ) construe neglect , poore Brutus himselfe warre , Forgets shewes Loue men Cassi . Brutus , haue much mistook passion , meanes whereof , Brest mine hath buried Thoughts great value , worthy Cogitations . Tell good Brutus , see face ? Brutus . Cassius : eye sees selfe reflection , things Cassius . ' Tis iust , much lamented Brutus , haue Mirrors , turne hidden worthinesse eye , might see shadow : haue heard , many best respect Rome , ( Except immortall Caesar ) speaking Brutus , groaning vnderneath Ages yoake , Haue wish ' , Noble Brutus eyes Bru . dangers , would Leade Cassius ? would haue seeke selfe , ? Cas . Therefore good Brutus , prepar ' heare : since know , see selfe well Reflection ; Glasse , modestly discouer selfe selfe , yet know . iealous , gentle Brutus : common Laughter , vse stale ordinary Oathes loue euery new Protester : know , fawne men , hugge hard , scandall : know , professe selfe Banquetting Rout , hold dangerous . Flourish , Shout . Bru . meanes Showting ? feare , People choose Caesar King Cassi . , feare ? must thinke would haue Bru . would Cassius , yet loue well : wherefore hold heere long ? , would impart ? ought toward generall good , Set Honor one eye , Death ' th , looke indifferently : let Gods speed mee , loue name Honor , feare death Cassi . know vertue Brutus , well know outward fauour . Well , Honor subiect Story : tell , men Thinke life : single selfe , liefe , liue awe Thing , selfe . borne free Caesar , , haue fed well , Endure Winters cold , well hee . , vpon Rawe Gustie day , troubled Tyber , chafing Shores , Caesar saide , Dar ' st thou Cassius Leape angry Flood , swim yonder Point ? Vpon word , Accoutred , plunged , bad follow : indeed . Torrent roar ' , buffet lusty Sinewes , throwing aside , stemming hearts Controuersie . ere could arriue Point propos ' , Caesar cride , Helpe Cassius , sinke . ( Aeneas , great Ancestor , Flames Troy , vpon shoulder old Anchyses beare ) , waues Tyber tyred Caesar : Man , become God , Cassius wretched Creature , must bend body , Caesar carelesly nod . Feauer Spaine , Fit , marke shake : Tis true , God shake , Coward lippes colour flye , Eye , whose bend doth awe World , loose Lustre : heare grone : , Tongue , bad Romans Marke , write Speeches Bookes , Alas , cried , Giue drinke Titinius , sicke Girle : Ye Gods , doth amaze , man feeble temper get start Maiesticke world , beare Palme alone . Shout . Flourish . Bru . Another generall shout ? beleeue , applauses new Honors , heap ' Caesar Cassi . man , doth bestride narrow world Like Colossus , petty men Walke vnder huge legges , peepe finde selues dishonourable Graues . Men sometime , Masters Fates . fault ( deere Brutus ) Starres , Selues , vnderlings . Brutus Caesar : Caesar ? name sounded Write together : , faire Name : Sound , doth become mouth aswell : Weigh , heauy : Coniure ' em , Brutus start Spirit soone Caesar . names Gods , Vpon meate doth Caesar feede , growne great ? Age , thou art sham ' . Rome , thou hast lost breed Noble Bloods . went Age , since great Flood , fam ' one man ? could say ( till ) talk ' Rome , wide Walkes incompast one man ? Rome indeed , Roome enough one onely man . ! , haue heard Fathers say , Brutus , would haue brook ' Th ' eternall Diuell keepe State Rome , easily King Bru . loue , nothing iealous : would worke , haue ayme : haue thought , times shall recount heereafter . present , would ( loue might intreat ) moou ' : haue said , consider : haue say patience heare , finde time meete heare , answer high things . Till , Noble Friend , chew vpon : Brutus rather Villager , repute himselfe Sonne Rome Vnder hard Conditions , time like lay vpon vs Cassi . glad weake words Haue strucke thus much shew fire Brutus , Enter Caesar Traine . Bru . Games done , Caesar returning Cassi . passe , Plucke Caska Sleeue , ( sowre fashion ) tell hath proceeded worthy note day Bru . : looke Cassius , angry spot doth glow Caesars brow , rest , looke like chidden Traine ; Calphurnia ' Cheeke pale , Cicero Lookes Ferret , fiery eyes haue seene Capitoll crost Conference , Senators Cassi . Caska tell vs matter Caes Antonio Ant . Caesar Caes Let haue men , fat , Sleeke - headed men , sleepe - nights : Yond Cassius leane hungry looke , thinkes much : men dangerous Ant . Feare Caesar , ' dangerous , Noble Roman , well giuen Caes Would fatter ; feare : Yet name lyable feare , know man auoyd soone spare Cassius . reades much , great Obseruer , lookes Quite Deeds men . loues Playes , thou dost Antony : heares Musicke ; Seldome smiles , smiles sort mock ' himselfe , scorn ' spirit could mou ' smile thing . men , neuer hearts ease , Whiles behold greater themselues , therefore dangerous . rather tell thee fear ' , feare : alwayes Caesar . Come right hand , eare deafe , tell truely , thou think ' st . Sennit . Exeunt . Caesar Traine . Cask . pul ' cloake , would speake ? Bru . Caska , tell vs hath chanc ' day Caesar lookes sad Cask . , ? Bru . aske Caska chanc ' Cask . Crowne offer ' ; & offer ' , put backe hand thus , people fell shouting Bru . second noyse ? Cask . Cassi . shouted thrice : last cry ? Cask . Bru . Crowne offer ' thrice ? Cask . marry ' , hee put thrice , euerie time gentler ; euery putting , mine honest Neighbors showted Cassi . offer ' Crowne ? Cask . Antony Bru . Tell vs manner , gentle Caska Caska . well bee hang ' tell manner : meere Foolerie , marke . sawe Marke Antony offer Crowne , yet ' twas Crowne neyther , ' twas one Coronets : told , hee put : , thinking , would faine haue . hee offered againe : hee put againe : thinking , loath lay fingers . offered third time ; hee put third time , still hee refus ' , rabblement howted , clapp ' chopt hands , threw vppe sweatie Night - cappes , vttered deale stinking breath , Caesar refus ' Crowne , ( almost ) choaked Caesar : hee swoonded , fell downe : mine owne part , durst laugh , feare opening Lippes , receyuing bad Ayre Cassi . soft pray : , Caesar swound ? Cask . fell downe Market - place , foam ' mouth , speechlesse Brut . ' Tis like hath Falling sicknesse Cassi . , Caesar hath : , , honest Caska , haue Falling sicknesse Cask . know meane , sure Caesar fell downe . tag - ragge people clap , hisse , according pleas ' , displeas ' , vse doe Players Theatre , true man Brut . said , came vnto himselfe ? Cask . Marry , fell downe , perceiu ' common Heard glad refus ' Crowne , pluckt ope Doublet , offer ' Throat cut : beene man Occupation , would haue taken word , would might goe Hell among Rogues , hee fell . came himselfe againe , hee said , hee done , said thing amisse , desir ' Worships thinke infirmitie . Three foure Wenches stood , cryed , Alasse good Soule , forgaue hearts : ' heed taken ; Caesar stab ' Mothers , would haue done lesse Brut . , came thus sad away Cask . Cassi . Cicero say thing ? Cask . , spoke Greeke Cassi . effect ? Cask . Nay , tell , Ile ne ' looke ' th ' face againe . vnderstood , smil ' one another , shooke heads : mine owne part , Greeke . could tell newes : Murrellus Flauius , pulling Scarffes Caesars Images , put silence . Fare well . Foolerie yet , could remember Cassi . suppe Night , Caska ? Cask . , promis ' forth Cassi . Dine morrow ? Cask . , aliue , minde hold , Dinner worth eating Cassi . Good , expect Cask . Doe : farewell . Enter . Brut . blunt fellow growne ? quick Mettle , went Schoole Cassi . , execution bold , Noble Enterprize , - euer puts tardie forme : Rudenesse Sawce good Wit , giues men stomacke disgest words better Appetite Brut . : time leaue : morrow , please speake , come home : , Come home , wait Cassi . doe : till , thinke World . Exit Brutus . Well Brutus , thou art Noble : yet see , Thy Honorable Mettle may wrought dispos ' : therefore meet , Noble mindes keepe euer likes : firme , seduc ' ? Caesar doth beare hard , loues Brutus . Brutus , Cassius , humor . Night , seuerall Hands , Windowes throw , came seuerall Citizens , Writings , tending great opinion Rome holds Name : wherein obscurely Caesars Ambition shall glanced . , let Caesar seat sure , wee shake , worse dayes endure . Enter . Thunder , Lightning . Enter Caska , Cicero . Cic . Good euen , Caska : brought Caesar home ? breathlesse , stare ? Cask . mou ' , sway Earth Shakes , like thing vnfirme ? Cicero , haue seene Tempests , scolding Winds Haue riu ' knottie Oakes , haue seene Th ' ambitious Ocean swell , rage , foame , exalted threatning Clouds : neuer till Night , neuer till , goe Tempest - dropping - fire . Eyther Ciuill strife Heauen , else World , sawcie Gods , Incenses send destruction Cic . , saw thing wonderfull ? Cask . common slaue , know well sight , Held vp left Hand , flame burne Like twentie Torches ioyn ' ; yet Hand , sensible fire , remain ' vnscorch ' . Besides , ha ' since put vp Sword , Capitoll met Lyon , glaz ' vpon , went surly , Without annoying . drawne Vpon heape , hundred gastly Women , Transformed feare , swore , saw Men , fire , walke vp downe streetes . yesterday , Bird Night sit , Euen Noone - day , vpon Market place , Howting , shreeking . Prodigies Doe conioyntly meet , let men say , Reasons , Naturall : beleeue , portentous things Vnto Clymate , point vpon Cic . Indeed , strange disposed time : men may construe things fashion , Cleane purpose things themselues . Comes Caesar Capitoll morrow ? Cask . doth : bid Antonio Send word , would morrow Cic . Good - night , Caska : disturbed Skie walke Cask . Farewell Cicero . Exit Cicero . Enter Cassius . Cassi . ' ? Cask . Romane Cassi . Caska , Voyce Cask . Eare good . Cassius , Night ? Cassi . pleasing Night honest men Cask . euer knew Heauens menace ? Cassi . haue knowne Earth full faults . part , haue walk ' streets , Submitting vnto perillous Night ; thus vnbraced , Caska , see , Haue bar ' Bosome Thunder - stone : crosse blew Lightning seem ' open Brest Heauen , present selfe Euen ayme , flash Cask . wherefore much tempt Heauens ? part men , feare tremble , mightie Gods , tokens send dreadfull Heraulds , astonish vs Cassi . dull , Caska : sparkes Life , Roman , doe want , else vse . looke pale , gaze , put feare , cast selfe wonder , see strange impatience Heauens : would consider true cause , Fires , gliding Ghosts , Birds Beasts , qualitie kinde , Old men , Fooles , Children calculate , things change Ordinance , Natures , pre - formed Faculties , monstrous qualitie ; shall finde , Heauen hath infus ' Spirits , make Instruments feare , warning , Vnto monstrous State . could ( Caska ) name thee man , like dreadfull Night , Thunders , Lightens , opens Graues , roares , doth Lyon Capitoll : man mightier thy selfe , , personall action ; yet prodigious growne , fearefull , strange eruptions Cask . ' Tis Caesar meane : , Cassius ? Cassi . Let : Romans Haue Thewes , Limbes , like Ancestors ; woe , Fathers mindes dead , gouern ' Mothers spirits , yoake , sufferance , shew vs Womanish Cask . Indeed , say , Senators morrow Meane establish Caesar King : shall weare Crowne Sea , Land , euery place , saue Italy Cassi . know weare Dagger ; Cassius Bondage deliuer Cassius : Therein , yee Gods , make weake strong ; Therein , yee Gods , Tyrants doe defeat . Stonie Tower , Walls beaten Brasse , ayre - lesse Dungeon , strong Linkes Iron , retentiue strength spirit : Life wearie worldly Barres , Neuer lacks power dismisse selfe . know , know World besides , part Tyrannie doe beare , shake pleasure . Thunder still . Cask . : euery Bond - man owne hand beares power cancell Captiuitie Cassi . Cæsar Tyrant ? Poore man , know would Wolfe , sees Romans Sheepe : Lyon , Romans Hindes . haste make mightie fire , Begin weake Strawes . trash Rome ? Rubbish , Offall ? serues base matter , illuminate vile thing Caesar . oh Griefe , hast thou led ? ( perhaps ) speake willing Bond - man : know answere must made . arm ' , dangers indifferent Cask . speake Caska , man , flearing Tell - tale . Hold , Hand : factious redresse Griefes , set foot mine farre , goes farthest Cassi . ' Bargaine made . know , Caska , haue mou ' already certaine Noblest minded Romans vnder - goe , , Enterprize , Honorable dangerous consequence ; doe know , stay Pompeyes Porch : fearefull Night , stirre , walking streetes ; Complexion Element Fauors , like Worke haue hand , bloodie , fierie , terrible . Enter Cinna . Caska . Stand close , heere comes one haste Cassi . ' Tis Cinna , doe know Gate , friend . Cinna , haste ? Cinna . finde : ' , Metellus Cymber ? Cassi . , Caska , one incorporate Attempts . stay ' , Cinna ? Cinna . glad ' . fearefull Night ? ' two three vs haue seene strange sights Cassi . stay ' ? tell Cinna . Yes , . Cassius , could winne Noble Brutus party - Cassi . content . Good Cinna , take Paper , looke lay Pretors Chayre , Brutus may finde : throw Window ; set vp Waxe Vpon old Brutus Statue : done , Repaire Pompeyes Porch , shall finde vs . Decius Brutus Trebonius ? Cinna . , Metellus Cymber , hee ' gone seeke house . Well , hie , bestow Papers bad Cassi . done , repayre Pompeyes Theater . Exit Cinna . Come Caska , yet , ere day , See Brutus house : three parts alreadie , man entire Vpon next encounter , yeelds Cask . , sits high Peoples hearts : would appeare Offence vs , Countenance , like richest Alchymie , change Vertue , Worthinesse Cassi . , worth , great need , haue right well conceited : let vs goe , Mid - night , ere day , awake , sure . Exeunt . Actus Secundus . Enter Brutus Orchard . Brut . Lucius , hoe ? , progresse Starres , Giue guesse neere day - Lucius , say ? would fault sleepe soundly . Lucius , ? awake , say : Lucius ? Enter Lucius . Luc . Call ' , Lord ? Brut . Get Tapor Study , Lucius : lighted , come call Luc . , Lord . Enter . Brut . must death : part , know personall cause , spurne , generall . would crown ' : might change nature , ' question ? bright day , brings forth Adder , craues warie walking : Crowne , graunt put Sting , may doe danger . Th ' abuse Greatnesse , , dis - ioynes Remorse Power : speake truth Caesar , haue knowne , Affections sway ' Reason . ' tis common proofe , Lowlynesse young Ambitions Ladder , Whereto Climber vpward turnes Face : attaines vpmost Round , vnto Ladder turnes Backe , Lookes Clouds , scorning base degrees ascend : Caesar may ; least may , preuent . since Quarrell beare colour , thing , Fashion thus ; , augmented , Would runne , extremities : therefore thinke Serpents egge , hatch ' , would kinde grow mischieuous ; kill shell . Enter Lucius . Luc . Taper burneth Closet , Sir : Searching Window Flint , found Paper , thus seal ' vp , sure lye went Bed . Giues Letter . Brut . Get Bed againe , day : morrow ( Boy ) first March ? Luc . know , Sir Brut . Looke Calender , bring word Luc . , Sir . Enter . Brut . exhalations , whizzing ayre , Giue much light , may reade . Opens Letter , reades . Brutus thou sleep ' st ; awake , see thy selfe : Shall Rome , & c . speake , strike , redresse . Brutus , thou sleep ' st : awake . instigations haue beene often dropt , haue tooke vp : Shall Rome , & c . Thus must piece : Shall Rome stand vnder one mans awe ? Rome ? Ancestors streetes Rome Tarquin driue , call ' King . Speake , strike , redresse . entreated speake , strike ? Rome , make thee promise , redresse follow , thou receiuest Thy full Petition hand Brutus . Enter Lucius . Luc . Sir , March wasted fifteene dayes . Knocke within . Brut . ' Tis good . Go Gate , body knocks : Since Cassius first whet Caesar , haue slept . Betweene acting dreadfull thing , first motion , Interim Like Phantasma , hideous Dreame : Genius , mortall Instruments councell ; state man , Like little Kingdome , suffers nature Insurrection . Enter Lucius . Luc . Sir , ' tis Brother Cassius Doore , doth desire see Brut . alone ? Luc . , Sir , moe Brut . Doe know ? Luc . , Sir , Hats pluckt Eares , halfe Faces buried Cloakes , meanes may discouer , marke fauour Brut . Let ' em enter : Faction . Conspiracie , Sham ' st thou shew thy dang ' rous Brow Night , euills free ? , day wilt thou finde Cauerne darke enough , maske thy monstrous Visage ? Seek none Conspiracie , Hide Smiles , Affabilitie : thou path thy natiue semblance , Erebus selfe dimme enough , hide thee preuention . Enter Conspirators , Cassius , Caska , Decius , Cinna , Metellus , Trebonius . Cass . thinke bold vpon Rest : Good morrow Brutus , doe trouble ? Brut . haue beene vp howre , awake Night : Know men , come along ? Cass . Yes , euery man ; man honors : euery one doth wish , opinion selfe , euery Noble Roman beares . Trebonius Brut . welcome hither Cass . , Decius Brutus Brut . welcome Cass . , Caska ; , Cinna ; , Metellus Cymber Brut . welcome . watchfull Cares doe interpose themselues Betwixt Eyes , Night ? Cass . Shall entreat word ? whisper . Decius . lyes East : doth Day breake heere ? Cask . Cin . pardon , Sir , doth ; yon grey Lines , fret Clouds , Messengers Day Cask . shall confesse , deceiu ' : Heere , point Sword , Sunne arises , great way growing South , Weighing youthfull Season yeare . two moneths hence , vp higher toward North first presents fire , high East Stands Capitoll , directly heere Bru . Giue hands ouer , one one Cas . let vs sweare Resolution Brut . , Oath : Face men , sufferance Soules , times Abuse ; Motiues weake , breake betimes , euery man hence , idle bed : let high - sighted - Tyranny range , Till man drop Lottery . ( sure ) beare fire enough kindle Cowards , steele valour melting Spirits women . Countrymen , neede spurre , owne cause pricke vs redresse ? Bond , secret Romans , haue spoke word , palter ? Oath , Honesty Honesty ingag ' , shall , fall . Sweare Priests Cowards , men Cautelous Old feeble Carrions , suffering Soules welcome wrongs : Vnto bad causes , sweare Creatures men doubt ; staine euen vertue Enterprize , th ' insuppressiue Mettle Spirits , thinke , Cause , Performance neede Oath . euery drop blood euery Roman beares , Nobly beares guilty seuerall Bastardie , breake smallest Particle promise hath past Cas . Cicero ? Shall sound ? thinke stand strong vs Cask . Let vs leaue Cyn . , meanes Metel . let vs haue , Siluer haires purchase vs good opinion : buy mens voyces , commend deeds : shall sayd , iudgement rul ' hands , youths , wildenesse , shall whit appeare , buried Grauity Bru . name ; let vs breake , neuer follow thing men begin Cas . leaue Cask . Indeed , fit Decius . Shall man else toucht , onely Caesar ? Cas . Decius well vrg ' : thinke meet , Marke Antony , well belou ' Caesar , - liue Caesar , shall finde shrew ' Contriuer . know , meanes improue , may well stretch farre annoy vs : preuent , Let Antony Caesar fall together Bru . course seeme bloody , Caius Cassius , cut Head , hacke Limbes : Like Wrath death , Enuy afterwards : Antony , Limbe Caesar . Let ' Sacrificers , Butchers Caius : stand vp spirit Caesar , Spirit men , blood : could come Caesars Spirit , dismember Caesar ! ( alas ) Caesar must bleed . gentle Friends , Let ' kill Boldly , Wrathfully : Let ' carue , Dish fit Gods , hew Carkasse fit Hounds : let Hearts , subtle Masters , Stirre vp Seruants acte Rage , seeme chide ' em . shall make purpose Necessary , Enuious . appearing common eyes , shall call ' Purgers , Murderers . Marke Antony , thinke : Caesars Arme , Caesars head Cas . Yet feare , ingrafted loue beares Caesar Bru . Alas , good Cassius , thinke : loue Caesar , himselfe ; take thought , dye Caesar , much : giuen sports , wildenesse , much company Treb . feare ; let dye , liue , laugh heereafter . Clocke strikes . Bru . Peace , count Clocke Cas . Clocke hath stricken three Treb . ' Tis time part Cass . doubtfull yet , Whether Caesar come forth day , : Superstitious growne late , Quite maine Opinion held , Fantasie , Dreames , Ceremonies : may , apparant Prodigies , vnaccustom ' Terror night , perswasion Augurers , May hold Capitoll day Decius . Neuer feare : resolu ' , ore - sway : loues heare , Vnicornes may betray ' Trees , Beares Glasses , Elephants Holes , Lyons Toyles , men Flatterers . , tell , hates Flatterers , sayes , ; flattered . Let worke : giue humour true bent ; bring Capitoll Cas . Nay , vs , fetch Bru . eight houre , vttermost ? Cin . vttermost , faile Met . Caius Ligarius doth beare Caesar hard , rated speaking well Pompey ; wonder none haue thought Bru . good Metellus go along : loues well , haue giuen Reasons , Send hither , Ile fashion Cas . morning comes vpon ' : Wee ' l leaue Brutus , Friends disperse selues ; remember haue said , shew selues true Romans Bru . Good Gentlemen , looke fresh merrily , Let lookes put purposes , beare Roman Actors , vntyr ' Spirits , formall Constancie , good morrow euery one . Exeunt . Manet Brutus . Boy : Lucius : Fast asleepe ? matter , Enioy hony - heauy - Dew Slumber : Thou hast Figures , Fantasies , busie care drawes , braines men ; Therefore thou sleep ' st sound . Enter Portia . Por . Brutus , Lord Bru . Portia : meane ? wherfore rise ? health , thus commit weake condition , raw cold morning Por . neither . ' haue vngently Brutus Stole bed : yesternight Supper sodainly arose , walk ' , Musing , sighing , armes acrosse ask ' matter , star ' vpon , vngentle lookes . vrg ' , scratch ' head , impatiently stampt foote : Yet insisted , yet answer ' , angry wafter hand Gaue signe leaue : , Fearing strengthen impatience seem ' much inkindled ; withall , Hoping effect Humor , sometime hath houre euery man . let eate , talke , sleepe ; could worke much vpon shape , hath much preuayl ' Condition , know Brutus . Deare Lord , Make acquainted cause greefe Bru . well health , Por . Brutus wise , health , would embrace meanes come Bru . : good Portia go bed Por . Brutus sicke ? Physicall walke vnbraced , sucke vp humours danke Morning ? , Brutus sicke ? steale wholsome bed dare vile contagion Night ? tempt Rhewmy , vnpurged Ayre , adde vnto sicknesse ? Brutus , haue sicke Offence within minde , Right Vertue place ought know : vpon knees , charme , commended Beauty , vowes Loue , great Vow incorporate make vs one , vnfold , selfe ; halfe heauy : men night Haue resort : heere haue beene sixe seuen , hide faces Euen darknesse Bru . Kneele gentle Portia Por . neede , gentle Brutus . Within Bond Marriage , tell Brutus , excepted , know Secrets appertaine ? Selfe , sort , limitation ? keepe Meales , comfort Bed , talke sometimes ? Dwell Suburbs good pleasure ? , Portia Brutus Harlot , Wife Bru . true honourable Wife , deere , ruddy droppes visit sad heart Por . true , know secret . graunt Woman ; withall , Woman Lord Brutus tooke Wife : graunt Woman ; withall , Woman well reputed : Cato ' Daughter . Thinke , stronger Sex Father ' , Husbanded ? Tell Counsels , disclose ' em : haue made strong proofe Constancie , Giuing selfe voluntary wound Heere , Thigh : beare patience , Husbands Secrets ? Bru . ye Gods ! Render worthy Noble Wife . Knocke . Harke , harke , one knockes : Portia go , thy bosome shall partake secrets Heart . engagements , construe thee , Charractery sad browes : Leaue hast . Exit Portia . Enter Lucius Ligarius . Lucius , ' knockes Luc . Heere sicke man would speak Bru . Caius Ligarius , Metellus spake . Boy , stand aside . Caius Ligarius , ? Cai . Vouchsafe good morrow feeble tongue Bru . time haue chose braue Caius weare Kerchiefe ? Would sicke Cai . sicke , Brutus haue hand exploit worthy name Honor Bru . exploit haue hand Ligarius , healthfull eare heare Cai . Gods Romans bow , heere discard sicknesse . Soule Rome , Braue Sonne , deriu ' Honourable Loines , Thou like Exorcist , hast coniur ' vp mortified Spirit . bid runne , striue things impossible , Yea get better . ' ? Bru . peece worke , make sicke men whole Cai . whole , must make sicke ? Bru . must also . Caius , shall vnfold thee , going , must done Cai . Set foote , heart new - fir ' , follow , know : sufficeth Brutus leads . Thunder Bru . Follow . Exeunt . Thunder & Lightning Enter Iulius Caesar Night - gowne . Caesar . Heauen , Earth , Haue beene peace night : Thrice hath Calphurnia , sleepe cryed , Helpe , ho : murther Caesar . ' within ? Enter Seruant . Ser . Lord Caes Go bid Priests present Sacrifice , bring opinions Successe Ser . Lord . Exit Enter Calphurnia . Cal . mean Caesar ? Think walk forth ? shall stirre house day Caes Caesar shall forth ; things threaten ' , Ne ' look ' backe : shall see face Caesar , vanished Calp . Caesar , neuer stood Ceremonies , Yet fright : one within , Besides things haue heard seene , Recounts horrid sights seene Watch . Lionnesse hath whelped streets , Graues haue yawn ' , yeelded vp dead ; Fierce fiery Warriours fight vpon Clouds Rankes Squadrons , right forme Warre drizel ' blood vpon Capitoll : noise Battell hurtled Ayre : Horsses neigh , dying men grone , Ghosts shrieke squeale streets . Caesar , things beyond vse , feare Caes auoyded Whose end purpos ' mighty Gods ? Yet Caesar shall go forth : Predictions world generall , Caesar Calp . Beggers dye , Comets seen , Heauens themselues blaze forth death Princes Caes Cowards dye many times deaths , valiant neuer taste death : Wonders yet haue heard , seemes strange men feare , Seeing death , necessary end come , come . Enter Seruant . say Augurers ? Ser . would haue stirre forth day . Plucking intrailes Offering forth , could finde heart within beast Caes Gods shame Cowardice : Caesar Beast without heart stay home day feare : Caesar shall ; Danger knowes full well Caesar dangerous . heare two Lyons litter ' one day , elder terrible , Caesar shall go foorth Calp . Alas Lord , wisedome consum ' confidence : go forth day : Call feare , keepes house , owne . Wee ' l send Mark Antony Senate house , shall say , well day : Let vpon knee , preuaile Caes Mark Antony shall say well , thy humor , stay home . Enter Decius . Heere ' Decius Brutus , shall tell Deci . Caesar , haile : Good morrow worthy Caesar , come fetch Senate house Caes come happy time , beare greeting Senators , tell come day : , false : dare , falser : come day , tell Decius Calp . Say sicke Caes Shall Caesar send Lye ? Haue Conquest stretcht mine Arme farre , afear ' tell Gray - beards truth : Decius , go tell , Caesar come Deci . mighty Caesar , let know cause , Lest laught tell Caes cause , come , enough satisfie Senate . priuate satisfaction , loue , let know . Calphurnia heere wife , stayes home : dreampt night , saw Statue , like Fountaine , hundred spouts run pure blood : many lusty Romans Came smiling , & bathe hands : apply , warnings portents , euils imminent ; knee Hath begg ' , stay home day Deci . Dreame amisse interpreted , vision , faire fortunate : Statue spouting blood many pipes , many smiling Romans bath ' , Signifies , great Rome shall sucke Reuiuing blood , great men shall presse Tinctures , Staines , Reliques , Cognisance . Calphurnia ' Dreame signified Caes way haue well expounded Deci . haue , haue heard say : know , Senate haue concluded giue day , Crowne mighty Caesar . shall send word come , mindes may change . Besides , mocke Apt render ' , one say , Breake vp Senate , till another time : Caesars wife shall meete better Dreames . Caesar hide himselfe , shall whisper Loe Caesar affraid ? Pardon Caesar , deere deere loue proceeding , bids tell : reason loue liable Caes foolish fears seeme Calphurnia ? ashamed yeeld . Giue Robe , go . Enter Brutus , Ligarius , Metellus , Caska , Trebonius , Cynna , Publius . looke Publius come fetch Pub . Good morrow Caesar Caes Welcome Publius . Brutus , stirr ' earely ? Good morrow Caska : Caius Ligarius , Caesar ne ' much enemy , Ague hath made leane . ' Clocke ? Bru . Caesar , ' tis strucken eight Caes thanke paines curtesie . Enter Antony . See , Antony Reuels long - nights notwithstanding vp . Good morrow Antony Ant . Noble Caesar Caes Bid prepare within : blame thus waited . Cynna , Metellus : Trebonius , haue houres talke store : Remember call day : neere , may remember Treb . Caesar : neere , best Friends shall wish beene Caes Good Friends go , taste wine . ( like Friends ) straight way go together Bru . euery like , Caesar , heart Brutus earnes thinke vpon . Exeunt . Enter Artemidorus . Caesar , beware Brutus , take heede Cassius ; come neere Caska , haue eye Cynna , trust Trebonius , marke well Metellus Cymber , Decius Brutus loues thee : Thou hast wrong ' Caius Ligarius . one minde men , bent Caesar : thou beest Immortall , looke : Security giues way Conspiracie . mighty Gods defend thee . Thy Louer , Artemidorus . Heere stand , till Caesar passe along , Sutor giue : heart laments , Vertue liue teeth Emulation . thou reade , Caesar , thou mayest liue ; , Fates Traitors contriue . Enter . Enter Portia Lucius . Por . prythee Boy , run Senate - house , Stay answer , get thee gone . doest thou stay ? Luc . know errand Madam Por . would haue thee heere agen Ere tell thee thou ' st : Constancie , strong vpon side , Set huge Mountaine ' tweene Heart Tongue : haue mans minde , womans might : hard women keepe counsell . Art thou heere yet ? Luc . Madam , ? Run Capitoll , nothing else ? returne , nothing else ? Por . Yes , bring word Boy , thy Lord look well , went sickly forth : take good note Caesar doth , Sutors presse . Hearke Boy , noyse ? Luc . heare none Madam Por . Prythee listen well : heard bussling Rumor like Fray , winde brings Capitoll Luc . Sooth Madam , heare nothing . Enter Soothsayer . Por . Come hither Fellow , way hast thou bin ? Sooth . mine owne house , good Lady Por . ' clocke ? Sooth . ninth houre Lady Por . Caesar yet gone Capitoll ? Sooth . Madam yet , go take stand , see passe Capitoll Por . Thou hast suite Caesar , hast thou ? Sooth . haue Lady , please Caesar good Caesar , heare : shall beseech befriend himselfe Por . know ' st thou harme ' intended towards ? Sooth . None know , Much feare may chance : Good morrow : heere street narrow : throng followes Caesar heeles , Senators , Praetors , common Sutors , crowd feeble man ( almost ) death : Ile get place voyd , Speake great Caesar comes along . Exit Por . must go : Aye ! weake thing heart woman ? Brutus , Heauens speede thee thine enterprize . Sure Boy heard : Brutus hath suite Caesar grant . , grow faint : Run Lucius , commend Lord , Say merry ; Come againe , bring word doth say thee . Exeunt . Actus Tertius . Flourish Enter Caesar , Brutus , Cassius , Caska , Decius , Metellus , Trebonius , Cynna , Antony , Lepidus , Artimedorus , Publius , Soothsayer . Caes Ides March come Sooth . Caesar , gone Art . Haile Caesar : Read Scedule Deci . Trebonius doth desire ore - read ( best leysure ) humble suite Art . Caesar , reade mine first : mine ' suite touches Caesar neerer . Read great Caesar Caes touches vs selfe , shall last seru ' Art . Delay Caesar , read instantly Caes , fellow mad ? Pub . Sirra , giue place Cassi . , vrge Petitions street ? Come Capitoll Popil . wish enterprize day may thriue Cassi . enterprize Popillius ? Popil . Fare well Bru . said Popillius Lena ? Cassi . wisht day enterprize might thriue : feare purpose discouered Bru . Looke makes Caesar : marke Cassi . Caska sodaine , feare preuention . Brutus shall done ? knowne , Cassius Caesar neuer shall turne backe , slay selfe Bru . Cassius constant : Popillius Lena speakes purposes , looke smiles , Caesar doth change Cassi . Trebonius knowes time : look Brutus drawes Mark Antony way Deci . Metellus Cimber , let go , presently preferre suite Caesar Bru . addrest : presse neere , second Cin . Caska , first reares hand Caes ready ? amisse , Caesar Senate must redresse ? Metel . high , mighty , puisant Caesar Metellus Cymber throwes thy Seate humble heart Caes must preuent thee Cymber : couchings , lowly courtesies Might fire blood ordinary men , turne pre - Ordinance , first Decree lane Children . fond , thinke Caesar beares Rebell blood thaw ' true quality melteth Fooles , meane sweet words , Low - crooked - curtsies , base Spaniell fawning : Thy Brother decree banished : thou doest bend , pray , fawne , spurne thee like Curre way : Know , Caesar doth wrong , without cause satisfied Metel . voyce worthy owne , sound sweetly great Caesars eare , repealing banish ' Brother ? Bru . kisse thy hand , flattery Caesar : Desiring thee , Publius Cymber may Haue immediate freedome repeale Caes Brutus ? Cassi . Pardon Caesar : Caesar pardon : lowe thy foote doth Cassius fall , begge infranchisement Publius Cymber Caes could well mou ' , , could pray mooue , Prayers would mooue : constant Northerne Starre , whose true fixt , resting quality , fellow Firmament . Skies painted vnnumbred sparkes , Fire , euery one doth shine : , ' one doth hold place . , World ; ' Tis furnish ' well Men , Men Flesh Blood , apprehensiue ; Yet number , know One vnassayleable holds Ranke , Vnshak ' Motion : , Let little shew , euen : constant Cymber banish ' , constant remaine keepe Cinna . Caesar Caes Hence : Wilt thou lift vp Olympus ? Decius . Great Caesar Caes Doth Brutus bootlesse kneele ? Cask . Speake hands . stab Caesar . Caes Et Tu Brute ? - fall Caesar . Dyes Cin . Liberty , Freedome ; Tyranny dead , Run hence , proclaime , cry Streets Cassi . common Pulpits , cry Liberty , Freedome , Enfranchisement Bru . People Senators , affrighted : Fly , stand still : Ambitions debt paid Cask . Go Pulpit Brutus Dec . Cassius Bru . ' Publius ? Cin . Heere , quite confounded mutiny Met . Stand fast together , least Friend Caesars chance - Bru . Talke standing . Publius good cheere , harme intended person , Roman else : tell Publius Cassi . leaue vs Publius , least people Rushing vs , Age mischiefe Bru . , let man abide deede , Doers . Enter Trebonius Cassi . Antony ? Treb . Fled House amaz ' : Men , Wiues , Children , stare , cry , run , Doomesday Bru . Fates , know pleasures : shall dye know , ' tis time drawing dayes , men stand vpon Cask . cuts twenty yeares life , Cuts many yeares fearing death Bru . Grant , Death Benefit : Caesars Friends , haue abridg ' time fearing death . Stoope Romans , stoope , let vs bathe hands Caesars blood Vp Elbowes , besmeare Swords : walke forth , euen Market place , wauing red Weapons ' heads , Let ' cry Peace , Freedome , Liberty Cassi . Stoop , wash . many Ages hence Shall lofty Scene acted ouer , State vnborne , Accents yet vnknowne ? Bru . many times shall Caesar bleed sport , Pompeyes Basis lye along , worthier dust ? Cassi . oft shall , often shall knot vs call ' , Men gaue Country liberty Dec . , shall forth ? Cassi . , euery man away . Brutus shall leade , grace heeles boldest , best hearts Rome . Enter Seruant . Bru . Soft , comes heere ? friend Antonies Ser . Thus Brutus Master bid kneele ; Thus Mark Antony bid fall downe , prostrate , thus bad say : Brutus Noble , Wise , Valiant , Honest ; Caesar Mighty , Bold , Royall , Louing : Say , loue Brutus , honour ; Say , fear ' Caesar , honour ' , lou ' . Brutus vouchsafe , Antony May safely come , resolu ' Caesar hath deseru ' lye death , Mark Antony , shall loue Caesar dead well Brutus liuing ; follow Fortunes Affayres Noble Brutus , Thorough hazards vntrod State , true Faith . sayes Master Antony Bru . Thy Master Wise Valiant Romane , neuer thought worse : Tell , please come vnto place shall satisfied : Honor Depart vntouch ' Ser . Ile fetch presently . Exit Seruant . Bru . know shall haue well Friend Cassi . wish may : yet haue minde feares much : misgiuing still Falles shrewdly purpose . Enter Antony . Bru . heere comes Antony : Welcome Mark Antony Ant . mighty Caesar ! Dost thou lye lowe ? thy Conquests , Glories , Triumphes , Spoiles , Shrunke little Measure ? Fare thee well . know Gentlemen intend , else must let blood , else ranke : selfe , houre fit Caesars deaths houre ; Instrument halfe worth , Swords ; made rich Noble blood World . beseech yee , beare hard , , whil ' st purpled hands reeke smoake , Fulfill pleasure . Liue thousand yeeres , shall finde selfe apt dye . place please , meane death , heere Caesar , cut , Choice Master Spirits Age Bru . Antony ! Begge death vs : Though must appeare bloody cruell , hands , present Acte see : Yet see hands , , bleeding businesse haue done : hearts see , pittifull : pitty generall wrong Rome , fire driues fire , pitty , pitty Hath done deed Caesar . part , , Swords haue leaden points Marke Antony : Armes strength malice , Hearts Brothers temper , receiue , kinde loue , good thoughts , reuerence Cassi . voyce shall strong mans , disposing new Dignities Bru . Onely patient , till haue appeas ' Multitude , beside themselues feare , , deliuer cause , , loue Caesar strooke , Haue thus proceeded Ant . doubt Wisedome : Let man render bloody hand . First Marcus Brutus shake ; Next Caius Cassius take hand ; Decius Brutus ; Metellus ; Cinna ; valiant Caska , ; Though last , least loue , good Trebonius . Gentlemen : Alas , shall say , credit stands slippery ground , one two bad wayes must conceit , Either Coward , Flatterer . loue thee Caesar , ' tis true : thy Spirit looke vpon vs , Shall greeue thee deerer thy death , see thy Antony making peace , Shaking bloody fingers thy Foes ? Noble , presence thy Coarse , many eyes , thou hast wounds , Weeping fast streame forth thy blood , would become better , close tearmes Friendship thine enemies . Pardon Iulius , heere ' thou bay ' braue Hart , Heere ' st thou fall , heere thy Hunters stand Sign ' thy Spoyle , Crimson ' thy Lethee . World ! thou wast Forrest Hart , indeed , World , Hart thee . like Deere , stroken many Princes , Dost thou heere lye ? Cassi . Mark Antony Ant . Pardon Caius Cassius : Enemies Caesar , shall say : , Friend , cold Modestie Cassi . blame praising Caesar . compact meane haue vs ? prick ' number Friends , shall , depend ? Ant . Therefore tooke hands , indeed Sway ' point , looking downe Caesar . Friends , loue , Vpon hope , shall giue Reasons , , wherein , Caesar dangerous Bru . else sauage Spectacle : Reasons full good regard , Antony , Sonne Caesar , satisfied Ant . ' seeke , moreouer sutor , may Produce body Market - place , Pulpit becomes Friend , Speake Order Funerall Bru . shall Marke Antony Cassi . Brutus , word : know ; consent Antony speake Funerall : Know much people may mou ' vtter Bru . pardon : selfe Pulpit first , shew reason Caesars death . Antony shall speake , protest speakes leaue , permission : contented Caesar shall Haue true Rites , lawfull Ceremonies , shall aduantage , vs wrong Cassi . know may fall , like Bru . Mark Antony , heere take Caesars body : shall Funerall speech blame vs , speake good deuise Caesar , say doo ' permission : Else shall haue hand Funerall . shall speake Pulpit whereto going , speech ended Ant . : desire Bru . Prepare body , follow vs . Exeunt . Manet Antony . pardon , thou bleeding peece Earth : meeke gentle Butchers . Thou art Ruines Noblest man euer liued Tide Times . Woe hand shed costly Blood . Ouer thy wounds , Prophesie , ( like dumbe mouthes ope Ruby lips , begge voyce vtterance Tongue ) Curse shall light vpon limbes men ; Domesticke Fury , fierce Ciuill strife , Shall cumber parts Italy : Blood destruction shall vse , dreadfull Obiects familiar , Mothers shall smile , behold Infants quartered hands Warre : pitty choak ' custome fell deeds , Caesars Spirit ranging Reuenge , Ate side , come hot Hell , Shall Confines , Monarkes voyce , Cry hauocke , let slip Dogges Warre , foule deede , shall smell aboue earth Carrion men , groaning Buriall . Enter Octauio ' Seruant . serue Octauius Caesar , ? Ser . Marke Antony Ant . Caesar write come Rome Ser . receiue Letters , comming , bid say word mouth - Caesar ! Ant . Thy heart bigge : get thee - part weepe : Passion see catching mine eyes , Seeing Beads sorrow stand thine , Began water . thy Master comming ? Ser . lies night within seuen Leagues Rome Ant . Post backe speede , tell hath chanc ' : Heere mourning Rome , dangerous Rome , Rome safety Octauius yet , Hie hence , tell . Yet stay - , Thou shalt backe , till haue borne course Market place : shall try Oration , People take cruell issue bloody men , According , thou shalt discourse yong Octauius , state things . Lend hand . Exeunt . Enter Brutus goes Pulpit , Cassius , Plebeians . Ple . satisfied : let vs satisfied Bru . follow , giue Audience friends . Cassius go streete , part Numbers : heare speake , let ' em stay heere ; follow Cassius , go , publike Reasons shall rendred Caesars death 1 . Ple . heare Brutus speake 2 . heare Cassius , compare Reasons , seuerally heare rendred 3 . Noble Brutus ascended : Silence Bru . patient till last . Romans , Countrey - men , Louers , heare mee cause , silent , may heare . Beleeue mine Honor , haue respect mine Honor , may beleeue . Censure Wisedom , awake Senses , may better Iudge . bee Assembly , deere Friend Caesars , say , Brutus loue Caesar , lesse . , Friend demand , Brutus rose Caesar , answer : lou ' Caesar lesse , lou ' Rome . rather Caesar liuing , dye Slaues ; Caesar dead , liue Free - men ? Caesar lou ' mee , weepe ; Fortunate , reioyce ; Valiant , honour : , Ambitious , slew . Teares , Loue : Ioy , Fortune : Honor , Valour : Death , Ambition . heere base , would Bondman ? , speak , haue offended . heere rude , would Roman ? , speak , haue offended . heere vile , loue Countrey ? , speake , haue offended . pause Reply . None Brutus , none Brutus . none haue offended . haue done Caesar , shall Brutus . Question death , inroll ' Capitoll : Glory extenuated , wherein worthy ; offences enforc ' , suffered death . Enter Mark Antony , Caesars body . Heere comes Body , mourn ' Marke Antony , though hand death , shall receiue benefit dying , place Co [ ] monwealth , shall . depart , slewe best Louer good Rome , haue Dagger selfe , shall please Country need death . Liue Brutus , liue , liue 1 . Bring Triumph home vnto house 2 . Giue Statue Ancestors 3 . Let Caesar 4 . Caesars better parts , Shall Crown ' Brutus 1 . Wee ' l bring House , Showts Clamors Bru . Country - men 2 . Peace , silence , Brutus speakes 1 . Peace ho Bru . Good Countrymen , let depart alone , ( sake ) stay heere Antony : grace Caesars Corpes , grace Speech Tending Caesars Glories , Marke Antony ( permission ) allow ' make . intreat , man depart , Saue alone , till Antony haue spoke . Exit 1 Stay ho , let vs heare Mark Antony 3 Let go vp publike Chaire , Wee ' l heare : Noble Antony go vp Ant . Brutus sake , beholding 4 say Brutus ? 3 sayes , Brutus sake findes himselfe beholding vs 4 ' Twere best speake harme Brutus heere ? 1 Caesar Tyrant 3 Nay ' certaine : blest Rome rid 2 Peace , let vs heare Antony say Ant . gentle Romans . Peace hoe , let vs heare . Friends , Romans , Countrymen , lend ears : come bury Caesar , praise : euill men , liues , good oft enterred bones , let Caesar . Noble Brutus , Hath told Caesar Ambitious : , greeuous Fault , greeuously hath Caesar answer ' . Heere , vnder leaue Brutus , rest ( Brutus Honourable man , ; Honourable men ) Come speake Caesars Funerall . Friend , faithfull , iust ; Brutus sayes , Ambitious , Brutus Honourable man . hath brought many Captiues home Rome , Whose Ransomes , generall Coffers fill : Caesar seeme Ambitious ? poore haue cry ' de , Caesar hath wept : Ambition made sterner stuffe , Yet Brutus sayes , Ambitious : Brutus Honourable man . see , Lupercall , thrice presented Kingly Crowne , thrice refuse . Ambition ? Yet Brutus sayes , Ambitious : sure Honourable man . speake disprooue Brutus spoke , heere , speake know ; loue , without cause , cause - holds , mourne ? Iudgement ! thou fled brutish Beasts , Men haue lost Reason . Beare , heart Coffin Caesar , must pawse , till come backe 1 thinkes much reason sayings 2 thou consider rightly matter , Caesar ha ' great wrong 3 Ha ' hee Masters ? feare worse come place 4 . Mark ' ye words ? would take Crown , Therefore ' tis certaine , Ambitious 1 . found , deere abide 2 . Poore soule , eyes red fire weeping 3 . ' Nobler man Rome Antony 4 . marke , begins againe speake Ant . yesterday , word Caesar might Haue stood World : lies , none poore reuerence . Maisters ! dispos ' stirre hearts mindes Mutiny Rage , Brutus wrong , Cassius wrong : ( know ) Honourable men . wrong : rather choose wrong dead , wrong selfe , wrong Honourable men . heere ' Parchment , Seale Caesar , found Closset , ' tis : Let Commons heare Testament : ( pardon ) meane reade , would go kisse dead Caesars wounds , dip Napkins Sacred Blood ; Yea , begge haire Memory , dying , mention within Willes , Bequeathing rich Legacie Vnto issue 4 Wee ' l heare , reade Marke Antony . , ; heare Caesars Ant . Haue patience gentle Friends , must read . meete know Caesar lou ' : Wood , Stones , men : men , hearing Caesar , inflame , make mad : ' Tis good know Heires , , would come ? 4 Read , wee ' l heare Antony : shall reade vs , Caesars Ant . Patient ? stay - ? haue ' - shot selfe tell , feare wrong Honourable men , Whose Daggers haue stabb ' Caesar : feare 4 Traitors : Honourable men ? . , Testament 2 Villaines , Murderers : , read Ant . compell read : make Ring Corpes Caesar , let shew made : Shall descend ? giue leaue ? . Come downe 2 Descend 3 shall haue leaue 4 Ring , stand round 1 Stand Hearse , stand Body 2 Roome Antony , Noble Antony Ant . Nay presse vpon , stand farre . Stand backe : roome , beare backe Ant . haue teares , prepare shed . know Mantle , remember first time euer Caesar put , ' Twas Summers Euening Tent , day ouercame Neruij . Looke , place ran Cassius Dagger : See rent enuious Caska made : , wel - beloued Brutus stabb ' , pluck ' cursed Steele away : Marke blood Caesar followed , rushing doores , resolu ' Brutus vnkindely knock ' , : Brutus , know , Caesars Angel . Iudge , Gods , deerely Caesar lou ' : vnkindest cut . Noble Caesar saw stab , Ingratitude , strong Traitors armes , Quite vanquish ' : burst Mighty heart , Mantle , muffling vp face , Euen Base Pompeyes Statue ( ran blood ) great Caesar fell . fall , Countrymen ? , , vs fell downe , Whil ' st bloody Treason flourish ' ouer vs . weepe , perceiue feele dint pitty : gracious droppes . Kinde Soules , weepe , behold Caesars Vesture wounded ? Looke heere , Heere Himselfe , marr ' see Traitors 1 . pitteous spectacle ! 2 . Noble Caesar ! 3 . wofull day ! 4 . Traitors , Villaines ! 1 . bloody sight ! 2 . reueng ' : Reuenge , seeke , burne , fire , kill , slay , Let Traitor liue Ant . Stay Country - men 1 . Peace , heare Noble Antony 2 . Wee ' l heare , wee ' l follow , wee ' l dy Ant . Good Friends , sweet Friends , let stirre vp sodaine Flood Mutiny : haue done Deede , honourable . priuate greefes haue , alas know , made : Wise , Honourable , doubt Reasons answer . come ( Friends ) steale away hearts , Orator , Brutus : ( know ) plaine blunt man loue Friend , know full well , gaue publike leaue speake : haue neyther writ words , worth , Action , Vtterance , power Speech , stirre mens Blood . onely speake right : tell , selues know , Shew sweet Caesars wounds , poor poor dum mouths bid speake : Brutus , Brutus Antony , Antony Would ruffle vp Spirits , put Tongue euery Wound Caesar , moue stones Rome , rise Mutiny . Wee ' l Mutiny 1 Wee ' l burne house Brutus 3 Away , come , seeke Conspirators Ant . Yet heare Countrymen , yet heare speake . Peace hoe , heare Antony , Noble Antony Ant . Friends , go know : Wherein hath Caesar thus deseru ' loues ? Alas know , must tell : haue forgot told . true , , let ' stay heare Wil Ant . Heere , vnder Caesars Seale : euery Roman Citizen giues , euery seuerall man , seuenty fiue Drachmaes 2 Ple . Noble Caesar , wee ' l reuenge death 3 Ple . Royall Caesar Ant . Heare patience . Peace hoe Ant . Moreouer , hath left Walkes , priuate Arbors , new - planted Orchards , side Tyber , hath left , heyres euer : common pleasures walke abroad , recreate selues . Heere Caesar : comes another ? 1 . Ple . Neuer , neuer : come , away , away : Wee ' l burne body holy place , Brands fire Traitors houses . Take vp body 2 . Ple . Go fetch fire 3 . Ple . Plucke downe Benches 4 . Ple . Plucke downe Formes , Windowes , thing . Exit Plebeians . Ant . let worke : Mischeefe thou art - foot , Take thou course thou wilt . Fellow ? Enter Seruant . Ser . Sir , Octauius already come Rome Ant . hee ? Ser . Lepidus Caesars house Ant . thither straight , visit : comes vpon wish . Fortune merry , mood giue vs thing Ser . heard say , Brutus Cassius rid like Madmen Gates Rome Ant . Belike notice people moued . Bring Octauius . Exeunt . Enter Cinna Poet , Plebeians . Cinna . dreamt night , feast Caesar , things vnluckily charge Fantasie : haue wander foorth doores , Yet something leads foorth 1 . name ? 2 . Whether going ? 3 . dwell ? 4 . married man , Batchellor ? 2 . Answer euery man directly 1 . , breefely 4 . , wisely 3 . , truly , best Cin . name ? Whether going ? dwell ? married man , Batchellour ? answer euery man , directly breefely , wisely truly : wisely say , Batchellor 2 ' much say , fooles marrie : ' l beare bang feare : proceede directly Cinna . Directly going Caesars Funerall 1 . Friend , Enemy ? Cinna . friend 2 . matter answered directly 4 . dwelling : breefely Cinna . Breefely , dwell Capitoll 3 . name sir , truly Cinna . Truly , name Cinna 1 . Teare peeces , hee ' Conspirator Cinna . Cinna Poet , Cinna Poet 4 . Teare bad verses , teare bad Verses Cin . Cinna Conspirator 4 . matter , name ' Cinna , plucke name heart , turne going 3 . Teare , tear ; Come Brands hoe , Firebrands : Brutus , Cassius , burne . Decius House , Caska ' ; Ligarius : Away , go . Exeunt . Plebeians . Actus Quartus . Enter Antony , Octauius , Lepidus . Ant . many shall die , names prickt Octa . Brother must dye : consent Lepidus ? Lep . consent Octa . Pricke downe Antony Lep . Vpon condition Publius shall liue , Sisters sonne , Marke Antony Ant . shall liue ; looke , spot dam . Lepidus , go Caesars house : Fetch hither , shall determine cut charge Legacies Lep . ? shall finde heere ? Octa . heere , Capitoll . Exit Lepidus Ant . slight vnmeritable man , Meet sent Errands : fit three - fold World diuided , stand One three share ? Octa . thought , tooke voyce prickt dye blacke Sentence Proscription Ant . Octauius , haue seene dayes , though lay Honours man , ease selues diuers sland ' rous loads , shall beare , Asse beares Gold , groane swet vnder Businesse , Either led driuen , point way : hauing brought Treasure , , take downe Load , turne ( Like empty Asse ) shake eares , graze Commons Octa . may : hee ' tried , valiant Souldier Ant . Horse Octauius , appoint store Prouender . Creature teach fight , winde , stop , run directly : corporall Motion , gouern ' Spirit , taste , Lepidus : must taught , train ' , bid go forth : barren spirited Fellow ; one feeds Obiects , Arts , Imitations . vse , stal ' de men Begin fashion . talke , property : Octauius , Listen great things . Brutus Cassius leuying Powers ; must straight make head : Therefore let Alliance combin ' , best Friends made , meanes stretcht , let vs presently go sit Councell , couert matters may best disclos ' , open Perils surest answered Octa . Let vs : stake , bayed many Enemies , smile haue hearts feare Millions Mischeefes . Exeunt . Drum . Enter Brutus , Lucillius , Army . Titinius Pindarus meete . Bru . Stand ho Lucil . Giue word ho , Stand Bru . Lucillius , Cassius neere ? Lucil . hand , Pindarus come salutation Master Bru . greets well . Master Pindarus owne change , ill Officers , Hath giuen worthy cause wish Things done , vndone : hand shall satisfied Pin . doubt Noble Master appeare , full regard , Honour Bru . doubted . word Lucillius receiu ' : let resolu ' Lucil . courtesie , respect enough , familiar instances , free friendly Conference hath vs ' old Bru . Thou hast describ ' hot Friend , cooling : Euer note Lucillius , Loue begins sicken decay vseth enforced Ceremony . trickes , plaine simple Faith : hollow men , like Horses hot hand , Make gallant shew , promise Mettle : Low March within . endure bloody Spurre , fall Crests , like deceitfull Iades Sinke Triall . Comes Army ? Lucil . meane night Sardis quarter ' : greater part , Horse generall come Cassius . Enter Cassius Powers . Bru . Hearke , arriu ' : March gently meete Cassi . Stand ho Bru . Stand ho , speake word along . Stand . Stand . Stand Cassi . Noble Brother , haue done wrong Bru . Iudge Gods ; wrong mine Enemies ? , wrong Brother Cassi . Brutus , sober forme , hides wrongs , - Brut . Cassius , content , Speake greefes softly , know well . eyes Armies heere ( perceiue nothing Loue vs ) Let vs wrangle . Bid moue away : Tent Cassius enlarge Greefes , giue Audience Cassi . Pindarus , Bid Commanders leade Charges little ground Bru . Lucillius , like , let man Come Tent , till haue done Conference . Let Lucius Titinius guard doore . Exeunt . Manet Brutus Cassius . Cassi . haue wrong ' , doth appear : haue condemn ' , noted Lucius Pella taking Bribes heere Sardians ; Wherein Letters , praying side , knew man slighted Bru . wrong ' selfe write case Cassi . time , meet euery nice offence beare Comment Bru . Let tell Cassius , selfe much condemn ' haue itching Palme , sell , Mart Offices Gold Vndeseruers Cassi . , itching Palme ? know Brutus speakes , Gods , speech else last Bru . name Cassius Honors corruption , Chasticement doth therefore hide head Cassi . Chasticement ? Bru . Remember March , Ides March reme [ ] ber : great Iulius bleede Iustice sake ? Villaine touch ' body , stab , Iustice ? ? Shall one Vs , strucke Formost man World , supporting Robbers : shall , Contaminate fingers , base Bribes ? sell mighty space large Honors much trash , may grasped thus ? rather Dogge , bay Moone , Roman Cassi . Brutus , baite , Ile indure : forget selfe hedge . Souldier , , Older practice , Abler selfe make Conditions Bru . Go : Cassius Cassi . Bru . say , Cassi . Vrge , shall forget selfe : Haue minde vpon health : Tempt farther Bru . Away slight man Cassi . ' possible ? Bru . Heare , speake . Must giue way , roome rash Choller ? Shall frighted , Madman stares ? Cassi . ye Gods , ye Gods , Must endure ? Bru . ? : Fret till proud hart break . Go shew Slaues Chollericke , make Bondmen tremble . Must bouge ? Must obserue ? Must stand crouch Vnder Testie Humour ? Gods , shall digest Venom Spleene Though Split . , day forth , Ile vse Mirth , yea Laughter Waspish Cassi . come ? Bru . say , better Souldier : Let appeare ; make vaunting true , shall please well . mine owne part , shall glad learne Noble men Cass . wrong euery way : wrong Brutus : saide , Elder Souldier , Better . say Better ? Bru . , care Cass . Caesar liu ' , durst thus haue mou ' Brut . Peace , peace , durst haue tempted Cassi . durst Bru . Cassi . ? durst tempt ? Bru . life durst Cassi . presume much vpon Loue , may shall sorry Bru . haue done sorry . terror Cassius threats : Arm ' strong Honesty , passe , idle winde , respect . send certaine summes Gold , deny ' , raise money vile meanes : Heauen , rather Coine Heart , drop blood Drachmaes , wring hard hands Peazants , vile trash indirection . send Gold pay Legions , deny ' : done like Cassius ? haue answer ' Caius Cassius ? Marcus Brutus growes Couetous , locke Rascall Counters Friends , ready Gods Thunder - bolts , Dash peeces Cassi . deny ' Bru . Cassi . . Foole brought answer back . Brutus hath riu ' hart : Friend beare Friends infirmities ; Brutus makes mine greater Bru . , till practice Cassi . loue Bru . like faults Cassi . friendly eye could neuer see faults Bru . Flatterers would , though appeare huge high Olympus Cassi . Come Antony , yong Octauius come , Reuenge selues alone Cassius , Cassius - weary World : Hated one loues , brau ' Brother , Check ' like bondman , faults obseru ' , Set Note - booke , learn ' , con ' roate cast Teeth . could weepe Spirit mine eyes . Dagger , heere naked Breast : Within , Heart Deerer Pluto ' Mine , Richer Gold : thou bee ' st Roman , take foorth . deny ' thee Gold , giue Heart : Strike thou ' st Caesar : know , thou ' st hate worst , loued ' st better euer thou loued ' st Cassius Bru . Sheath Dagger : angry , shall haue scope : , Dishonor , shall Humour . Cassius , yoaked Lambe carries Anger , Flint beares fire , much inforced , shewes hastie Sparke , straite cold agen Cassi . Hath Cassius liu ' Mirth Laughter Brutus , greefe blood ill temper ' , vexeth ? Bru . spoke , ill temper ' Cassi . confesse much ? Giue hand Bru . heart Cassi . Brutus ! Bru . ' matter ? Cassi . Haue loue enough beare , rash humour Mother gaue Makes forgetfull Bru . Yes Cassius , henceforth ouer - earnest Brutus , Hee ' l thinke Mother chides , leaue . Enter Poet . Poet . Let go see Generals , grudge betweene ' em , ' tis meete alone Lucil . shall come Poet . Nothing death shall stay Cas . ? ' matter ? Poet . shame Generals ; meane ? Loue , Friends , two men bee , haue seene yeeres ' sure yee Cas . Ha , ha , vildely doth Cynicke rime ? Bru . Get hence sirra : Sawcy Fellow , hence Cas . Beare Brutus , ' tis fashion Brut . Ile know humor , knowes time : Warres Iigging Fooles ? Companion , hence Cas . Away , away gone . Exit Poet Bru . Lucillius Titinius bid Commanders Prepare lodge Companies night Cas . come selues , & bring Messala Immediately vs Bru . Lucius , bowle Wine Cas . thinke could haue bin angry Bru . Cassius , sicke many greefes Cas . Philosophy make vse , giue place accidentall euils Bru . man beares sorrow better . Portia dead Cas . Ha ? Portia ? Bru . dead Cas . scap ' killing , crost ? insupportable , touching losse ! Vpon sicknesse ? Bru . Impatient absence , greefe , yong Octauius Mark Antony Haue made themselues strong : death tydings came . fell distract , ( Attendants absent ) swallow ' fire Cas . dy ' ? Bru . Euen Cas . ye immortall Gods ! Enter Boy Wine , Tapers . Bru . Speak : Giue bowl wine , bury vnkindnesse Cassius . Drinkes Cas . heart thirsty Noble pledge . Fill Lucius , till Wine ore - swell Cup : drinke much Brutus loue . Enter Titinius Messala . Brutus . Come Titinius : Welcome good Messala : sit close Taper heere , call question necessities Cass . Portia , art thou gone ? Bru . pray . Messala , haue heere receiued Letters , yong Octauius , Marke Antony Come downe vpon vs mighty power , Bending Expedition toward Philippi Mess . selfe haue Letters selfe - Tenure Bru . Addition Mess . proscription , billes Outlarie , Octauius , Antony , Lepidus , Haue put death , hundred Senators Bru . Therein Letters well agree : Mine speake seuenty Senators , dy ' de proscriptions , Cicero one Cassi . Cicero one ? Messa . Cicero dead , order proscription Letters wife , Lord ? Bru . Messala Messa . nothing Letters writ ? Bru . Nothing Messala Messa . thinkes strange Bru . aske ? Heare ought , ? Messa . Lord Bru . Roman tell true Messa . like Roman , beare truth tell , certaine dead , strange manner Bru . farewell Portia : must die Messala : meditating must dye , haue patience endure Messa . Euen great men , great losses shold indure Cassi . haue much Art , yet Nature could beare Bru . Well , worke aliue . thinke marching Philippi presently Cassi . thinke good Bru . reason ? Cassi . : ' Tis better Enemie seeke vs , shall waste meanes , weary Souldiers , himselfe offence , whil ' st lying still , full rest , defence , nimblenesse Bru . Good reasons must force giue place better : people ' twixt Philippi , ground stand forc ' affection : haue grug ' vs Contribution . Enemy , marching along , shall make fuller number vp , Come refresht , new added , encourag ' : aduantage shall cut . Philippi face , people backe Cassi . Heare good Brother Bru . Vnder pardon . must note beside , haue tride vtmost Friends : Legions brim full , cause ripe , Enemy encreaseth euery day , height , readie decline . Tide affayres men , taken Flood , leades Fortune : Omitted , voyage life , bound Shallowes , Miseries . full Sea - float , must take current serues , loose Ventures Cassi . go : wee ' l along selues , meet Philippi Bru . deepe night crept vpon talke , Nature must obey Necessitie , niggard little rest : say Cassi . , good night , Early morrow rise , hence . Enter Lucius . Bru . Lucius Gowne : farewell good Messala , Good night Titinius : Noble , Noble Cassius , Good night , good repose Cassi . deere Brother : ill beginning night : Neuer come diuision ' tweene soules : Let Brutus . Enter Lucius Gowne . Bru . Euery thing well Cassi . Good night Lord Bru . Good night good Brother Tit . Messa . Good night Lord Brutus Bru . Farwell euery one . Exeunt . Giue Gowne . thy Instrument ? Luc . Heere Tent Bru . , thou speak ' st drowsily ? Poore knaue blame thee , thou art ore - watch ' . Call Claudio , men , Ile haue sleepe Cushions Tent Luc . Varrus , Claudio . Enter Varrus Claudio . Var . Cals Lord ? Bru . pray sirs , lye Tent sleepe , may shall raise businesse Brother Cassius Var . please , stand , watch pleasure Bru . haue : Lye downe good sirs , may shall otherwise bethinke . Looke Lucius , heere ' booke sought : put pocket Gowne Luc . sure Lordship giue Bru . Beare good Boy , much forgetfull . Canst thou hold vp thy heauie eyes - , touch thy Instrument straine two Luc . Lord , ' please Bru . Boy : trouble thee much , thou art willing Luc . duty Sir Brut . vrge thy duty past thy might , know yong bloods looke time rest Luc . haue slept Lord already Bru . well done , thou shalt sleepe againe : hold thee long . liue , good thee . Musicke , Song . sleepy Tune : Murd ' rous slumber ! Layest thou thy Leaden Mace vpon Boy , playes thee Musicke ? Gentle knaue good night : thee much wrong wake thee : thou ' st nod , thou break ' st thy Instrument , Ile take thee , ( good Boy ) good night . Let see , let see ; Leafe turn ' downe left reading ? Heere thinke . Enter Ghost Caesar . ill Taper burnes . Ha ! comes heere ? thinke weakenesse mine eyes shapes monstrous Apparition . comes vpon : Art thou thing ? Art thou God , Angell , Diuell , mak ' st blood cold , haire stare ? Speake , thou art Ghost . Thy euill Spirit Brutus ? Bru . com ' st thou ? Ghost . tell thee thou shalt see Philippi Brut . Well : shall see thee againe ? Ghost . , Philippi Brut . see thee Philippi : haue taken heart , thou vanishest . Ill Spirit , would hold talke thee . Boy , Lucius , Varrus , Claudio , Sirs : Awake : Claudio Luc . strings Lord , false Bru . thinkes still Instrument . Lucius , awake Luc . Lord Bru . ' st thou dreame Lucius , thou cryedst ? Luc . Lord , know cry Bru . Yes thou ' st : ' st thou see thing ? Luc . Nothing Lord Bru . Sleepe againe Lucius : Sirra Claudio , Fellow , Thou : Awake Var . Lord Clau . Lord Bru . cry sirs , sleepe ? . Lord ? Bru . : saw thing ? Var . Lord , saw nothing Clau . Lord Bru . Go , commend Brother Cassius : Bid set Powres betimes , follow . shall done Lord . Exeunt . Actus Quintus . Enter Octauius , Antony , Army . Octa . Antony , hopes answered , said Enemy would come downe , keepe Hilles vpper Regions : proues : battailes hand , meane warne vs Philippi heere : Answering demand Ant . Tut bosomes , know Wherefore : could content visit places , come downe fearefull brauery : thinking face fasten thoughts haue Courage ; ' tis . Enter Messenger . Mes . Prepare Generals , Enemy comes gallant shew : bloody signe Battell hung , something done immediately Ant . Octauius , leade Battaile softly Vpon left hand euen Field Octa . Vpon right hand , keepe thou left Ant . crosse exigent Octa . crosse : . March . Drum . Enter Brutus , Cassius , & Army . Bru . stand , would haue parley Cassi . Stand fast Titinius , must talke Octa . Mark Antony , shall giue signe Battaile ? Ant . Caesar , answer Charge . Make forth , Generals would haue words Oct . Stirre vntill Signall Bru . Words blowes : Countrymen ? Octa . loue words better , Bru . Good words better bad strokes Octauius . bad strokes Brutus , giue good words Witnesse hole made Caesars heart , Crying long liue , Haile Caesar Cassi . Antony , posture blowes yet vnknowne ; words , rob Hibla Bees , leaue Hony - lesse Ant . stinglesse Bru . yes , soundlesse : haue stolne buzzing Antony , wisely threat sting Ant . Villains : , vile daggers Hackt one another sides Caesar : shew ' teethes like Apes , fawn ' like Hounds , bow ' like Bondmen , kissing Caesars feete ; Whil ' st damned Caska , like Curre , behinde Strooke Caesar necke . Flatterers Cassi . Flatterers ? Brutus thanke selfe , tongue offended day . Cassius might haue rul ' Octa . Come , come , cause . arguing make vs swet , proofe turne redder drops : Looke , draw Sword Conspirators , thinke Sword goes vp againe ? Neuer till Caesars three thirtie wounds well aueng ' ; till another Caesar Haue added slaughter Sword Traitors Brut . Caesar , thou canst dye Traitors hands . Vnlesse thou bring ' st thee Octa . hope : borne dye Brutus Sword Bru . thou wer ' Noblest thy Straine , Yong - man , thou could ' st dye honourable Cassi . peeuish School - boy , worthles Honor Ioyn ' Masker , Reueller Ant . Old Cassius still Octa . Come Antony : away : Defiance Traitors , hurle teeth . dare fight day , come Field ; , haue stomackes . Exit Octauius , Antony , Army Cassi . blow winde , swell Billow , swimme Barke : Storme vp , hazard Bru . Ho Lucillius , hearke , word . Lucillius Messala stand forth . Luc . Lord Cassi . Messala Messa . sayes Generall ? Cassi . Messala , Birth - day : day Cassius borne . Giue thy hand Messala : thou witnesse , ( Pompey ) compell ' set Vpon one Battell Liberties . know , held Epicurus strong , Opinion : change minde , partly credit things presage . Comming Sardis , former Ensigne Two mighty Eagles fell , pearch ' , Gorging feeding Soldiers hands , Philippi heere consorted vs : Morning fled away , gone , steeds , Rauens , Crowes , Kites Fly ore heads , downward looke vs sickely prey ; shadowes seeme Canopy fatall , vnder Army lies , ready giue vp Ghost Messa . Beleeue Cassi . beleeue partly , fresh spirit , resolu ' meete perils , constantly Bru . Euen Lucillius Cassi . Noble Brutus , Gods day stand friendly , may Louers peace , leade dayes age . since affayres men rests still incertaine , Let ' reason worst may befall . lose Battaile , last time shall speake together : determined ? Bru . Euen rule Philosophy , blame Cato , death giue himselfe , know : finde Cowardly , vile , feare might fall , preuent time life , arming selfe patience , stay prouidence high Powers , gouerne vs Cassi . , loose Battaile , contented led Triumph Thorow streets Rome Bru . Cassius , : Thinke thou Noble Romane , euer Brutus go bound Rome , beares great minde . day Must end worke , Ides March begun . whether shall meete againe , know : Therefore euerlasting farewell take : euer , euer , farewell Cassius , meete againe , shall smile ; , parting well made Cassi . euer , euer , farewell Brutus : meete againe , wee ' l smile indeede ; , ' tis true , parting well made Bru . leade . man might know end dayes businesse , ere come : sufficeth , day end , end knowne . Come ho , away . Exeunt . Alarum . Enter Brutus Messala . Bru . Ride , ride Messala , ride giue Billes Vnto Legions , side . Lowd Alarum . Let set : perceiue cold demeanor Octauio ' wing : sodaine push giues ouerthrow : Ride , ride Messala , let come downe . Exeunt . Alarums . Enter Cassius Titinius . Cassi . looke Titinius , looke , Villaines flye : selfe haue mine owne turn ' Enemy : Ensigne heere mine turning backe , slew Coward , take Titin . Cassius , Brutus gaue word early , hauing aduantage Octauius , Tooke eagerly : Soldiers fell spoyle , Whilst Antony inclos ' . Enter Pindarus . Pind . Fly Lord : flye , Mark Antony Tents Lord : Flye therefore Noble Cassius , flye farre Cassi . Hill farre enough . Looke , look Titinius Tents perceiue fire ? Tit . , Lord Cassi . Titinius , thou louest , Mount thou horse , hide thy spurres , Till haue brought thee vp yonder Troopes heere againe , may rest assur ' Whether yond Troopes , Friend Enemy Tit . heere againe , euen thought . Enter . Cassi . Go Pindarus , get higher hill , sight euer thicke : regard Titinius , tell thou ' st Field . day breathed first , Time come round , begin , shall end , life run compasse . Sirra , newes ? Pind . Aboue . Lord Cassi . newes ? Pind . Titinius enclosed round Horsemen , make Spurre , Yet spurres . almost : Titinius . light : lights . Hee ' tane . Showt . hearke , shout ioy Cassi . Come downe , behold : Coward , liue long , see best Friend tane face Enter Pindarus . Come hither sirrah : Parthia take thee Prisoner , swore thee , sauing thy life , whatsoeuer bid thee , Thou ' st attempt . Come , keepe thine oath , Free - man , good Sword ran Caesars bowels , search bosome . Stand answer : Heere , take thou Hilts , face couer ' , ' tis , Guide thou Sword - Caesar , thou art reueng ' , Euen Sword kill ' thee Pin . , free , Yet would haue beene Durst haue done . Cassius , Farre Country Pindarus shall run , neuer Roman shall take note . Enter Titinius Messala . Messa . change , Titinius : Octauius ouerthrowne Noble Brutus power , Cassius Legions Antony Titin . tydings well comfort Cassius Messa . leaue Titin . disconsolate , Pindarus Bondman , Hill Messa . lyes vpon ground ? Titin . lies like Liuing . heart ! Messa . hee ? Titin . , Messala , Cassius . setting Sunne : thy red Rayes thou doest sinke night ; red blood Cassius day set . Sunne Rome set . day gone , Clowds , Dewes , Dangers come ; deeds done : Mistrust successe hath done deed Messa . Mistrust good successe hath done deed . hatefull Error , Melancholies Childe : ' st thou shew apt thoughts men things ? Error soone conceyu ' , Thou neuer com ' st vnto happy byrth , kil ' st Mother engendred thee Tit . Pindarus ? art thou Pindarus ? Messa . Seeke Titinius , whilst go meet Noble Brutus , thrusting report eares ; may say thrusting : piercing Steele , Darts inuenomed , Shall welcome eares Brutus , tydings sight Tit . Hye Messala , seeke Pindarus : ' st thou send forth braue Cassius ? meet thy Friends , Put Browes wreath Victorie , bid giue thee ? ' st thou heare showts ? Alas , thou hast misconstrued euery thing . hold thee , take Garland thy Brow , Thy Brutus bid giue thee , bidding . Brutus , come apace , see regarded Caius Cassius : leaue Gods : Romans part , Come Cassius Sword , finde Titinius hart . Dies Alarum . Enter Brutus , Messala , yong Cato , Strato , Volumnius , Lucillius . Bru . , Messala , doth body lye ? Messa . Loe yonder , Titinius mourning Bru . Titinius face vpward Cato . slaine Bru . Iulius Caesar , thou art mighty yet , Thy Spirit walkes abroad , turnes Swords owne proper Entrailes . Low Alarums Cato . Braue Titinius , Looke haue crown ' dead Cassius Bru . yet two Romans liuing ? last Romans , far thee well : impossible , euer Rome breed thy fellow . Friends owe mo teares dead man , shall see pay . shall finde time , Cassius : shall finde time . Come therefore , Tharsus send body , Funerals shall Campe , Least discomfort vs . Lucillius come , come yong Cato , let vs Field , Labio Flauio set Battailes : ' Tis three clocke , Romans yet ere night , shall try Fortune second fight . Exeunt . Alarum . Enter Brutus , Messala , Cato , Lucillius , Flauius . Bru . Yet Country - men : yet , hold vp heads Cato . Bastard doth ? go ? proclaime name Field . Sonne Marcus Cato , hoe . Foe Tyrants , Countries Friend . Sonne Marcus Cato , hoe . Enter Souldiers , fight . Brutus , Marcus Brutus , , Brutus Countries Friend : Know Brutus Luc . yong Noble Cato , art thou downe ? thou dyest , brauely Titinius , may ' st honour ' , Cato ' Sonne Sold . Yeeld , thou dyest Luc . Onely yeeld dye : much , thou wilt kill straight : Kill Brutus , honour ' death Sold . must : Noble Prisoner . Enter Antony . 2 . Sold . Roome hoe : tell Antony , Brutus tane 1 . Sold . Ile tell thee newes . Heere comes Generall , Brutus tane , Brutus tane Lord Ant . hee ? Luc . Safe Antony , Brutus safe enough : dare assure thee , Enemy Shall euer take aliue Noble Brutus : Gods defend great shame , finde , aliue , dead , found like Brutus , like himselfe Ant . Brutus friend , assure , prize lesse worth ; keepe man safe , Giue kindnesse . rather haue men Friends , Enemies . Go , see Brutus aliue dead , bring vs word , vnto Octauius Tent : euery thing chanc ' . Exeunt . Enter Brutus , Dardanius , Clitus , Strato , Volumnius . Brut . Come poore remaines friends , rest Rocke Clit . Statillius shew ' Torch - light , Lord came backe : tane , slaine Brut . Sit thee downe , Clitus : slaying word , deed fashion . Hearke thee , Clitus Clit . , Lord ? , World Brut . Peace , words Clit . Ile rather kill selfe Brut . Hearke thee , Dardanius Dard . Shall doe deed ? Clit . Dardanius Dard . Clitus Clit . ill request Brutus make thee ? Dard . kill , Clitus : looke meditates Clit . Noble Vessell full griefe , runnes ouer euen eyes Brut . Come hither , good Volumnius , list word Volum . sayes Lord ? Brut . , Volumnius : Ghost Caesar hath appear ' Two seuerall times Night : Sardis , ; last Night , Philippi fields : know houre come Volum . , Lord Brut . Nay , sure , Volumnius . Thou seest World , Volumnius , goes , Enemies haue beat vs Pit : Low Alarums . worthy , leape selues , tarry till push vs . Good Volumnius , Thou know ' st , two went Schoole together : Euen loue old , prethee Hold thou Sword Hilts , whilest runne Vol . ' Office friend , Lord . Alarum still . Cly . Fly , flye Lord , tarrying heere Bru . Farewell , , Volumnius . Strato , thou hast bin asleepe : Farewell thee , Strato , Countrymen : heart doth ioy , yet life , found man , true . shall haue glory loosing day Octauius , Marke Antony , vile Conquest shall attaine vnto . fare well , Brutus tongue Hath almost ended liues History : Night hangs vpon mine eyes , Bones would rest , haue labour ' , attaine houre . Alarum . Cry within , Flye , flye , flye . Cly . Fly Lord , flye Bru . Hence : follow : prythee Strato , stay thou thy Lord , Thou art Fellow good respect : Thy life hath smatch Honor , Hold Sword , turne away thy face , run vpon . Wilt thou Strato ? Stra . Giue hand first . Fare wel Lord Bru . Farewell good Strato . - Caesar , still , kill ' thee halfe good . Dyes . Alarum . Retreat . Enter Antony , Octauius , Messala , Lucillius , Army . Octa . man ? Messa . Masters man . Strato , thy Master ? Stra . Free Bondage Messala , Conquerors make fire : Brutus onely ouercame himselfe , man else hath Honor death Lucil . Brutus found . thank thee Brutus thou hast prou ' Lucillius saying true , Octa . seru ' Brutus , entertaine . Fellow , wilt thou bestow thy time ? Stra . , Messala preferre Octa . , good Messala Messa . dyed Master Strato ? Stra . held Sword , run Messa . Octauius , take follow thee , latest seruice Master Ant . Noblest Roman : Conspirators saue onely hee , , enuy great Caesar : , onely generall honest thought , common good , made one . life gentle , Elements mixt , Nature might stand vp , say world ; man Octa . According Vertue , let vs vse Withall Respect , Rites Buriall . Within Tent bones night shall ly , like Souldier ordered Honourably : call Field rest , let ' away , part glories happy day . Exeunt . omnes . FINIS . TRAGEDIE IVLIVS CaeSAR .\""
      ]
     },
     "execution_count": 14,
     "metadata": {},
     "output_type": "execute_result"
    }
   ],
   "source": [
    "corpus"
   ]
  },
  {
   "cell_type": "markdown",
   "metadata": {},
   "source": [
    "## Lemmatization "
   ]
  },
  {
   "cell_type": "code",
   "execution_count": 15,
   "metadata": {},
   "outputs": [],
   "source": [
    "text = \"The cats were chasing the mice, but then they stopped because they were tired.\""
   ]
  },
  {
   "cell_type": "code",
   "execution_count": 16,
   "metadata": {},
   "outputs": [],
   "source": [
    "wordNetLem = nltk.WordNetLemmatizer()"
   ]
  },
  {
   "cell_type": "code",
   "execution_count": 17,
   "metadata": {},
   "outputs": [],
   "source": [
    "tokens = nltk.word_tokenize(text)"
   ]
  },
  {
   "cell_type": "code",
   "execution_count": 18,
   "metadata": {},
   "outputs": [
    {
     "data": {
      "text/plain": [
       "['The',\n",
       " 'cats',\n",
       " 'were',\n",
       " 'chasing',\n",
       " 'the',\n",
       " 'mice',\n",
       " ',',\n",
       " 'but',\n",
       " 'then',\n",
       " 'they',\n",
       " 'stopped',\n",
       " 'because',\n",
       " 'they',\n",
       " 'were',\n",
       " 'tired',\n",
       " '.']"
      ]
     },
     "execution_count": 18,
     "metadata": {},
     "output_type": "execute_result"
    }
   ],
   "source": [
    "tokens"
   ]
  },
  {
   "cell_type": "code",
   "execution_count": 19,
   "metadata": {},
   "outputs": [],
   "source": [
    "lemmatized = [wordNetLem.lemmatize(word) for word in tokens]"
   ]
  },
  {
   "cell_type": "code",
   "execution_count": 20,
   "metadata": {},
   "outputs": [
    {
     "data": {
      "text/plain": [
       "['The',\n",
       " 'cat',\n",
       " 'were',\n",
       " 'chasing',\n",
       " 'the',\n",
       " 'mouse',\n",
       " ',',\n",
       " 'but',\n",
       " 'then',\n",
       " 'they',\n",
       " 'stopped',\n",
       " 'because',\n",
       " 'they',\n",
       " 'were',\n",
       " 'tired',\n",
       " '.']"
      ]
     },
     "execution_count": 20,
     "metadata": {},
     "output_type": "execute_result"
    }
   ],
   "source": [
    "lemmatized"
   ]
  },
  {
   "cell_type": "markdown",
   "metadata": {},
   "source": [
    "## Stemming"
   ]
  },
  {
   "cell_type": "code",
   "execution_count": 21,
   "metadata": {},
   "outputs": [],
   "source": [
    "def stem(word):\n",
    "    regexp = r'^(.*?)(ing|ly|ed|ious|ies|ive|es|s|ment)?$'\n",
    "    stem, suffix = re.findall(regexp, word)[0]\n",
    "    return stem"
   ]
  },
  {
   "cell_type": "code",
   "execution_count": 22,
   "metadata": {},
   "outputs": [
    {
     "data": {
      "text/plain": [
       "['The',\n",
       " 'cat',\n",
       " 'were',\n",
       " 'chas',\n",
       " 'the',\n",
       " 'mice',\n",
       " ',',\n",
       " 'but',\n",
       " 'then',\n",
       " 'they',\n",
       " 'stopp',\n",
       " 'because',\n",
       " 'they',\n",
       " 'were',\n",
       " 'tir',\n",
       " '.']"
      ]
     },
     "execution_count": 22,
     "metadata": {},
     "output_type": "execute_result"
    }
   ],
   "source": [
    "[stem(t) for t in tokens]"
   ]
  },
  {
   "cell_type": "markdown",
   "metadata": {},
   "source": [
    "# Sentiment Analysis "
   ]
  },
  {
   "cell_type": "code",
   "execution_count": 23,
   "metadata": {},
   "outputs": [],
   "source": [
    "text = \"I love the beach, it's so beautiful and peaceful.\" "
   ]
  },
  {
   "cell_type": "code",
   "execution_count": 24,
   "metadata": {},
   "outputs": [],
   "source": [
    "sa = SentimentIntensityAnalyzer()"
   ]
  },
  {
   "cell_type": "code",
   "execution_count": 25,
   "metadata": {},
   "outputs": [],
   "source": [
    "sentiment = sa.polarity_scores(text)"
   ]
  },
  {
   "cell_type": "code",
   "execution_count": 26,
   "metadata": {},
   "outputs": [
    {
     "name": "stdout",
     "output_type": "stream",
     "text": [
      "{'neg': 0.0, 'neu': 0.283, 'pos': 0.717, 'compound': 0.9281}\n"
     ]
    }
   ],
   "source": [
    "print(sentiment)"
   ]
  },
  {
   "cell_type": "markdown",
   "metadata": {},
   "source": [
    "# Text Similarity "
   ]
  },
  {
   "cell_type": "code",
   "execution_count": 27,
   "metadata": {},
   "outputs": [],
   "source": [
    "def jaccard_similarity(text1, text2):\n",
    "    set1 = set(text1.split())\n",
    "    set2 = set(text2.split())\n",
    "    similarity = len(set1.intersection(set2)) / len(set1.union(set2))\n",
    "    return similarity"
   ]
  },
  {
   "cell_type": "code",
   "execution_count": 28,
   "metadata": {},
   "outputs": [],
   "source": [
    "text1 = \"The quick brown fox jumps over the lazy dog\"\n",
    "text2 = \"A quick brown dog jumps over the lazy fox\""
   ]
  },
  {
   "cell_type": "code",
   "execution_count": 29,
   "metadata": {},
   "outputs": [],
   "source": [
    "similarity = jaccard_similarity(text1, text2)"
   ]
  },
  {
   "cell_type": "code",
   "execution_count": 30,
   "metadata": {},
   "outputs": [
    {
     "name": "stdout",
     "output_type": "stream",
     "text": [
      "Jaccard similarity: 0.8\n"
     ]
    }
   ],
   "source": [
    "print(\"Jaccard similarity:\", similarity)"
   ]
  },
  {
   "cell_type": "markdown",
   "metadata": {},
   "source": [
    "# Topic Modeling"
   ]
  },
  {
   "cell_type": "code",
   "execution_count": 31,
   "metadata": {},
   "outputs": [],
   "source": [
    "doc1 = \"Sugar is bad to consume. My sister likes to have sugar, but not my father.\"\n",
    "doc2 = \"My father spends a lot of time driving my sister around to dance practice.\"\n",
    "doc3 = \"Doctors suggest that driving may cause increased stress and blood pressure.\"\n",
    "doc4 = \"Sometimes I feel pressure to perform well at school, but my father never seems to drive my sister to do better.\"\n",
    "doc5 = \"Health experts say that Sugar is not good for your lifestyle.\""
   ]
  },
  {
   "cell_type": "code",
   "execution_count": 32,
   "metadata": {},
   "outputs": [],
   "source": [
    "documents = [doc1, doc2, doc3, doc4, doc5]\n",
    "stop_words = set(gensim.parsing.preprocessing.STOPWORDS)\n",
    "texts = [[word for word in document.lower().split() if word not in stop_words] for document in documents]"
   ]
  },
  {
   "cell_type": "code",
   "execution_count": 33,
   "metadata": {},
   "outputs": [],
   "source": [
    "dictionary = corpora.Dictionary(texts)"
   ]
  },
  {
   "cell_type": "code",
   "execution_count": 34,
   "metadata": {},
   "outputs": [],
   "source": [
    "corpus = [dictionary.doc2bow(text) for text in texts]"
   ]
  },
  {
   "cell_type": "code",
   "execution_count": 35,
   "metadata": {},
   "outputs": [],
   "source": [
    "lda_model = gensim.models.ldamodel.LdaModel(corpus=corpus, id2word=dictionary, num_topics=3, random_state=100, update_every=1, chunksize=100, passes=10, alpha='auto', per_word_topics=True)"
   ]
  },
  {
   "cell_type": "code",
   "execution_count": 36,
   "metadata": {},
   "outputs": [
    {
     "name": "stderr",
     "output_type": "stream",
     "text": [
      "/home/isaiahs/anaconda3/lib/python3.9/site-packages/pyLDAvis/_prepare.py:243: FutureWarning: In a future version of pandas all arguments of DataFrame.drop except for the argument 'labels' will be keyword-only.\n",
      "  default_term_info = default_term_info.sort_values(\n"
     ]
    }
   ],
   "source": [
    "vis = pyLDAvis.gensim.prepare(lda_model, corpus, dictionary)"
   ]
  },
  {
   "cell_type": "code",
   "execution_count": 37,
   "metadata": {},
   "outputs": [
    {
     "data": {
      "text/plain": [
       "PreparedData(topic_coordinates=              x         y  topics  cluster       Freq\n",
       "topic                                                \n",
       "0     -0.092646 -0.017806       1        1  44.385205\n",
       "2      0.069337 -0.044857       2        1  36.036093\n",
       "1      0.023309  0.062664       3        1  19.578703, topic_info=        Term      Freq     Total Category  logprob  loglift\n",
       "0        bad  0.000000  0.000000  Default  30.0000  30.0000\n",
       "6     sugar,  0.000000  0.000000  Default  29.0000  29.0000\n",
       "1   consume.  0.000000  0.000000  Default  28.0000  28.0000\n",
       "3      likes  0.000000  0.000000  Default  27.0000  27.0000\n",
       "2    father.  0.000000  0.000000  Default  26.0000  26.0000\n",
       "..       ...       ...       ...      ...      ...      ...\n",
       "7      dance  0.135562  1.129920   Topic3  -3.9511  -0.4897\n",
       "12    spends  0.135561  1.129921   Topic3  -3.9511  -0.4898\n",
       "13      time  0.135559  1.129921   Topic3  -3.9511  -0.4898\n",
       "9     father  0.135646  1.685889   Topic3  -3.9505  -0.8893\n",
       "8    driving  0.135615  1.736691   Topic3  -3.9507  -0.9192\n",
       "\n",
       "[123 rows x 6 columns], token_table=      Topic      Freq        Term\n",
       "term                             \n",
       "0         3  1.075537         bad\n",
       "21        2  0.926676     better.\n",
       "14        1  0.885027       blood\n",
       "15        1  0.885023       cause\n",
       "1         3  1.075527    consume.\n",
       "7         1  0.885018       dance\n",
       "16        1  0.885027     doctors\n",
       "22        2  0.926673       drive\n",
       "8         1  0.575808     driving\n",
       "27        2  0.926681     experts\n",
       "9         1  0.593159      father\n",
       "9         2  0.593159      father\n",
       "2         3  1.075506     father.\n",
       "23        2  0.926673        feel\n",
       "28        2  0.926683        good\n",
       "29        2  0.926685      health\n",
       "17        1  0.885024   increased\n",
       "30        2  0.926677  lifestyle.\n",
       "3         3  1.075523       likes\n",
       "10        1  0.885026         lot\n",
       "24        2  0.926673     perform\n",
       "11        1  0.885032   practice.\n",
       "25        2  0.926679    pressure\n",
       "18        1  0.885025   pressure.\n",
       "26        2  0.926675     school,\n",
       "4         1  0.477884      sister\n",
       "4         2  0.477884      sister\n",
       "4         3  0.477884      sister\n",
       "12        1  0.885018      spends\n",
       "19        1  0.885028      stress\n",
       "5         2  0.673049       sugar\n",
       "5         3  0.673049       sugar\n",
       "6         3  1.075533      sugar,\n",
       "20        1  0.885021     suggest\n",
       "13        1  0.885017        time, R=30, lambda_step=0.01, plot_opts={'xlab': 'PC1', 'ylab': 'PC2'}, topic_order=[1, 3, 2])"
      ]
     },
     "execution_count": 37,
     "metadata": {},
     "output_type": "execute_result"
    }
   ],
   "source": [
    "vis"
   ]
  },
  {
   "attachments": {},
   "cell_type": "markdown",
   "metadata": {},
   "source": [
    "# Summarization "
   ]
  },
  {
   "cell_type": "code",
   "execution_count": 38,
   "metadata": {},
   "outputs": [],
   "source": [
    "text = \"The United States, UK and other Western allies are scrutinising China's growing influence on a host of international organisations including the United Nations, where China is increasingly flexing its muscles in peacekeeping and humanitarian operations. China is also dominating agencies including the World Health Organization and the International Civil Aviation Organization. China's weight in these organisations is in contrast to a drop in US influence under President Donald Trump. China's influence at the UN is amplified by US disengagement under President Trump. One particular example is the World Intellectual Property Organization, where Beijing-backed candidate Daren Tang was elected director-general in March, beating out US-backed candidates. The US has complained that China is undercutting global standards for intellectual property rights.\""
   ]
  },
  {
   "cell_type": "code",
   "execution_count": 39,
   "metadata": {},
   "outputs": [],
   "source": [
    "parser = PlaintextParser.from_string(text, Tokenizer(\"english\"))"
   ]
  },
  {
   "cell_type": "code",
   "execution_count": 40,
   "metadata": {},
   "outputs": [],
   "source": [
    "summarizer = LsaSummarizer()\n",
    "summarizer.stop_words = get_stop_words(\"english\")\n",
    "summary = summarizer(parser.document, sentences_count=2)"
   ]
  },
  {
   "cell_type": "code",
   "execution_count": 41,
   "metadata": {},
   "outputs": [
    {
     "data": {
      "text/plain": [
       "(<Sentence: The United States, UK and other Western allies are scrutinising China's growing influence on a host of international organisations including the United Nations, where China is increasingly flexing its muscles in peacekeeping and humanitarian operations.>,\n",
       " <Sentence: One particular example is the World Intellectual Property Organization, where Beijing-backed candidate Daren Tang was elected director-general in March, beating out US-backed candidates.>)"
      ]
     },
     "execution_count": 41,
     "metadata": {},
     "output_type": "execute_result"
    }
   ],
   "source": [
    "summary"
   ]
  },
  {
   "cell_type": "markdown",
   "metadata": {},
   "source": [
    "# Source Code Summarization - Naive Classification"
   ]
  },
  {
   "cell_type": "code",
   "execution_count": 42,
   "metadata": {},
   "outputs": [],
   "source": [
    "def function_features(function):\n",
    "    \n",
    "    features = {}\n",
    "    \n",
    "    features[\"function_name\"] = function.replace(\"_\",\"\").lower()\n",
    "    \n",
    "    features[\"parts_of_speech\"] = tuple(nltk.pos_tag(nltk.word_tokenize(function.replace(\"_\",\" \").lower())))\n",
    "    \n",
    "    return features"
   ]
  },
  {
   "cell_type": "code",
   "execution_count": 43,
   "metadata": {},
   "outputs": [],
   "source": [
    "data = pd.read_csv(\"mldata.csv\")"
   ]
  },
  {
   "cell_type": "code",
   "execution_count": 44,
   "metadata": {},
   "outputs": [],
   "source": [
    "data = pd.DataFrame.dropna(data)"
   ]
  },
  {
   "cell_type": "code",
   "execution_count": 45,
   "metadata": {},
   "outputs": [],
   "source": [
    "function_names = data[\"Function Name\"].tolist()"
   ]
  },
  {
   "cell_type": "code",
   "execution_count": 46,
   "metadata": {},
   "outputs": [],
   "source": [
    "function_class = data[\"Statement\"].tolist()"
   ]
  },
  {
   "cell_type": "code",
   "execution_count": 47,
   "metadata": {},
   "outputs": [],
   "source": [
    "labeled_functions = [(a) for a in zip(function_names, function_class)]"
   ]
  },
  {
   "cell_type": "code",
   "execution_count": 48,
   "metadata": {},
   "outputs": [],
   "source": [
    "random.shuffle(labeled_functions)"
   ]
  },
  {
   "cell_type": "code",
   "execution_count": 49,
   "metadata": {},
   "outputs": [],
   "source": [
    "featuresets = [(function_features(function_names), function_class) for (function_names,function_class) in labeled_functions]"
   ]
  },
  {
   "cell_type": "code",
   "execution_count": 50,
   "metadata": {},
   "outputs": [],
   "source": [
    "train_set = featuresets[:28]"
   ]
  },
  {
   "cell_type": "code",
   "execution_count": 51,
   "metadata": {},
   "outputs": [],
   "source": [
    "test_set = featuresets[28:]"
   ]
  },
  {
   "cell_type": "code",
   "execution_count": 52,
   "metadata": {},
   "outputs": [],
   "source": [
    "classifier = nltk.NaiveBayesClassifier.train(train_set)"
   ]
  },
  {
   "cell_type": "code",
   "execution_count": 53,
   "metadata": {},
   "outputs": [
    {
     "data": {
      "text/plain": [
       "'Performs a calculation'"
      ]
     },
     "execution_count": 53,
     "metadata": {},
     "output_type": "execute_result"
    }
   ],
   "source": [
    "classifier.classify(function_features('twoplustwo'))"
   ]
  },
  {
   "cell_type": "code",
   "execution_count": 54,
   "metadata": {},
   "outputs": [
    {
     "data": {
      "text/plain": [
       "0.4"
      ]
     },
     "execution_count": 54,
     "metadata": {},
     "output_type": "execute_result"
    }
   ],
   "source": [
    "nltk.classify.accuracy(classifier, test_set)"
   ]
  },
  {
   "cell_type": "code",
   "execution_count": 55,
   "metadata": {},
   "outputs": [],
   "source": [
    "def showInfo(functionNode):\n",
    "    print(\"Method name:\", functionNode.name)\n",
    "    print(\"Arguments: \", end=\"\")\n",
    "\n",
    "    args = []\n",
    "    for arg in functionNode.args.args:\n",
    "        args.append(arg.arg)\n",
    "\n",
    "    print(\", \".join(args))\n",
    "    print()"
   ]
  },
  {
   "cell_type": "code",
   "execution_count": 56,
   "metadata": {},
   "outputs": [],
   "source": [
    "sourceFileName = input(\"Enter name of source file: \")"
   ]
  },
  {
   "cell_type": "code",
   "execution_count": 57,
   "metadata": {},
   "outputs": [],
   "source": [
    "with open(sourceFileName) as file:\n",
    "    node = ast.parse(file.read())"
   ]
  },
  {
   "cell_type": "code",
   "execution_count": 58,
   "metadata": {},
   "outputs": [],
   "source": [
    "functions = [n for n in node.body if isinstance(n, ast.FunctionDef)]"
   ]
  },
  {
   "cell_type": "code",
   "execution_count": 59,
   "metadata": {},
   "outputs": [],
   "source": [
    "classes = [n for n in node.body if isinstance(n, ast.ClassDef)]"
   ]
  },
  {
   "cell_type": "code",
   "execution_count": 60,
   "metadata": {},
   "outputs": [
    {
     "name": "stdout",
     "output_type": "stream",
     "text": [
      "Method name: parse_args\n",
      "Arguments: argv\n",
      "\n",
      "Method name: readCsv\n",
      "Arguments: path\n",
      "\n",
      "Method name: writeCsv\n",
      "Arguments: data, LANGUAGE, SENTENCES_COUNT\n",
      "\n",
      "Method name: processCsv\n",
      "Arguments: path, LANGUAGE, SENTENCES_COUNT\n",
      "\n",
      "Method name: main\n",
      "Arguments: argv\n",
      "\n"
     ]
    }
   ],
   "source": [
    "for function in functions:\n",
    "    showInfo(function)"
   ]
  },
  {
   "cell_type": "code",
   "execution_count": 61,
   "metadata": {},
   "outputs": [],
   "source": [
    "methods = None"
   ]
  },
  {
   "cell_type": "code",
   "execution_count": 62,
   "metadata": {},
   "outputs": [],
   "source": [
    "for c in classes:\n",
    "    print(\"Class name:\", c.name)\n",
    "\n",
    "    methods = [n for n in c.body if isinstance(n, ast.FunctionDef)]\n",
    "\n",
    "    for method in methods:\n",
    "        showInfo(method)"
   ]
  },
  {
   "cell_type": "code",
   "execution_count": 63,
   "metadata": {},
   "outputs": [
    {
     "name": "stdout",
     "output_type": "stream",
     "text": [
      "parse_args: Performs a calculation\n",
      "readCsv: Performs a calculation\n",
      "writeCsv: Performs a calculation\n",
      "processCsv: Performs a calculation\n",
      "main: Performs a calculation\n"
     ]
    }
   ],
   "source": [
    "for function in functions:\n",
    "    print(function.name + \": \" + classifier.classify(function_features(function.name)))"
   ]
  },
  {
   "cell_type": "code",
   "execution_count": 64,
   "metadata": {},
   "outputs": [],
   "source": [
    "if methods != None:\n",
    "    for function in methods:\n",
    "        print(function.name + \": \" + classifier.classify(function_features(function.name)))"
   ]
  }
 ],
 "metadata": {
  "kernelspec": {
   "display_name": "Python 3 (ipykernel)",
   "language": "python",
   "name": "python3"
  },
  "language_info": {
   "codemirror_mode": {
    "name": "ipython",
    "version": 3
   },
   "file_extension": ".py",
   "mimetype": "text/x-python",
   "name": "python",
   "nbconvert_exporter": "python",
   "pygments_lexer": "ipython3",
   "version": "3.9.12"
  }
 },
 "nbformat": 4,
 "nbformat_minor": 4
}
